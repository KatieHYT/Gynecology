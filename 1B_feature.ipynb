{
 "cells": [
  {
   "cell_type": "code",
   "execution_count": 1,
   "metadata": {},
   "outputs": [
    {
     "name": "stderr",
     "output_type": "stream",
     "text": [
      "/usr/local/lib/python3.5/dist-packages/h5py/__init__.py:36: FutureWarning: Conversion of the second argument of issubdtype from `float` to `np.floating` is deprecated. In future, it will be treated as `np.float64 == np.dtype(float).type`.\n",
      "  from ._conv import register_converters as _register_converters\n",
      "Using TensorFlow backend.\n"
     ]
    }
   ],
   "source": [
    "import os\n",
    "import sys\n",
    "from datetime import datetime\n",
    "import keras\n",
    "\n",
    "import argparse\n",
    "import numpy as np\n",
    "import pandas as pd\n",
    "import matplotlib\n",
    "matplotlib.use('Agg')\n",
    "import matplotlib.pyplot as plt\n",
    "get_ipython().run_line_magic('matplotlib', 'inline')\n",
    "\n",
    "from keras.models import Model, load_model\n",
    "from keras.callbacks import ModelCheckpoint, CSVLogger, ReduceLROnPlateau, EarlyStopping, TensorBoard\n",
    "from keras.optimizers import Adam, SGD, Adamax\n",
    "import keras.backend as K\n",
    "\n",
    "from sklearn.metrics import confusion_matrix, classification_report, accuracy_score, f1_score, precision_score, recall_score\n",
    "\n",
    "from sklearn.model_selection import train_test_split\n",
    "from sklearn.utils.class_weight import compute_class_weight\n",
    "\n",
    "from func import * "
   ]
  },
  {
   "cell_type": "code",
   "execution_count": 2,
   "metadata": {},
   "outputs": [],
   "source": [
    "# path = '/home/katieyth/gynecology/model_save/management/management_181225153555'\n",
    "# path = '/home/katieyth/gynecology/model_save/UA/UA_181225153657'\n",
    "# path = '/home/katieyth/gynecology/model_save/variability/variability_181225153624'\n",
    "# path = '/home/katieyth/gynecology/model_save/deceleration/deceleration_181225153736'\n",
    "\n",
    "path = '/home/katieyth/gynecology/model_save/multi/multi_190118211950' #0.98\n",
    "# path = '/home/katieyth/gynecology/model_save/multi/multi_190119002910'\n",
    "\n",
    "\n",
    "\n",
    "\n",
    "\n"
   ]
  },
  {
   "cell_type": "code",
   "execution_count": 3,
   "metadata": {
    "code_folding": []
   },
   "outputs": [],
   "source": [
    "#### parser\n",
    "parser = argparse.ArgumentParser()\n",
    "parser.add_argument('-s' ,'--model_save', type=str, default='/home/katieyth/gynecology/model_save/', help='model save path')\n",
    "parser.add_argument('-y' ,'--target', type=str, default='multi', help='prediction target')\n",
    "parser.add_argument('-cv_path' ,'--cv_path', type=str, default='/home/katieyth/gynecology/data/5_fold_CTU_rs_13/', help='cv_path')\n",
    "\n",
    " \n",
    "# input parameter\n",
    "parser.add_argument('-th','--acceptable_zeros_threshold', type=float, default=200, help='acceptable number of missing values in raw data')\n",
    "parser.add_argument('-l' ,'--length', type=int, default=600, help='length of input')\n",
    "parser.add_argument('-ks','--k_slice', type=int, default=1, help='a input will be sliced into k_slice segments when testing')\n",
    "parser.add_argument('-c' ,'--n_channel', type=int, default=2, help='number of input channels')\n",
    "parser.add_argument('-rn','--random_noise', type=int, default=0, help='add Gaussian noise (mean=0, std=0.01) into inputs')\n",
    "parser.add_argument('-nm','--normalized', type=int, default=1, help='whether conduct channel-wise normalization')\n",
    "\n",
    "# data augmentation \n",
    "parser.add_argument('-aug_fliplr' ,'--aug_fliplr', type=int, default=0, help='reverse time series')\n",
    "parser.add_argument('-shift' ,'--DA_Shift', type=int, default=1, help='')\n",
    "parser.add_argument('-scale' ,'--DA_Scale', type=int, default=1, help='')\n",
    "parser.add_argument('-randsamp' ,'--DA_RandSampling', type=int, default=1, help='')\n",
    "\n",
    "\n",
    "# model parameters\n",
    "parser.add_argument('-struc' ,'--struc', type=str, default='multi_task_FHB', help='deeper or shallower')\n",
    "parser.add_argument('-k' ,'--kernel_size', type=int, default=3, help='kernel size')\n",
    "parser.add_argument('-f' ,'--filters', type=int, default=64, help='base number of filters')\n",
    "parser.add_argument('-ly' ,'--layers', type=int, default=5, help='number of residual layers')\n",
    "parser.add_argument('-a' ,'--activation', type=str, default='relu', help='activation function')\n",
    "parser.add_argument('-i' ,'--kernel_initializer', type=str, default='RandomNormal', help='kernel initialization method')\n",
    "parser.add_argument('-l2','--l2', type=float, default=0.01, help='coefficient of l2 regularization')\n",
    "\n",
    "# hyper-parameters\n",
    "parser.add_argument('-lr','--learning_rate', type=float, default=1e-4, help='learning_rate')\n",
    "parser.add_argument('-reduce_lr_patience','--reduce_lr_patience', type=int, default=50, help='reduce_lr_patience')\n",
    "parser.add_argument('-bs','--batch_size', type=int, default=27, help='batch_size')\n",
    "parser.add_argument('-ep','--epoch', type=int, default=15, help='epoch')\n",
    "parser.add_argument('-wb','--weight_balance', type=int, default=1, help='whether weight balancing or not')\n",
    "parser.add_argument('-mntr','--monitor', type=str, default='val_man_acc', help='val_acc or val_loss')\n",
    "\n",
    "parser.add_argument('-g' ,'--gpu_id', type=str, default='2', help='GPU ID')\n",
    "parser.add_argument('-fd' ,'--fold', type=int, default=5, help='fold')\n",
    "parser.add_argument('-fn' ,'--summary_file', type=str, default='', help='summary filename')\n",
    "\n",
    "FLAG = parser.parse_args([])\n",
    "os.environ['CUDA_VISIBLE_DEVICES'] = FLAG.gpu_id"
   ]
  },
  {
   "cell_type": "code",
   "execution_count": 4,
   "metadata": {
    "code_folding": [
     0
    ]
   },
   "outputs": [],
   "source": [
    "def data_preprocess_test(Xvalid, Yvalid, length=600):\n",
    "    Xtest = np.empty((Xvalid.shape[0], length, Xvalid.shape[2]))\n",
    "    for i in range(Xvalid.shape[0]):\n",
    "        Xtest[i,:,:] = data_normalize(Xvalid[i,0:600,:])\n",
    "    Ytest = Yvalid.copy()\n",
    "    return Xtest, Ytest"
   ]
  },
  {
   "cell_type": "code",
   "execution_count": 5,
   "metadata": {
    "code_folding": []
   },
   "outputs": [
    {
     "name": "stdout",
     "output_type": "stream",
     "text": [
      "class weight: {0: 0.7183098591549296, 1: 1.146067415730337, 2: 1.36}\n",
      "class weight: {0: 5.464285714285714, 1: 0.5503597122302158}\n",
      "class weight: {0: 0.5257731958762887, 1: 10.2}\n",
      "class weight: {0: 2.8333333333333335, 1: 4.5, 2: 0.298828125, 3: 12.75}\n",
      "class weight: {0: 0.5503597122302158, 1: 5.464285714285714}\n",
      "train: 306\n",
      "test: 70\n"
     ]
    }
   ],
   "source": [
    "### data preparing\n",
    "train_d = pd.read_csv(os.path.join(FLAG.cv_path, '5_fold_0%s_train.csv' %(FLAG.fold)))\n",
    "valid_d = pd.read_csv(os.path.join(FLAG.cv_path, '5_fold_0%s_test.csv' %(FLAG.fold)))\n",
    "\n",
    "# replace 0 (no readings) with np.nan for later substitution\n",
    "for k in train_d.columns:\n",
    "    if 'b-' in k or 'm-' in k:\n",
    "        print(k, end='\\r')\n",
    "        train_d.loc[train_d[k]==0, k] = np.nan\n",
    "for k in valid_d.columns:\n",
    "    if 'b-' in k or 'm-' in k:\n",
    "        print(k, end='\\r')\n",
    "        valid_d.loc[valid_d[k]==0, k] = np.nan\n",
    "\n",
    "    \n",
    "# interpolate missing values\n",
    "train_db = np.array(train_d[[k for k in train_d.columns if 'b-' in k]].interpolate(limit_direction='both', axis=1), dtype=np.float)\n",
    "train_dm = np.array(train_d[[k for k in train_d.columns if 'm-' in k]].interpolate(limit_direction='both', axis=1), dtype=np.float)\n",
    "valid_db = np.array(valid_d[[k for k in valid_d.columns if 'b-' in k]].interpolate(limit_direction='both', axis=1), dtype=np.float)\n",
    "valid_dm = np.array(valid_d[[k for k in valid_d.columns if 'm-' in k]].interpolate(limit_direction='both', axis=1), dtype=np.float)\n",
    "# combine signals from baby and mom\n",
    "Xtrain = np.stack([train_db, train_dm], axis=2)\n",
    "Xvalid = np.stack([valid_db, valid_dm], axis=2)\n",
    "\n",
    "# convert labels to one-hot encodings\n",
    "target_list = ['management', 'UA', 'variability', 'deceleration', 'FHB_class']\n",
    "target_dict = {'management':3,\n",
    "               'UA':2,\n",
    "               'variability':2,\n",
    "               'deceleration':4,\n",
    "               'FHB_class':4}\n",
    "Ytrain = [(keras.utils.to_categorical(np.array(train_d[c_name]),num_classes=target_dict[c_name])) for c_name in target_list]\n",
    "Yvalid = [(keras.utils.to_categorical(np.array(valid_d[c_name]),num_classes=target_dict[c_name])) for c_name in target_list]\n",
    "\n",
    "#weight balancing or not\n",
    "if FLAG.weight_balance:\n",
    "    weight_list = []\n",
    "    for idx, c_name in enumerate(target_list):\n",
    "        y_integers = np.argmax(Ytrain[idx], axis=1)\n",
    "        d_class_weight = compute_class_weight('balanced', np.unique(y_integers), y_integers)\n",
    "        class_weight = dict(enumerate(d_class_weight))\n",
    "        print('class weight: {0}'.format(class_weight))\n",
    "        weight_list.append(class_weight)\n",
    "else:\n",
    "    weight_list = []\n",
    "    for idx, c_name in enumerate(target_list):\n",
    "        class_weight = dict()\n",
    "        for i in range(target_dict[c_name]):\n",
    "            class_weight[i] = 1\n",
    "        print('class weight: {0}'.format(class_weight))\n",
    "        weight_list.append(class_weight)\n",
    "\n",
    "Xtest, Ytest =data_preprocess_test(Xvalid, Yvalid)\n",
    "\n",
    "\n",
    "if FLAG.aug_fliplr:\n",
    "    Xtrain_copy = Xtrain.copy()\n",
    "    for i in range(len(Xtrain)):\n",
    "        Xtrain_copy[i] = np.fliplr([Xtrain[i]])[0]\n",
    "        print(i,'/',len(Xtrain), end= '\\r')\n",
    "    Xtrain = np.vstack((Xtrain, Xtrain_copy))\n",
    "    Ytrain = np.vstack((Ytrain, Ytrain))\n",
    "\n",
    "print('train:', len(train_d))\n",
    "print('test:', len(valid_d))"
   ]
  },
  {
   "cell_type": "code",
   "execution_count": 6,
   "metadata": {},
   "outputs": [],
   "source": [
    "if FLAG.struc =='deeper':\n",
    "    from model_multitask_more import build_model\n",
    "elif FLAG.struc =='shallower':\n",
    "    from model_multitask import build_model\n",
    "elif FLAG.struc =='man_concat':\n",
    "    from model_multitask_more_concat import build_model\n",
    "elif FLAG.struc =='man_concat_shallower':\n",
    "    from model_multitask_more_concat_shallower import build_model\n",
    "elif FLAG.struc =='mimic_previous':\n",
    "    from model_multitask_more_concat_mimic_previous import build_model\n",
    "elif FLAG.struc =='mimic_previous_FHB':\n",
    "    from model_multitask_more_concat_mimic_previous_FHB import build_model\n",
    "elif FLAG.struc =='multi_task_FHB':\n",
    "    from model_multitask_more_FHB import build_model"
   ]
  },
  {
   "cell_type": "code",
   "execution_count": 7,
   "metadata": {},
   "outputs": [],
   "source": [
    "# evaluate by trained model\n",
    "trained_model = load_model(os.path.join(path,'model.h5'))\n",
    "Pred = trained_model.predict(Xtest)"
   ]
  },
  {
   "cell_type": "markdown",
   "metadata": {},
   "source": [
    "# test model performance"
   ]
  },
  {
   "cell_type": "code",
   "execution_count": 8,
   "metadata": {
    "code_folding": []
   },
   "outputs": [
    {
     "name": "stdout",
     "output_type": "stream",
     "text": [
      "management accuracy :  0.38571428571428573\n",
      "management_recall-0 : 0.5758\n",
      "management_recall-1 : 0.3500\n",
      "management_recall-2 : 0.0588\n",
      "management_recall-average : 0.3282\n",
      "management_precision-0: 0.4750\n",
      "management_precision-1: 0.2500\n",
      "management_precision-2: 0.5000\n",
      "management_precision-average : 0.4083\n",
      "management_F1-0: 0.5205\n",
      "management_F1-1: 0.2917\n",
      "management_F1-2: 0.1053\n",
      "management_F1-average : 0.3058\n",
      "Confusion matrix, without normalization\n",
      "[[19 14  0]\n",
      " [12  7  1]\n",
      " [ 9  7  1]]\n",
      "UA accuracy :  0.9\n",
      "UA_recall-0 : 0.2000\n",
      "UA_recall-1 : 0.9538\n",
      "UA_recall-average : 0.5769\n",
      "UA_precision-0: 0.2500\n",
      "UA_precision-1: 0.9394\n",
      "UA_precision-average : 0.5947\n",
      "UA_F1-0: 0.2222\n",
      "UA_F1-1: 0.9466\n",
      "UA_F1-average : 0.5844\n",
      "Confusion matrix, without normalization\n",
      "[[ 1  4]\n",
      " [ 3 62]]\n",
      "variability accuracy :  0.9714285714285714\n",
      "variability_recall-0 : 0.9855\n",
      "variability_recall-1 : 0.0000\n",
      "variability_recall-average : 0.4928\n",
      "variability_precision-0: 0.9855\n",
      "variability_precision-1: 0.0000\n",
      "variability_precision-average : 0.4928\n",
      "variability_F1-0: 0.9855\n",
      "variability_F1-1: 0.0000\n",
      "variability_F1-average : 0.4928\n",
      "Confusion matrix, without normalization\n",
      "[[68  1]\n",
      " [ 1  0]]\n",
      "deceleration accuracy :  0.7714285714285715\n",
      "deceleration_recall-0 : 0.6667\n",
      "deceleration_recall-1 : 0.2500\n",
      "deceleration_recall-2 : 0.8333\n",
      "deceleration_recall-3 : 0.3333\n",
      "deceleration_recall-average : 0.5208\n",
      "deceleration_precision-0: 0.2857\n",
      "deceleration_precision-1: 0.1250\n",
      "deceleration_precision-2: 0.9259\n",
      "deceleration_precision-3: 1.0000\n",
      "deceleration_precision-average : 0.5842\n",
      "deceleration_F1-0: 0.4000\n",
      "deceleration_F1-1: 0.1667\n",
      "deceleration_F1-2: 0.8772\n",
      "deceleration_F1-3: 0.5000\n",
      "deceleration_F1-average : 0.4860\n",
      "Confusion matrix, without normalization\n",
      "[[ 2  0  1  0]\n",
      " [ 1  1  2  0]\n",
      " [ 3  7 50  0]\n",
      " [ 1  0  1  1]]\n",
      "FHB accuracy :  0.9285714285714286\n",
      "FHB_recall-0 : 1.0000\n",
      "FHB_recall-1 : 0.0000\n",
      "FHB_recall-average : 0.5000\n",
      "FHB_precision-0: 0.9286\n",
      "FHB_precision-1: nan\n",
      "FHB_precision-average : nan\n",
      "FHB_F1-0: 0.9630\n",
      "FHB_F1-1: 0.0000\n",
      "FHB_F1-average : 0.4815\n",
      "Confusion matrix, without normalization\n",
      "[[65  0]\n",
      " [ 5  0]]\n",
      "management_2_recall-0 : 0.5758\n",
      "management_2_recall-1 : 0.4324\n",
      "management_2_recall-average : 0.5041\n",
      "management_2_precision-0: 0.4750\n",
      "management_2_precision-1: 0.5333\n",
      "management_2_precision-average : 0.5042\n",
      "management_2_F1-0: 0.5205\n"
     ]
    },
    {
     "name": "stderr",
     "output_type": "stream",
     "text": [
      "/usr/local/lib/python3.5/dist-packages/ipykernel_launcher.py:8: RuntimeWarning: invalid value encountered in true_divide\n",
      "  \n",
      "/usr/local/lib/python3.5/dist-packages/sklearn/metrics/classification.py:1135: UndefinedMetricWarning: F-score is ill-defined and being set to 0.0 in labels with no predicted samples.\n",
      "  'precision', 'predicted', average, warn_for)\n"
     ]
    },
    {
     "name": "stdout",
     "output_type": "stream",
     "text": [
      "management_2_F1-1: 0.4776\n",
      "management_2_F1-average : 0.4991\n",
      "Confusion matrix, without normalization\n",
      "[[19 14]\n",
      " [21 16]]\n"
     ]
    },
    {
     "data": {
      "image/png": "[encoded data removed]",
      "text/plain": [
       "<matplotlib.figure.Figure at 0x7fbfe87d29e8>"
      ]
     },
     "metadata": {},
     "output_type": "display_data"
    },
    {
     "data": {
      "image/png": "[encoded data removed]",
      "text/plain": [
       "<matplotlib.figure.Figure at 0x7fbf59cd95c0>"
      ]
     },
     "metadata": {},
     "output_type": "display_data"
    },
    {
     "data": {
      "image/png": "[encoded data removed]",
      "text/plain": [
       "<matplotlib.figure.Figure at 0x7fbf59bb3710>"
      ]
     },
     "metadata": {},
     "output_type": "display_data"
    },
    {
     "data": {
      "image/png": "[encoded data removed]",
      "text/plain": [
       "<matplotlib.figure.Figure at 0x7fbf59a83048>"
      ]
     },
     "metadata": {},
     "output_type": "display_data"
    },
    {
     "data": {
      "image/png": "[encoded data removed]",
      "text/plain": [
       "<matplotlib.figure.Figure at 0x7fbf59cd9278>"
      ]
     },
     "metadata": {},
     "output_type": "display_data"
    },
    {
     "data": {
      "image/png": "[encoded data removed]",
      "text/plain": [
       "<matplotlib.figure.Figure at 0x7fbf59cd9710>"
      ]
     },
     "metadata": {},
     "output_type": "display_data"
    }
   ],
   "source": [
    "c_list = ['management', 'UA', 'variability', 'deceleration', 'FHB']\n",
    "for c in range(len(c_list)):\n",
    "    ypred_aug = np.argmax(Pred[c] , axis=1)\n",
    "    ytest_aug = np.argmax(Ytest[c], axis=1)\n",
    "\n",
    "    cfm = confusion_matrix(y_pred=ypred_aug, y_true=ytest_aug)\n",
    "    recall = np.diag(cfm) / np.sum(cfm, axis=1)\n",
    "    precision = np.diag(cfm) / np.sum(cfm, axis=0)\n",
    "    val_accu = accuracy_score(y_pred=ypred_aug, y_true=ytest_aug)\n",
    "    f1 = f1_score(y_pred=ypred_aug, y_true=ytest_aug, average=None)\n",
    "#         _val_recall = recall_score(val_targ, val_predict, average=None)\n",
    "#         _val_precision = precision_score(val_targ, val_predict, average=None)\n",
    "    \n",
    "    \n",
    "\n",
    "    print('%s accuracy : ' % (c_list[c]), val_accu)\n",
    "    tmp_list = []\n",
    "    for i in range(len(recall)):\n",
    "        print('%s_recall-%d : %.4f' %(c_list[c],i, recall[i]))\n",
    "        tmp_list.append(recall[i])\n",
    "    print('%s_recall-average : %.4f' %(c_list[c], sum(tmp_list)/len(tmp_list)))\n",
    "    \n",
    "    tmp_list = []\n",
    "    for i in range(len(precision)):\n",
    "        print('%s_precision-%d: %.4f' % (c_list[c],i, precision[i]))\n",
    "        tmp_list.append(precision[i])\n",
    "    print('%s_precision-average : %.4f' %(c_list[c], sum(tmp_list)/len(tmp_list)))\n",
    "    \n",
    "    tmp_list = []\n",
    "    for i in range(len(f1)):\n",
    "        print('%s_F1-%d: %.4f' % (c_list[c],i, f1[i]))\n",
    "        tmp_list.append(f1[i])\n",
    "    print('%s_F1-average : %.4f' %(c_list[c], sum(tmp_list)/len(tmp_list)))\n",
    "    \n",
    "\n",
    "    plt.figure()\n",
    "    rcl = [round(recall[i],2) for i in range(len(recall))]\n",
    "    plot_confusion_matrix(cfm, classes=np.arange(len(recall)),\n",
    "                          title='%s acc: %.2f \\nrecall: %s' %(c_list[c], val_accu,rcl),\n",
    "                          save_dir='' )\n",
    "# force management to 2 label \n",
    "c_list = ['management_2']\n",
    "for idx, c in enumerate([0]):\n",
    "    # evaluate by every segment\n",
    "    ypred_aug = np.argmax(Pred[c] , axis=1)\n",
    "    ytest_aug = np.argmax(Ytest[c], axis=1)\n",
    "    ypred_aug[ypred_aug>1]=1\n",
    "    ytest_aug[ytest_aug>1]=1\n",
    "\n",
    "    cfm = confusion_matrix(y_pred=ypred_aug, y_true=ytest_aug)\n",
    "    recall = np.diag(cfm) / np.sum(cfm, axis=1)\n",
    "    precision = np.diag(cfm) / np.sum(cfm, axis=0)\n",
    "    val_accu = accuracy_score(y_pred=ypred_aug, y_true=ytest_aug)\n",
    "    f1 = f1_score(y_pred=ypred_aug, y_true=ytest_aug, average=None)\n",
    "    \n",
    "    tmp_list = []\n",
    "    for i in range(len(recall)):\n",
    "        print('%s_recall-%d : %.4f' %(c_list[idx],i, recall[i]))\n",
    "        tmp_list.append(recall[i])\n",
    "    print('%s_recall-average : %.4f' %(c_list[idx], sum(tmp_list)/len(tmp_list)))\n",
    "    \n",
    "    tmp_list = []\n",
    "    for i in range(len(precision)):\n",
    "        print('%s_precision-%d: %.4f' % (c_list[idx],i, precision[i]))\n",
    "        tmp_list.append(precision[i])\n",
    "    print('%s_precision-average : %.4f' %(c_list[idx], sum(tmp_list)/len(tmp_list)))\n",
    "    \n",
    "    tmp_list = []\n",
    "    for i in range(len(f1)):\n",
    "        print('%s_F1-%d: %.4f' % (c_list[idx],i, f1[i]))\n",
    "        tmp_list.append(f1[i])\n",
    "    print('%s_F1-average : %.4f' %(c_list[idx], sum(tmp_list)/len(tmp_list)))\n",
    "    \n",
    "\n",
    "    plt.figure()\n",
    "    rcl = [round(recall[i],2) for i in range(len(recall))]\n",
    "    plot_confusion_matrix(cfm, classes=np.arange(len(recall)), \n",
    "                          title='%s acc: %.2f \\nrecall: %s' %(c_list[idx], val_accu,rcl),\n",
    "                          save_dir='' )\n"
   ]
  },
  {
   "cell_type": "code",
   "execution_count": 9,
   "metadata": {
    "code_folding": [
     0
    ]
   },
   "outputs": [],
   "source": [
    "def plot_keras_csv_logger(csv_logger, save_dir='', accuracy=False, gradient=False):\n",
    "    if type(csv_logger) is str:\n",
    "        loss = pd.read_table(csv_logger, delimiter=',')\n",
    "    else:\n",
    "        loss = pd.read_table(csv_logger.filename, delimiter=',')\n",
    "    print('min val_loss {0} at epoch {1}'.format(min(loss.val_loss), np.argmin(loss.val_loss)))\n",
    "    plt.plot(loss.epoch, loss.loss, label='loss')\n",
    "    plt.plot(loss.epoch, loss.val_loss, label='val_loss')\n",
    "    plt.legend()\n",
    "    plt.xlabel('epoch')\n",
    "    plt.ylabel('loss')\n",
    "    plt.savefig(os.path.join(save_dir, 'loss.png'))\n",
    "    plt.show()\n",
    "    plt.close()\n",
    "\n",
    "    if accuracy:\n",
    "        print('max val_accu {0} at epoch {1}'.format(max(loss.val_dec_acc), np.argmax(loss.val_dec_acc)))\n",
    "        plt.plot(loss.epoch, loss.dec_acc, label='dec_acc')\n",
    "        plt.plot(loss.epoch, loss.val_dec_acc, label='val_dec_acc')\n",
    "        plt.legend()\n",
    "        plt.xlabel('epoch')\n",
    "        plt.ylabel('accuracy')\n",
    "        plt.savefig(os.path.join(save_dir, 'dec_acc.png'))\n",
    "        plt.show()\n",
    "        plt.close()\n",
    "        \n",
    "        print('max val_accu {0} at epoch {1}'.format(max(loss.val_var_acc), np.argmax(loss.val_var_acc)))\n",
    "        plt.plot(loss.epoch, loss.var_acc, label='var_acc')\n",
    "        plt.plot(loss.epoch, loss.val_var_acc, label='val_var_acc')\n",
    "        plt.legend()\n",
    "        plt.xlabel('epoch')\n",
    "        plt.ylabel('accuracy')\n",
    "        plt.savefig(os.path.join(save_dir, 'var_acc.png'))\n",
    "        plt.show()\n",
    "        plt.close()\n",
    "        \n",
    "        print('max val_accu {0} at epoch {1}'.format(max(loss.val_ua_acc), np.argmax(loss.val_ua_acc)))\n",
    "        plt.plot(loss.epoch, loss.ua_acc, label='ua_acc')\n",
    "        plt.plot(loss.epoch, loss.val_ua_acc, label='val_ua_acc')\n",
    "        plt.legend()\n",
    "        plt.xlabel('epoch')\n",
    "        plt.ylabel('accuracy')\n",
    "        plt.savefig(os.path.join(save_dir, 'ua_acc.png'))\n",
    "        plt.show()\n",
    "        plt.close()\n",
    "        \n",
    "        print('max val_accu {0} at epoch {1}'.format(max(loss.val_man_acc), np.argmax(loss.val_man_acc)))\n",
    "        plt.plot(loss.epoch, loss.man_acc, label='man_acc')\n",
    "        plt.plot(loss.epoch, loss.val_man_acc, label='val_man_acc')\n",
    "        plt.legend()\n",
    "        plt.xlabel('epoch')\n",
    "        plt.ylabel('accuracy')\n",
    "        plt.savefig(os.path.join(save_dir, 'man_acc.png'))\n",
    "        plt.show()\n",
    "        plt.close()\n",
    "       \n",
    "    if gradient:\n",
    "        plt.plot(loss.epoch, loss.gradient_norm, label='gradient_norm')\n",
    "        plt.legend()\n",
    "        plt.xlabel('epoch')\n",
    "        plt.ylabel('gradient_norm')\n",
    "        plt.savefig(os.path.join(save_dir, 'gradient.png'))\n",
    "        plt.show()\n",
    "        plt.close()"
   ]
  },
  {
   "cell_type": "code",
   "execution_count": 10,
   "metadata": {},
   "outputs": [],
   "source": [
    "# # plot learning curve\n",
    "# plot_keras_csv_logger(os.path.join(path,'training.log'), save_dir=path, accuracy=True, gradient = True)"
   ]
  },
  {
   "cell_type": "markdown",
   "metadata": {},
   "source": [
    "# feature analysis"
   ]
  },
  {
   "cell_type": "code",
   "execution_count": 11,
   "metadata": {},
   "outputs": [],
   "source": [
    "tg_order = 0\n",
    "tg_name = 'management'"
   ]
  },
  {
   "cell_type": "code",
   "execution_count": 12,
   "metadata": {},
   "outputs": [],
   "source": [
    "pred_hd_l = np.argmax(Pred[tg_order], axis=1)\n",
    "valid_d.reset_index(inplace=True)\n",
    "pred_dataset = valid_d['ID']"
   ]
  },
  {
   "cell_type": "code",
   "execution_count": 13,
   "metadata": {},
   "outputs": [],
   "source": [
    "cmu_id = [i for i, e in enumerate(valid_d['ID']) if 'CMU_' in e]\n",
    "ctu_id = [i for i, e in enumerate(valid_d['ID']) if 'CTU_' in e]"
   ]
  },
  {
   "cell_type": "code",
   "execution_count": 14,
   "metadata": {},
   "outputs": [],
   "source": [
    "features = trained_model.get_layer('global_average_pooling1d_1')\n",
    "extractor = Model(inputs=trained_model.input, outputs=features.output)\n",
    "Fout = extractor.predict(x=Xtest)"
   ]
  },
  {
   "cell_type": "code",
   "execution_count": 15,
   "metadata": {},
   "outputs": [
    {
     "name": "stdout",
     "output_type": "stream",
     "text": [
      "Wrong Prediction: 43\n",
      "Acc: 0.38571428571428573\n"
     ]
    }
   ],
   "source": [
    "O_X = valid_d[tg_name] == pred_hd_l\n",
    "print('Wrong Prediction:', len(O_X)-sum(O_X))\n",
    "print('Acc:', sum(O_X)/len(O_X))\n",
    "# O_X[O_X==1] = 'gray'\n",
    "# O_X[O_X==0] = 'red'"
   ]
  },
  {
   "cell_type": "code",
   "execution_count": 16,
   "metadata": {
    "code_folding": [
     0
    ]
   },
   "outputs": [],
   "source": [
    "def get_color_map(ref_list):\n",
    "    color_map=[]\n",
    "    for i in ref_list:\n",
    "        if i ==0:\n",
    "            color_map.append('orange')\n",
    "        elif i==1:\n",
    "            color_map.append('blue')\n",
    "        elif i==2:\n",
    "            color_map.append('green')\n",
    "        elif i==3:\n",
    "            color_map.append('red')\n",
    "    color_map = np.array(color_map)\n",
    "    return color_map"
   ]
  },
  {
   "cell_type": "code",
   "execution_count": 17,
   "metadata": {
    "code_folding": [
     0
    ]
   },
   "outputs": [],
   "source": [
    "def get_color_map_OX(ref_list):\n",
    "    color_map=[]\n",
    "    for i in ref_list:\n",
    "        if i ==0:\n",
    "            color_map.append('red')\n",
    "        elif i==1:\n",
    "            color_map.append('gray')\n",
    "    color_map = np.array(color_map)\n",
    "    return color_map"
   ]
  },
  {
   "cell_type": "markdown",
   "metadata": {},
   "source": [
    "## PCA"
   ]
  },
  {
   "cell_type": "code",
   "execution_count": 18,
   "metadata": {},
   "outputs": [
    {
     "data": {
      "image/png": "[encoded data removed]",
      "text/plain": [
       "<matplotlib.figure.Figure at 0x7fbf6ba6e128>"
      ]
     },
     "metadata": {},
     "output_type": "display_data"
    }
   ],
   "source": [
    "from sklearn.decomposition import PCA\n",
    "pca = PCA(n_components=2)\n",
    "pca_emb = pca.fit_transform(Fout)\n",
    "\n",
    "\n",
    "fig = plt.figure(figsize=(15,3))\n",
    "plt.subplot('13%s' % (1))\n",
    "color_map = get_color_map(valid_d['UA'])\n",
    "plt.scatter(pca_emb[cmu_id,0], pca_emb[cmu_id,1], c = color_map[cmu_id], marker='o', cmap='coolwarm', alpha=0.4)\n",
    "plt.scatter(pca_emb[ctu_id,0], pca_emb[ctu_id,1], c = color_map[ctu_id], marker='*', cmap='coolwarm', alpha=0.4)\n",
    "plt.ylabel('%s\\n PCA (dim=2)' %(FLAG.target), rotation=65)\n",
    "plt.title('GT')\n",
    "\n",
    "plt.subplot('13%s' % (2))\n",
    "color_map = get_color_map(pred_hd_l)\n",
    "plt.scatter(pca_emb[cmu_id,0], pca_emb[cmu_id,1], c = color_map[cmu_id], marker='o', cmap='cool', alpha=0.4)\n",
    "plt.scatter(pca_emb[ctu_id,0], pca_emb[ctu_id,1], c = color_map[ctu_id], marker='*', cmap='cool', alpha=0.4)\n",
    "plt.title('Pred')\n",
    "\n",
    "plt.subplot('13%s' % (3))\n",
    "color_map = get_color_map_OX(O_X)\n",
    "plt.scatter(pca_emb[cmu_id,0], pca_emb[cmu_id,1], c = color_map[cmu_id], marker='o', alpha=0.4)\n",
    "plt.scatter(pca_emb[ctu_id,0], pca_emb[ctu_id,1], c = color_map[ctu_id], marker='*', alpha=0.4)\n",
    "plt.title('Wrong Prediction\\n O: gray | X: red')\n",
    "# plt.show()\n",
    "\n",
    "# # check_dir('./plot/feature_analysis/')\n",
    "fig.savefig(os.path.join(path, 'F_analysis_pca_%s.png') % (FLAG.target), dpi=100, format='png',bbox_inches='tight' )"
   ]
  },
  {
   "cell_type": "markdown",
   "metadata": {
    "heading_collapsed": true
   },
   "source": [
    "## TSNE"
   ]
  },
  {
   "cell_type": "code",
   "execution_count": 19,
   "metadata": {
    "hidden": true
   },
   "outputs": [],
   "source": [
    "# from sklearn.manifold import TSNE\n",
    "\n",
    "# tsne = TSNE(n_components=2, perplexity=50)\n",
    "# tsne_emb = tsne.fit_transform(Fout)\n",
    "\n",
    "# fig = plt.figure(figsize=(15,3))\n",
    "# plt.subplot('13%s' % (1))\n",
    "# color_map = get_color_map(valid_d[FLAG.target])\n",
    "# plt.scatter(tsne_emb[cmu_id,0], tsne_emb[cmu_id,1], c = color_map[cmu_id], marker='o', cmap='coolwarm', alpha=0.4)\n",
    "# plt.scatter(tsne_emb[ctu_id,0], tsne_emb[ctu_id,1], c = color_map[ctu_id], marker='*', cmap='coolwarm', alpha=0.4)\n",
    "# plt.ylabel('%s\\n TSNE (dim=2)' %(FLAG.target), rotation=65)\n",
    "# plt.title('GT')\n",
    "\n",
    "# plt.subplot('13%s' % (2))\n",
    "# color_map = get_color_map(pred_hd_l)\n",
    "# plt.scatter(tsne_emb[cmu_id,0], tsne_emb[cmu_id,1], c = color_map[cmu_id], marker='o', cmap='cool', alpha=0.4)\n",
    "# plt.scatter(tsne_emb[ctu_id,0], tsne_emb[ctu_id,1], c = color_map[ctu_id], marker='*', cmap='cool', alpha=0.4)\n",
    "# plt.title('Pred')\n",
    "\n",
    "# plt.subplot('13%s' % (3))\n",
    "# color_map = get_color_map_OX(O_X)\n",
    "# plt.scatter(tsne_emb[cmu_id,0], tsne_emb[cmu_id,1], c = color_map[cmu_id], marker='o', alpha=0.4)\n",
    "# plt.scatter(tsne_emb[ctu_id,0], tsne_emb[ctu_id,1], c = color_map[ctu_id], marker='*', alpha=0.4)\n",
    "# plt.title('Wrong Prediction\\n O: gray | X: red')\n",
    "# # plt.show()\n",
    "\n",
    "# # # check_dir('./plot/feature_analysis/')\n",
    "# fig.savefig(os.path.join(path, 'F_analysis_tsne_%s.png') % (FLAG.target), dpi=100, format='png',bbox_inches='tight' )"
   ]
  },
  {
   "cell_type": "markdown",
   "metadata": {},
   "source": [
    "# SVM"
   ]
  },
  {
   "cell_type": "code",
   "execution_count": 20,
   "metadata": {},
   "outputs": [],
   "source": [
    "# Fout_train = extractor.predict(x=Xtrain)\n",
    "# pca_emb_train = pca.fit_transform(Fout_train)\n",
    "# Ytrain_N1hot = np.argmax(Ytrain,axis=1)\n",
    "# Ytest_N1hot = np.argmax(Ytest,axis=1)\n",
    "\n",
    "# from sklearn.svm import SVC\n",
    "# svc = SVC(kernel='rbf', verbose= True, gamma = 1e-1)\n",
    "# svc.fit(Fout_train, Ytrain_N1hot)\n",
    "\n",
    "# svc_pred = svc.predict(Fout)\n",
    "\n",
    "# # from mlxtend.plotting import plot_decision_regions\n",
    "# # plot_decision_regions(X=pca_emb_train, y=Ytrain_N1hot, clf=svc)\n",
    "\n",
    "# # from mlxtend.plotting import plot_decision_regions\n",
    "# # plot_decision_regions(X=pca_emb, y=Ytest_N1hot, clf=svc)\n",
    "\n",
    "# # evaluate validation set\n",
    "# cfm = confusion_matrix(y_pred=svc_pred, y_true=Ytest_N1hot)\n",
    "\n",
    "# recall = np.diag(cfm) / np.sum(cfm, axis=1)\n",
    "# precision = np.diag(cfm) / np.sum(cfm, axis=0)\n",
    "# val_accu = accuracy_score(y_pred=svc_pred, y_true=Ytest_N1hot)\n",
    "\n",
    "# print('accuracy : ', round(val_accu,4))\n",
    "# for i in range(n_classes):\n",
    "#     print('recall-{0} : {1}'.format(i, round(recall[i],4)))\n",
    "# for i in range(n_classes):\n",
    "#     print('precision-{0}: {1}'.format(i, round(precision[i],4)))\n",
    "    \n",
    "# plt.figure()\n",
    "# rcl = [round(recall[i],2) for i in range(n_classes)]\n",
    "# plot_confusion_matrix(cfm, classes=np.arange(n_classes),\n",
    "#                       title='%s acc: %.2f \\nrecall: %s' %(FLAG.target, val_accu, rcl),\n",
    "#                      )#save_dir=path)"
   ]
  },
  {
   "cell_type": "code",
   "execution_count": null,
   "metadata": {},
   "outputs": [],
   "source": []
  },
  {
   "cell_type": "code",
   "execution_count": null,
   "metadata": {},
   "outputs": [],
   "source": []
  }
 ],
 "metadata": {
  "kernelspec": {
   "display_name": "Python 3",
   "language": "python",
   "name": "python3"
  },
  "language_info": {
   "codemirror_mode": {
    "name": "ipython",
    "version": 3
   },
   "file_extension": ".py",
   "mimetype": "text/x-python",
   "name": "python",
   "nbconvert_exporter": "python",
   "pygments_lexer": "ipython3",
   "version": "3.5.2"
  }
 },
 "nbformat": 4,
 "nbformat_minor": 2
}
