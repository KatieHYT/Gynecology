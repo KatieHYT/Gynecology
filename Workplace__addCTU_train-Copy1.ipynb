{
 "cells": [
  {
   "cell_type": "code",
   "execution_count": 1,
   "metadata": {},
   "outputs": [
    {
     "name": "stderr",
     "output_type": "stream",
     "text": [
      "/usr/local/lib/python3.5/dist-packages/h5py/__init__.py:36: FutureWarning: Conversion of the second argument of issubdtype from `float` to `np.floating` is deprecated. In future, it will be treated as `np.float64 == np.dtype(float).type`.\n",
      "  from ._conv import register_converters as _register_converters\n",
      "Using TensorFlow backend.\n"
     ]
    }
   ],
   "source": [
    "import os\n",
    "import sys\n",
    "from datetime import datetime\n",
    "import keras\n",
    "\n",
    "import argparse\n",
    "import numpy as np\n",
    "import pandas as pd\n",
    "# import matplotlib\n",
    "# matplotlib.use('Agg')\n",
    "import matplotlib.pyplot as plt\n",
    "%matplotlib inline\n",
    "\n",
    "from keras.models import Model, load_model\n",
    "from keras.callbacks import ModelCheckpoint, ReduceLROnPlateau, EarlyStopping\n",
    "from keras.optimizers import Adam, SGD, Adamax\n",
    "\n",
    "from sklearn.metrics import confusion_matrix, classification_report, accuracy_score\n",
    "from sklearn.model_selection import train_test_split\n",
    "from sklearn.utils.class_weight import compute_class_weight\n",
    "\n",
    "from model_multitask import build_model\n",
    "from func import * "
   ]
  },
  {
   "cell_type": "code",
   "execution_count": 2,
   "metadata": {
    "code_folding": []
   },
   "outputs": [],
   "source": [
    "#### parser\n",
    "parser = argparse.ArgumentParser()\n",
    "parser.add_argument('-d' ,'--data', type=str, default='/home/katieyth/gynecology/data/data_cmu_ctu_Ntest.csv', help='data')\n",
    "parser.add_argument('-s' ,'--model_save', type=str, default='/home/katieyth/gynecology/model_save/', help='model save path')\n",
    "parser.add_argument('-y' ,'--target', type=str, default='management', help='prediction target')\n",
    "# variability\tUA\t deceleration management\n",
    "\n",
    "# input parameter\n",
    "parser.add_argument('-th','--acceptable_zeros_threshold', type=float, default=200, help='acceptable number of missing values in raw data')\n",
    "parser.add_argument('-l' ,'--length', type=int, default=600, help='length of input')\n",
    "parser.add_argument('-ks','--k_slice', type=int, default=1, help='a input will be sliced into k_slice segments when testing')\n",
    "parser.add_argument('-c' ,'--n_channel', type=int, default=2, help='number of input channels')\n",
    "parser.add_argument('-rn','--random_noise', type=int, default=0, help='add Gaussian noise (mean=0, std=0.01) into inputs')\n",
    "parser.add_argument('-nm','--normalized', type=int, default=1, help='whether conduct channel-wise normalization')\n",
    "parser.add_argument('-fb' ,'--force_binary', type=int, default=0, help='force to binary task')\n",
    "parser.add_argument('-ctu_cmu' ,'--ctu_cmu', type=int, default=1, help='train_ctu_test_cmu')\n",
    "parser.add_argument('-multi_task' ,'--multi_task', type=int, default=1, help='multi-task')\n",
    "\n",
    "\n",
    "\n",
    "\n",
    "# data augmentation \n",
    "parser.add_argument('-aug_fliplr' ,'--aug_fliplr', type=int, default=0, help='reverse time series')\n",
    "parser.add_argument('-shift' ,'--DA_Shift', type=int, default=1, help='')\n",
    "parser.add_argument('-scale' ,'--DA_Scale', type=int, default=1, help='')\n",
    "parser.add_argument('-randsamp' ,'--DA_RandSampling', type=int, default=1, help='')\n",
    "\n",
    "\n",
    "# model parameters\n",
    "parser.add_argument('-k' ,'--kernel_size', type=int, default=3, help='kernel size')\n",
    "parser.add_argument('-f' ,'--filters', type=int, default=64, help='base number of filters')\n",
    "parser.add_argument('-ly' ,'--layers', type=int, default=10, help='number of residual layers')\n",
    "parser.add_argument('-a' ,'--activation', type=str, default='relu', help='activation function')\n",
    "parser.add_argument('-i' ,'--kernel_initializer', type=str, default='RandomNormal', help='kernel initialization method')\n",
    "parser.add_argument('-l2','--l2', type=float, default=0.01, help='coefficient of l2 regularization')\n",
    "\n",
    "# hyper-parameters\n",
    "parser.add_argument('-lr','--learning_rate', type=float, default=1e-4, help='learning_rate')\n",
    "parser.add_argument('-reduce_lr_patience','--reduce_lr_patience', type=int, default=5, help='reduce_lr_patience')\n",
    "parser.add_argument('-bs','--batch_size', type=int, default=16, help='batch_size')\n",
    "parser.add_argument('-ep','--epoch', type=int, default=2000, help='epoch')\n",
    "parser.add_argument('-wb','--weight_balance', type=int, default=0, help='whether weight balancing or not')\n",
    "parser.add_argument('-mntr','--monitor', type=str, default='val_loss', help='val_acc or val_loss')\n",
    "\n",
    "\n",
    "parser.add_argument('-g' ,'--gpu_id', type=str, default='7', help='GPU ID')\n",
    "parser.add_argument('-rs' ,'--random_state', type=int, default=13, help='random state when train_test_split')\n",
    "parser.add_argument('-fn' ,'--summary_file', type=str, default=None, help='summary filename')\n",
    "\n",
    "\n",
    "FLAG = parser.parse_args([])"
   ]
  },
  {
   "cell_type": "code",
   "execution_count": 3,
   "metadata": {},
   "outputs": [],
   "source": [
    "def data_preprocess_test(Xvalid, Yvalid, length=600, class_weight = {}):\n",
    "    \n",
    "#     if not class_weight:\n",
    "#         class_weight = dict()\n",
    "#         for i in range(Yvalid.shape[1]):\n",
    "#             class_weight[i] = 1\n",
    "\n",
    "    Xtest = np.empty((Xvalid.shape[0], length, Xvalid.shape[2]))\n",
    "    Ytest = np.empty((Yvalid.shape[0], Yvalid.shape[1]))\n",
    "    Wtest = np.empty((Yvalid.shape[0],))\n",
    "\n",
    "    for i in range(Xvalid.shape[0]):\n",
    "        # print(st+i)\n",
    "        Xtest[i,:,:] = data_normalize(Xvalid[i,0:600,:])\n",
    "        \n",
    "#         Wtest[i] = class_weight[np.argmax(Yvalid[i,:])]\n",
    "    Ytest = Yvalid\n",
    "    return Xtest, Ytest, Wtest"
   ]
  },
  {
   "cell_type": "code",
   "execution_count": 4,
   "metadata": {},
   "outputs": [
    {
     "name": "stdout",
     "output_type": "stream",
     "text": [
      "===== train =====\n",
      "b-000\r",
      "b-001\r",
      "b-002\r",
      "b-003\r",
      "b-004\r",
      "b-005\r",
      "b-006\r",
      "b-007\r",
      "b-008\r",
      "b-009\r",
      "b-010\r",
      "b-011\r",
      "b-012\r",
      "b-013\r",
      "b-014"
     ]
    },
    {
     "name": "stderr",
     "output_type": "stream",
     "text": [
      "/usr/local/lib/python3.5/dist-packages/IPython/core/interactiveshell.py:2728: DtypeWarning: Columns (8,10,11,12) have mixed types. Specify dtype option on import or set low_memory=False.\n",
      "  interactivity=interactivity, compiler=compiler, result=result)\n"
     ]
    },
    {
     "name": "stdout",
     "output_type": "stream",
     "text": [
      "m-599\r"
     ]
    }
   ],
   "source": [
    "print(\"===== train =====\")\n",
    "os.environ['CUDA_VISIBLE_DEVICES'] = FLAG.gpu_id\n",
    "d = pd.read_csv(os.path.join(FLAG.data))\n",
    "# d = d[myutils.get_n_zeros(np.array(d[[k for k in d.columns if 'b-' in k]], dtype=np.float)) <= FLAG.acceptable_zeros_threshold]\n",
    "\n",
    "if FLAG.force_binary : \n",
    "    d[d[FLAG.target]>1] = 1\n",
    "n_classes = 4#len(set(d[FLAG.target]))\n",
    "\n",
    "# replace 0 (no readings) with np.nan for later substitution\n",
    "for k in d.columns:\n",
    "    if 'b-' in k or 'm-' in k:\n",
    "        print(k, end='\\r')\n",
    "        d.loc[d[k]==0, k] = np.nan\n",
    "\n",
    "if FLAG.ctu_cmu:\n",
    "    train_d = d[d['ID'].str.contains('CTU_')]\n",
    "    valid_d = d[d['ID'].str.contains('CMU_')]\n",
    "else:\n",
    "    train_d,valid_d = train_test_split(d, test_size=0.3, random_state=FLAG.random_state, stratify =d[FLAG.target])\n",
    "\n",
    "\n",
    "\n",
    "# interpolate missing values\n",
    "train_db = np.array(train_d[[k for k in train_d.columns if 'b-' in k]].interpolate(limit_direction='both', axis=1), dtype=np.float)\n",
    "train_dm = np.array(train_d[[k for k in train_d.columns if 'm-' in k]].interpolate(limit_direction='both', axis=1), dtype=np.float)\n",
    "\n",
    "valid_db = np.array(valid_d[[k for k in valid_d.columns if 'b-' in k]].interpolate(limit_direction='both', axis=1), dtype=np.float)\n",
    "valid_dm = np.array(valid_d[[k for k in valid_d.columns if 'm-' in k]].interpolate(limit_direction='both', axis=1), dtype=np.float)\n",
    "\n",
    "# combine signals from baby and mom\n",
    "Xtrain = np.stack([train_db, train_dm], axis=2)\n",
    "Xvalid = np.stack([valid_db, valid_dm], axis=2)\n",
    "\n",
    "# convert labels to one-hot encodings\n",
    "if FLAG.multi_task:\n",
    "    Ytrain_man = keras.utils.to_categorical(np.array(train_d['management']),   num_classes=4)#len(set(np.array(train_d['management']))))\n",
    "    Ytrain_ua  = keras.utils.to_categorical(np.array(train_d['UA']),           num_classes=4)#len(set(np.array(train_d['UA']))))\n",
    "    Ytrain_var = keras.utils.to_categorical(np.array(train_d['variability']),  num_classes=4)#len(set(np.array(train_d['variability']))))\n",
    "    Ytrain_dec = keras.utils.to_categorical(np.array(train_d['deceleration']), num_classes=4)#len(set(np.array(train_d['deceleration']))))\n",
    "    Ytrain = np.stack([Ytrain_man, Ytrain_ua, Ytrain_var, Ytrain_dec], axis = 2)\n",
    "\n",
    "    Yvalid_man = keras.utils.to_categorical(np.array(valid_d['management']),   num_classes=4)#len(set(np.array(train_d['management']))))\n",
    "    Yvalid_ua  = keras.utils.to_categorical(np.array(valid_d['UA']),           num_classes=4)#len(set(np.array(train_d['UA']))))\n",
    "    Yvalid_var = keras.utils.to_categorical(np.array(valid_d['variability']),  num_classes=4)#len(set(np.array(train_d['variability']))))\n",
    "    Yvalid_dec = keras.utils.to_categorical(np.array(valid_d['deceleration']), num_classes=4)#len(set(np.array(train_d['deceleration']))))\n",
    "    Yvalid = np.stack([Yvalid_man, Yvalid_ua, Yvalid_var, Yvalid_dec], axis = 2)\n",
    "    \n",
    "else:\n",
    "    Ytrain = keras.utils.to_categorical(np.array(train_d[FLAG.target]), num_classes=n_classes)\n",
    "    Yvalid = keras.utils.to_categorical(np.array(valid_d[FLAG.target]), num_classes=n_classes)\n",
    "\n",
    "# weight balancing or not\n",
    "# if FLAG.weight_balance:\n",
    "\n",
    "#     y_integers = np.argmax(Ytrain, axis=1)\n",
    "#     d_class_weight = compute_class_weight('balanced', np.unique(y_integers), y_integers)\n",
    "#     class_weight = dict(enumerate(d_class_weight))\n",
    "#     print('class weight: {0}'.format(class_weight))\n",
    "# else:\n",
    "#     class_weight = dict()\n",
    "#     for i in range(n_classes):\n",
    "#         class_weight[i] = 1\n",
    "\n",
    "Xtest, Ytest, Wtest =data_preprocess_test(Xvalid, Yvalid)#, class_weight = class_weight)\n",
    "#print(Wtest)\n",
    "# print(Xtest.shape)\n",
    "# print(Xtest[0:5])\n",
    "# class weight: {0: 0.5892575039494471, 1: 1.0626780626780628, 2: 2.762962962962963}\n",
    "# class weight: {0: 0.6411764705882353, 1: 1.09, 2: 1.912280701754386}"
   ]
  },
  {
   "cell_type": "code",
   "execution_count": 5,
   "metadata": {},
   "outputs": [],
   "source": [
    "if FLAG.aug_fliplr:\n",
    "    Xtrain_copy = Xtrain.copy()\n",
    "    for i in range(len(Xtrain)):\n",
    "        Xtrain_copy[i] = np.fliplr([Xtrain[i]])[0]\n",
    "#         plt.plot(Xtrain[i])\n",
    "#         plt.show()\n",
    "#         plt.plot(Xtrain_copy[i])\n",
    "#         plt.show()\n",
    "        print(i,'/',len(Xtrain), end= '\\r')\n",
    "    Xtrain = np.vstack((Xtrain, Xtrain_copy))\n",
    "    Ytrain = np.vstack((Ytrain, Ytrain))"
   ]
  },
  {
   "cell_type": "code",
   "execution_count": 6,
   "metadata": {},
   "outputs": [
    {
     "data": {
      "text/plain": [
       "[<function func.DA_Shift>,\n",
       " <function func.DA_Scale>,\n",
       " <function func.DA_RandSampling>]"
      ]
     },
     "execution_count": 6,
     "metadata": {},
     "output_type": "execute_result"
    }
   ],
   "source": [
    "augtool = (DA_Shift,DA_Scale,DA_RandSampling)\n",
    "choose_augtool = (FLAG.DA_Shift,FLAG.DA_Scale,FLAG.DA_RandSampling)\n",
    "augset = [x for x, y in zip(augtool, choose_augtool) if y == 1]\n",
    "augset"
   ]
  },
  {
   "cell_type": "code",
   "execution_count": 7,
   "metadata": {},
   "outputs": [],
   "source": [
    "def my_generator(Xtrain, Ytrain, length=300, n_channel=2, n_classes=2, batch_size=16, prob=0.5, aug_func=[], random_noise = False, normalized = True):\n",
    "    n_sample = Xtrain.shape[0]\n",
    "    n_length = Xtrain.shape[1]\n",
    "    ind = list(range(n_sample))\n",
    "    x = np.empty((batch_size, length, n_channel), dtype=np.float)\n",
    "    y = np.empty((batch_size, 4,4), dtype=int)\n",
    "\n",
    "    while True:\n",
    "        np.random.shuffle(ind)\n",
    "        for i in range(n_sample//batch_size):\n",
    "            if length==600:\n",
    "                st = 0\n",
    "            else:\n",
    "                st = random.choice(np.arange(0, Xtrain.shape[1] - length))\n",
    "            i_batch = ind[i*batch_size:(i+1)*batch_size]\n",
    "            for j, k in enumerate(i_batch):\n",
    "                x[j,:] = data_preprocess(Xtrain[k,st:(st+length),:], aug_func=aug_func, prob=prob, random_noise=random_noise, normalized=normalized)\n",
    "                y[j,:,:] = Ytrain[k,:,:]\n",
    "            yield x, [y[:,:,0], y[:,:,1], y[:,:,2], y[:,:,3]]"
   ]
  },
  {
   "cell_type": "code",
   "execution_count": 8,
   "metadata": {},
   "outputs": [],
   "source": [
    "train_gen = my_generator(Xtrain, Ytrain, \n",
    "                        length=FLAG.length, \n",
    "                        n_channel=FLAG.n_channel, \n",
    "                        n_classes=n_classes,\n",
    "                        random_noise=FLAG.random_noise,\n",
    "                        normalized=FLAG.normalized,\n",
    "                        batch_size=FLAG.batch_size,\n",
    "                        aug_func=augset,\n",
    "                        prob=0.25)"
   ]
  },
  {
   "cell_type": "code",
   "execution_count": 9,
   "metadata": {},
   "outputs": [
    {
     "name": "stdout",
     "output_type": "stream",
     "text": [
      "Object `model.compile` not found.\n"
     ]
    }
   ],
   "source": [
    "?model.compile"
   ]
  },
  {
   "cell_type": "code",
   "execution_count": 10,
   "metadata": {},
   "outputs": [
    {
     "name": "stdout",
     "output_type": "stream",
     "text": [
      "===== create directory =====\n",
      "/home/katieyth/gynecology/model_save/management/management_181228114837\n",
      "__________________________________________________________________________________________________\n",
      "Layer (type)                    Output Shape         Param #     Connected to                     \n",
      "==================================================================================================\n",
      "input_1 (InputLayer)            (None, 600, 2)       0                                            \n",
      "__________________________________________________________________________________________________\n",
      "conv1d_1 (Conv1D)               (None, 600, 64)      448         input_1[0][0]                    \n",
      "__________________________________________________________________________________________________\n",
      "batch_normalization_1 (BatchNor (None, 600, 64)      256         conv1d_1[0][0]                   \n",
      "__________________________________________________________________________________________________\n",
      "activation_1 (Activation)       (None, 600, 64)      0           batch_normalization_1[0][0]      \n",
      "__________________________________________________________________________________________________\n",
      "conv1d_2 (Conv1D)               (None, 300, 64)      12352       activation_1[0][0]               \n",
      "__________________________________________________________________________________________________\n",
      "batch_normalization_2 (BatchNor (None, 300, 64)      256         conv1d_2[0][0]                   \n",
      "__________________________________________________________________________________________________\n",
      "activation_2 (Activation)       (None, 300, 64)      0           batch_normalization_2[0][0]      \n",
      "__________________________________________________________________________________________________\n",
      "conv1d_3 (Conv1D)               (None, 300, 64)      12352       activation_2[0][0]               \n",
      "__________________________________________________________________________________________________\n",
      "max_pooling1d_1 (MaxPooling1D)  (None, 300, 64)      0           activation_1[0][0]               \n",
      "__________________________________________________________________________________________________\n",
      "add_1 (Add)                     (None, 300, 64)      0           conv1d_3[0][0]                   \n",
      "                                                                 max_pooling1d_1[0][0]            \n",
      "__________________________________________________________________________________________________\n",
      "batch_normalization_3 (BatchNor (None, 300, 64)      256         add_1[0][0]                      \n",
      "__________________________________________________________________________________________________\n",
      "activation_3 (Activation)       (None, 300, 64)      0           batch_normalization_3[0][0]      \n",
      "__________________________________________________________________________________________________\n",
      "conv1d_4 (Conv1D)               (None, 300, 64)      12352       activation_3[0][0]               \n",
      "__________________________________________________________________________________________________\n",
      "batch_normalization_4 (BatchNor (None, 300, 64)      256         conv1d_4[0][0]                   \n",
      "__________________________________________________________________________________________________\n",
      "activation_4 (Activation)       (None, 300, 64)      0           batch_normalization_4[0][0]      \n",
      "__________________________________________________________________________________________________\n",
      "conv1d_5 (Conv1D)               (None, 300, 64)      12352       activation_4[0][0]               \n",
      "__________________________________________________________________________________________________\n",
      "max_pooling1d_2 (MaxPooling1D)  (None, 300, 64)      0           add_1[0][0]                      \n",
      "__________________________________________________________________________________________________\n",
      "add_2 (Add)                     (None, 300, 64)      0           conv1d_5[0][0]                   \n",
      "                                                                 max_pooling1d_2[0][0]            \n",
      "__________________________________________________________________________________________________\n",
      "batch_normalization_5 (BatchNor (None, 300, 64)      256         add_2[0][0]                      \n",
      "__________________________________________________________________________________________________\n",
      "activation_5 (Activation)       (None, 300, 64)      0           batch_normalization_5[0][0]      \n",
      "__________________________________________________________________________________________________\n",
      "conv1d_6 (Conv1D)               (None, 150, 64)      12352       activation_5[0][0]               \n",
      "__________________________________________________________________________________________________\n",
      "batch_normalization_6 (BatchNor (None, 150, 64)      256         conv1d_6[0][0]                   \n",
      "__________________________________________________________________________________________________\n",
      "activation_6 (Activation)       (None, 150, 64)      0           batch_normalization_6[0][0]      \n",
      "__________________________________________________________________________________________________\n",
      "conv1d_7 (Conv1D)               (None, 150, 64)      12352       activation_6[0][0]               \n",
      "__________________________________________________________________________________________________\n",
      "max_pooling1d_3 (MaxPooling1D)  (None, 150, 64)      0           add_2[0][0]                      \n",
      "__________________________________________________________________________________________________\n",
      "add_3 (Add)                     (None, 150, 64)      0           conv1d_7[0][0]                   \n",
      "                                                                 max_pooling1d_3[0][0]            \n",
      "__________________________________________________________________________________________________\n",
      "batch_normalization_7 (BatchNor (None, 150, 64)      256         add_3[0][0]                      \n",
      "__________________________________________________________________________________________________\n",
      "activation_7 (Activation)       (None, 150, 64)      0           batch_normalization_7[0][0]      \n",
      "__________________________________________________________________________________________________\n",
      "conv1d_8 (Conv1D)               (None, 150, 64)      12352       activation_7[0][0]               \n",
      "__________________________________________________________________________________________________\n",
      "batch_normalization_8 (BatchNor (None, 150, 64)      256         conv1d_8[0][0]                   \n",
      "__________________________________________________________________________________________________\n",
      "activation_8 (Activation)       (None, 150, 64)      0           batch_normalization_8[0][0]      \n",
      "__________________________________________________________________________________________________\n",
      "conv1d_9 (Conv1D)               (None, 150, 64)      12352       activation_8[0][0]               \n",
      "__________________________________________________________________________________________________\n",
      "max_pooling1d_4 (MaxPooling1D)  (None, 150, 64)      0           add_3[0][0]                      \n",
      "__________________________________________________________________________________________________\n",
      "add_4 (Add)                     (None, 150, 64)      0           conv1d_9[0][0]                   \n",
      "                                                                 max_pooling1d_4[0][0]            \n",
      "__________________________________________________________________________________________________\n",
      "conv1d_10 (Conv1D)              (None, 150, 128)     24704       add_4[0][0]                      \n",
      "__________________________________________________________________________________________________\n",
      "batch_normalization_9 (BatchNor (None, 150, 128)     512         conv1d_10[0][0]                  \n",
      "__________________________________________________________________________________________________\n",
      "activation_9 (Activation)       (None, 150, 128)     0           batch_normalization_9[0][0]      \n",
      "__________________________________________________________________________________________________\n",
      "conv1d_11 (Conv1D)              (None, 75, 128)      49280       activation_9[0][0]               \n",
      "__________________________________________________________________________________________________\n",
      "batch_normalization_10 (BatchNo (None, 75, 128)      512         conv1d_11[0][0]                  \n",
      "__________________________________________________________________________________________________\n",
      "activation_10 (Activation)      (None, 75, 128)      0           batch_normalization_10[0][0]     \n",
      "__________________________________________________________________________________________________\n",
      "conv1d_12 (Conv1D)              (None, 75, 128)      49280       activation_10[0][0]              \n",
      "__________________________________________________________________________________________________\n",
      "max_pooling1d_5 (MaxPooling1D)  (None, 75, 128)      0           conv1d_10[0][0]                  \n",
      "__________________________________________________________________________________________________\n",
      "add_5 (Add)                     (None, 75, 128)      0           conv1d_12[0][0]                  \n",
      "                                                                 max_pooling1d_5[0][0]            \n",
      "__________________________________________________________________________________________________\n",
      "batch_normalization_11 (BatchNo (None, 75, 128)      512         add_5[0][0]                      \n",
      "__________________________________________________________________________________________________\n",
      "activation_11 (Activation)      (None, 75, 128)      0           batch_normalization_11[0][0]     \n",
      "__________________________________________________________________________________________________\n",
      "conv1d_13 (Conv1D)              (None, 75, 128)      49280       activation_11[0][0]              \n",
      "__________________________________________________________________________________________________\n",
      "batch_normalization_12 (BatchNo (None, 75, 128)      512         conv1d_13[0][0]                  \n",
      "__________________________________________________________________________________________________\n",
      "activation_12 (Activation)      (None, 75, 128)      0           batch_normalization_12[0][0]     \n",
      "__________________________________________________________________________________________________\n",
      "conv1d_14 (Conv1D)              (None, 75, 128)      49280       activation_12[0][0]              \n",
      "__________________________________________________________________________________________________\n",
      "max_pooling1d_6 (MaxPooling1D)  (None, 75, 128)      0           add_5[0][0]                      \n",
      "__________________________________________________________________________________________________\n",
      "add_6 (Add)                     (None, 75, 128)      0           conv1d_14[0][0]                  \n",
      "                                                                 max_pooling1d_6[0][0]            \n",
      "__________________________________________________________________________________________________\n",
      "batch_normalization_13 (BatchNo (None, 75, 128)      512         add_6[0][0]                      \n",
      "__________________________________________________________________________________________________\n",
      "activation_13 (Activation)      (None, 75, 128)      0           batch_normalization_13[0][0]     \n",
      "__________________________________________________________________________________________________\n",
      "conv1d_15 (Conv1D)              (None, 38, 128)      49280       activation_13[0][0]              \n",
      "__________________________________________________________________________________________________\n",
      "batch_normalization_14 (BatchNo (None, 38, 128)      512         conv1d_15[0][0]                  \n",
      "__________________________________________________________________________________________________\n",
      "activation_14 (Activation)      (None, 38, 128)      0           batch_normalization_14[0][0]     \n",
      "__________________________________________________________________________________________________\n",
      "conv1d_16 (Conv1D)              (None, 38, 128)      49280       activation_14[0][0]              \n",
      "__________________________________________________________________________________________________\n",
      "max_pooling1d_7 (MaxPooling1D)  (None, 38, 128)      0           add_6[0][0]                      \n",
      "__________________________________________________________________________________________________\n",
      "add_7 (Add)                     (None, 38, 128)      0           conv1d_16[0][0]                  \n",
      "                                                                 max_pooling1d_7[0][0]            \n",
      "__________________________________________________________________________________________________\n",
      "batch_normalization_15 (BatchNo (None, 38, 128)      512         add_7[0][0]                      \n",
      "__________________________________________________________________________________________________\n",
      "activation_15 (Activation)      (None, 38, 128)      0           batch_normalization_15[0][0]     \n",
      "__________________________________________________________________________________________________\n",
      "conv1d_17 (Conv1D)              (None, 38, 128)      49280       activation_15[0][0]              \n",
      "__________________________________________________________________________________________________\n",
      "batch_normalization_16 (BatchNo (None, 38, 128)      512         conv1d_17[0][0]                  \n",
      "__________________________________________________________________________________________________\n",
      "activation_16 (Activation)      (None, 38, 128)      0           batch_normalization_16[0][0]     \n",
      "__________________________________________________________________________________________________\n",
      "conv1d_18 (Conv1D)              (None, 38, 128)      49280       activation_16[0][0]              \n",
      "__________________________________________________________________________________________________\n",
      "max_pooling1d_8 (MaxPooling1D)  (None, 38, 128)      0           add_7[0][0]                      \n",
      "__________________________________________________________________________________________________\n",
      "add_8 (Add)                     (None, 38, 128)      0           conv1d_18[0][0]                  \n",
      "                                                                 max_pooling1d_8[0][0]            \n",
      "__________________________________________________________________________________________________\n",
      "conv1d_19 (Conv1D)              (None, 38, 192)      73920       add_8[0][0]                      \n",
      "__________________________________________________________________________________________________\n",
      "batch_normalization_17 (BatchNo (None, 38, 192)      768         conv1d_19[0][0]                  \n",
      "__________________________________________________________________________________________________\n",
      "activation_17 (Activation)      (None, 38, 192)      0           batch_normalization_17[0][0]     \n",
      "__________________________________________________________________________________________________\n",
      "conv1d_20 (Conv1D)              (None, 19, 192)      110784      activation_17[0][0]              \n",
      "__________________________________________________________________________________________________\n",
      "batch_normalization_18 (BatchNo (None, 19, 192)      768         conv1d_20[0][0]                  \n",
      "__________________________________________________________________________________________________\n",
      "activation_18 (Activation)      (None, 19, 192)      0           batch_normalization_18[0][0]     \n",
      "__________________________________________________________________________________________________\n",
      "conv1d_21 (Conv1D)              (None, 19, 192)      110784      activation_18[0][0]              \n",
      "__________________________________________________________________________________________________\n",
      "max_pooling1d_9 (MaxPooling1D)  (None, 19, 192)      0           conv1d_19[0][0]                  \n",
      "__________________________________________________________________________________________________\n",
      "add_9 (Add)                     (None, 19, 192)      0           conv1d_21[0][0]                  \n",
      "                                                                 max_pooling1d_9[0][0]            \n",
      "__________________________________________________________________________________________________\n",
      "batch_normalization_19 (BatchNo (None, 19, 192)      768         add_9[0][0]                      \n",
      "__________________________________________________________________________________________________\n",
      "activation_19 (Activation)      (None, 19, 192)      0           batch_normalization_19[0][0]     \n",
      "__________________________________________________________________________________________________\n",
      "conv1d_22 (Conv1D)              (None, 19, 192)      110784      activation_19[0][0]              \n",
      "__________________________________________________________________________________________________\n",
      "batch_normalization_20 (BatchNo (None, 19, 192)      768         conv1d_22[0][0]                  \n",
      "__________________________________________________________________________________________________\n",
      "activation_20 (Activation)      (None, 19, 192)      0           batch_normalization_20[0][0]     \n",
      "__________________________________________________________________________________________________\n",
      "conv1d_23 (Conv1D)              (None, 19, 192)      110784      activation_20[0][0]              \n",
      "__________________________________________________________________________________________________\n",
      "max_pooling1d_10 (MaxPooling1D) (None, 19, 192)      0           add_9[0][0]                      \n",
      "__________________________________________________________________________________________________\n",
      "add_10 (Add)                    (None, 19, 192)      0           conv1d_23[0][0]                  \n",
      "                                                                 max_pooling1d_10[0][0]           \n",
      "__________________________________________________________________________________________________\n",
      "batch_normalization_21 (BatchNo (None, 19, 192)      768         add_10[0][0]                     \n",
      "__________________________________________________________________________________________________\n",
      "activation_21 (Activation)      (None, 19, 192)      0           batch_normalization_21[0][0]     \n",
      "__________________________________________________________________________________________________\n",
      "conv1d_24 (Conv1D)              (None, 10, 192)      110784      activation_21[0][0]              \n",
      "__________________________________________________________________________________________________\n",
      "batch_normalization_22 (BatchNo (None, 10, 192)      768         conv1d_24[0][0]                  \n",
      "__________________________________________________________________________________________________\n",
      "activation_22 (Activation)      (None, 10, 192)      0           batch_normalization_22[0][0]     \n",
      "__________________________________________________________________________________________________\n",
      "conv1d_25 (Conv1D)              (None, 10, 192)      110784      activation_22[0][0]              \n",
      "__________________________________________________________________________________________________\n",
      "max_pooling1d_11 (MaxPooling1D) (None, 10, 192)      0           add_10[0][0]                     \n",
      "__________________________________________________________________________________________________\n",
      "add_11 (Add)                    (None, 10, 192)      0           conv1d_25[0][0]                  \n",
      "                                                                 max_pooling1d_11[0][0]           \n",
      "__________________________________________________________________________________________________\n",
      "global_average_pooling1d_1 (Glo (None, 192)          0           add_11[0][0]                     \n",
      "__________________________________________________________________________________________________\n",
      "batch_normalization_23 (BatchNo (None, 192)          768         global_average_pooling1d_1[0][0] \n",
      "__________________________________________________________________________________________________\n",
      "dense_1 (Dense)                 (None, 128)          24704       batch_normalization_23[0][0]     \n",
      "__________________________________________________________________________________________________\n",
      "batch_normalization_24 (BatchNo (None, 128)          512         dense_1[0][0]                    \n",
      "__________________________________________________________________________________________________\n",
      "activation_23 (Activation)      (None, 128)          0           batch_normalization_24[0][0]     \n",
      "__________________________________________________________________________________________________\n",
      "man (Dense)                     (None, 4)            516         activation_23[0][0]              \n",
      "__________________________________________________________________________________________________\n",
      "dec (Dense)                     (None, 4)            516         activation_23[0][0]              \n",
      "__________________________________________________________________________________________________\n",
      "var (Dense)                     (None, 4)            516         activation_23[0][0]              \n",
      "__________________________________________________________________________________________________\n",
      "ua (Dense)                      (None, 4)            516         activation_23[0][0]              \n",
      "==================================================================================================\n",
      "Total params: 1,295,632\n",
      "Trainable params: 1,289,616\n",
      "Non-trainable params: 6,016\n",
      "__________________________________________________________________________________________________\n"
     ]
    }
   ],
   "source": [
    "print(\"===== create directory =====\")\n",
    "model_id = FLAG.target + \"_\" + datetime.now().strftime(\"%y%m%d%H%M%S\")\n",
    "model_save = os.path.join(FLAG.model_save, FLAG.target, model_id)\n",
    "summary_save = os.path.join(FLAG.model_save, FLAG.target, 'summary_'+FLAG.target+'.csv')\n",
    "\n",
    "if not os.path.exists(model_save):\n",
    "    os.makedirs(model_save)\n",
    "    print(model_save)\n",
    "\n",
    "# declare model \n",
    "model = build_model(length=FLAG.length, n_channel=FLAG.n_channel, n_classes=n_classes, filters=FLAG.filters, kernel_size=FLAG.kernel_size, layers=FLAG.layers,\n",
    "                activation=FLAG.activation, kernel_initializer=FLAG.kernel_initializer, l_2=FLAG.l2)\n",
    "model.summary()\n",
    "\n",
    "\n",
    "lr_rate = FLAG.learning_rate\n",
    "adam = Adamax(lr_rate, beta_1=0.5, beta_2=0.999, epsilon=1e-08, decay = 0.0)\n",
    "model.compile(loss='categorical_crossentropy', optimizer=adam, metrics=['accuracy'])\n",
    "\n",
    "csv_logger = keras.callbacks.CSVLogger(os.path.join(model_save, 'training.log'))\n",
    "checkpoint = keras.callbacks.ModelCheckpoint(os.path.join(model_save, 'model.h5'), \n",
    "                                            monitor=FLAG.monitor, \n",
    "                                            verbose=1, \n",
    "                                            save_best_only=True,\n",
    "                                            save_weights_only=False,\n",
    "                                            mode='auto',\n",
    "                                            period=1)\n",
    "earlystop = EarlyStopping(monitor = FLAG.monitor, patience=20, verbose=1)\n",
    "reduce_lr = ReduceLROnPlateau(monitor=FLAG.monitor, factor = 0.5, patience = FLAG.reduce_lr_patience, min_lr = 0, cooldown = 5, verbose = True)\n"
   ]
  },
  {
   "cell_type": "code",
   "execution_count": 11,
   "metadata": {
    "scrolled": true
   },
   "outputs": [
    {
     "name": "stdout",
     "output_type": "stream",
     "text": [
      "Epoch 1/10\n",
      "49/50 [============================>.] - ETA: 0s - loss: 51.6684 - man_loss: 1.8436 - dec_loss: 1.9001 - var_loss: 1.2471 - ua_loss: 1.6012 - man_acc: 0.2819 - dec_acc: 0.0702 - var_acc: 0.4401 - ua_acc: 0.1837\n",
      "Epoch 00001: val_loss improved from inf to 52.12907, saving model to /home/katieyth/gynecology/model_save/management/management_181228114837/model.h5\n",
      "50/50 [==============================] - 18s 367ms/step - loss: 51.6458 - man_loss: 1.8328 - dec_loss: 1.8961 - var_loss: 1.2454 - ua_loss: 1.5985 - man_acc: 0.2825 - dec_acc: 0.0750 - var_acc: 0.4412 - ua_acc: 0.1850 - val_loss: 52.1291 - val_man_loss: 1.7532 - val_dec_loss: 2.3418 - val_var_loss: 1.0321 - val_ua_loss: 2.1017 - val_man_acc: 0.2077 - val_dec_acc: 0.1691 - val_var_acc: 0.6184 - val_ua_acc: 0.1014\n",
      "Epoch 2/10\n",
      "49/50 [============================>.] - ETA: 0s - loss: 50.2117 - man_loss: 1.5771 - dec_loss: 1.5361 - var_loss: 0.9849 - ua_loss: 1.3657 - man_acc: 0.3355 - dec_acc: 0.1875 - var_acc: 0.6684 - ua_acc: 0.2946\n",
      "Epoch 00002: val_loss improved from 52.12907 to 51.28478, saving model to /home/katieyth/gynecology/model_save/management/management_181228114837/model.h5\n",
      "50/50 [==============================] - 5s 96ms/step - loss: 50.2020 - man_loss: 1.5769 - dec_loss: 1.5317 - var_loss: 0.9832 - ua_loss: 1.3654 - man_acc: 0.3362 - dec_acc: 0.1900 - var_acc: 0.6700 - ua_acc: 0.2963 - val_loss: 51.2848 - val_man_loss: 1.3981 - val_dec_loss: 2.4086 - val_var_loss: 0.9282 - val_ua_loss: 1.9659 - val_man_acc: 0.3188 - val_dec_acc: 0.1594 - val_var_acc: 0.7295 - val_ua_acc: 0.1111\n",
      "Epoch 3/10\n",
      "49/50 [============================>.] - ETA: 0s - loss: 49.0795 - man_loss: 1.4318 - dec_loss: 1.2489 - var_loss: 0.7967 - ua_loss: 1.1700 - man_acc: 0.4107 - dec_acc: 0.3724 - var_acc: 0.8380 - ua_acc: 0.4401\n",
      "Epoch 00003: val_loss improved from 51.28478 to 50.83555, saving model to /home/katieyth/gynecology/model_save/management/management_181228114837/model.h5\n",
      "50/50 [==============================] - 5s 101ms/step - loss: 49.0621 - man_loss: 1.4277 - dec_loss: 1.2435 - var_loss: 0.7961 - ua_loss: 1.1657 - man_acc: 0.4100 - dec_acc: 0.3775 - var_acc: 0.8387 - ua_acc: 0.4425 - val_loss: 50.8356 - val_man_loss: 1.2344 - val_dec_loss: 2.4430 - val_var_loss: 0.8069 - val_ua_loss: 2.0839 - val_man_acc: 0.3720 - val_dec_acc: 0.1787 - val_var_acc: 0.8164 - val_ua_acc: 0.0918\n",
      "Epoch 4/10\n",
      "49/50 [============================>.] - ETA: 0s - loss: 48.2075 - man_loss: 1.3298 - dec_loss: 1.0341 - var_loss: 0.6807 - ua_loss: 1.0495 - man_acc: 0.4745 - dec_acc: 0.6097 - var_acc: 0.8916 - ua_acc: 0.5816\n",
      "Epoch 00004: val_loss improved from 50.83555 to 50.05904, saving model to /home/katieyth/gynecology/model_save/management/management_181228114837/model.h5\n",
      "50/50 [==============================] - 5s 97ms/step - loss: 48.1920 - man_loss: 1.3246 - dec_loss: 1.0316 - var_loss: 0.6779 - ua_loss: 1.0477 - man_acc: 0.4763 - dec_acc: 0.6088 - var_acc: 0.8925 - ua_acc: 0.5850 - val_loss: 50.0590 - val_man_loss: 1.0676 - val_dec_loss: 2.3703 - val_var_loss: 0.7151 - val_ua_loss: 1.9600 - val_man_acc: 0.4686 - val_dec_acc: 0.1546 - val_var_acc: 0.8551 - val_ua_acc: 0.0966\n",
      "Epoch 5/10\n",
      "49/50 [============================>.] - ETA: 0s - loss: 47.4074 - man_loss: 1.2192 - dec_loss: 0.8838 - var_loss: 0.5707 - ua_loss: 0.9435 - man_acc: 0.5191 - dec_acc: 0.7360 - var_acc: 0.9388 - ua_acc: 0.6722\n",
      "Epoch 00005: val_loss improved from 50.05904 to 49.72101, saving model to /home/katieyth/gynecology/model_save/management/management_181228114837/model.h5\n",
      "50/50 [==============================] - 5s 103ms/step - loss: 47.4023 - man_loss: 1.2164 - dec_loss: 0.8863 - var_loss: 0.5689 - ua_loss: 0.9437 - man_acc: 0.5175 - dec_acc: 0.7338 - var_acc: 0.9400 - ua_acc: 0.6737 - val_loss: 49.7210 - val_man_loss: 1.0371 - val_dec_loss: 2.3663 - val_var_loss: 0.6770 - val_ua_loss: 2.0202 - val_man_acc: 0.4686 - val_dec_acc: 0.1546 - val_var_acc: 0.8696 - val_ua_acc: 0.0821\n",
      "Epoch 6/10\n",
      "49/50 [============================>.] - ETA: 0s - loss: 46.7210 - man_loss: 1.1816 - dec_loss: 0.7277 - var_loss: 0.4860 - ua_loss: 0.8641 - man_acc: 0.5676 - dec_acc: 0.8571 - var_acc: 0.9464 - ua_acc: 0.7679\n",
      "Epoch 00006: val_loss improved from 49.72101 to 49.36587, saving model to /home/katieyth/gynecology/model_save/management/management_181228114837/model.h5\n",
      "50/50 [==============================] - 5s 103ms/step - loss: 46.7120 - man_loss: 1.1806 - dec_loss: 0.7268 - var_loss: 0.4852 - ua_loss: 0.8611 - man_acc: 0.5663 - dec_acc: 0.8575 - var_acc: 0.9475 - ua_acc: 0.7700 - val_loss: 49.3659 - val_man_loss: 0.9836 - val_dec_loss: 2.3907 - val_var_loss: 0.5806 - val_ua_loss: 2.1224 - val_man_acc: 0.4976 - val_dec_acc: 0.1449 - val_var_acc: 0.8696 - val_ua_acc: 0.0580\n",
      "Epoch 7/10\n",
      "49/50 [============================>.] - ETA: 0s - loss: 46.0398 - man_loss: 1.0495 - dec_loss: 0.6434 - var_loss: 0.4217 - ua_loss: 0.7980 - man_acc: 0.5689 - dec_acc: 0.8903 - var_acc: 0.9515 - ua_acc: 0.7997\n",
      "Epoch 00007: val_loss improved from 49.36587 to 48.96868, saving model to /home/katieyth/gynecology/model_save/management/management_181228114837/model.h5\n",
      "50/50 [==============================] - 5s 103ms/step - loss: 46.0317 - man_loss: 1.0497 - dec_loss: 0.6405 - var_loss: 0.4207 - ua_loss: 0.7970 - man_acc: 0.5675 - dec_acc: 0.8912 - var_acc: 0.9525 - ua_acc: 0.7987 - val_loss: 48.9687 - val_man_loss: 0.9453 - val_dec_loss: 2.3996 - val_var_loss: 0.5245 - val_ua_loss: 2.1484 - val_man_acc: 0.5556 - val_dec_acc: 0.1498 - val_var_acc: 0.8792 - val_ua_acc: 0.0531\n",
      "Epoch 8/10\n",
      "49/50 [============================>.] - ETA: 0s - loss: 45.5297 - man_loss: 1.0525 - dec_loss: 0.5576 - var_loss: 0.3807 - ua_loss: 0.7527 - man_acc: 0.5778 - dec_acc: 0.9158 - var_acc: 0.9541 - ua_acc: 0.8151\n",
      "Epoch 00008: val_loss improved from 48.96868 to 48.59574, saving model to /home/katieyth/gynecology/model_save/management/management_181228114837/model.h5\n",
      "50/50 [==============================] - 5s 103ms/step - loss: 45.5207 - man_loss: 1.0512 - dec_loss: 0.5568 - var_loss: 0.3800 - ua_loss: 0.7500 - man_acc: 0.5763 - dec_acc: 0.9163 - var_acc: 0.9537 - ua_acc: 0.8175 - val_loss: 48.5957 - val_man_loss: 0.9080 - val_dec_loss: 2.5072 - val_var_loss: 0.5021 - val_ua_loss: 2.0715 - val_man_acc: 0.5990 - val_dec_acc: 0.1353 - val_var_acc: 0.8792 - val_ua_acc: 0.0628\n",
      "Epoch 9/10\n",
      "49/50 [============================>.] - ETA: 0s - loss: 44.9349 - man_loss: 0.9734 - dec_loss: 0.4917 - var_loss: 0.3464 - ua_loss: 0.6837 - man_acc: 0.6224 - dec_acc: 0.9324 - var_acc: 0.9503 - ua_acc: 0.8278\n",
      "Epoch 00009: val_loss improved from 48.59574 to 48.39710, saving model to /home/katieyth/gynecology/model_save/management/management_181228114837/model.h5\n",
      "50/50 [==============================] - 5s 103ms/step - loss: 44.9280 - man_loss: 0.9705 - dec_loss: 0.4927 - var_loss: 0.3453 - ua_loss: 0.6833 - man_acc: 0.6225 - dec_acc: 0.9313 - var_acc: 0.9513 - ua_acc: 0.8275 - val_loss: 48.3971 - val_man_loss: 0.8951 - val_dec_loss: 2.5808 - val_var_loss: 0.4647 - val_ua_loss: 2.1990 - val_man_acc: 0.6570 - val_dec_acc: 0.1353 - val_var_acc: 0.8841 - val_ua_acc: 0.0580\n",
      "Epoch 10/10\n",
      "49/50 [============================>.] - ETA: 0s - loss: 44.4642 - man_loss: 0.9438 - dec_loss: 0.4534 - var_loss: 0.3106 - ua_loss: 0.6688 - man_acc: 0.6186 - dec_acc: 0.9311 - var_acc: 0.9554 - ua_acc: 0.8406\n",
      "Epoch 00010: val_loss improved from 48.39710 to 48.02577, saving model to /home/katieyth/gynecology/model_save/management/management_181228114837/model.h5\n",
      "50/50 [==============================] - 5s 98ms/step - loss: 44.4544 - man_loss: 0.9426 - dec_loss: 0.4511 - var_loss: 0.3088 - ua_loss: 0.6678 - man_acc: 0.6162 - dec_acc: 0.9325 - var_acc: 0.9562 - ua_acc: 0.8413 - val_loss: 48.0258 - val_man_loss: 0.8717 - val_dec_loss: 2.5728 - val_var_loss: 0.4615 - val_ua_loss: 2.2164 - val_man_acc: 0.6570 - val_dec_acc: 0.1353 - val_var_acc: 0.8792 - val_ua_acc: 0.0435\n"
     ]
    },
    {
     "data": {
      "text/plain": [
       "<keras.callbacks.History at 0x7f554627fdd8>"
      ]
     },
     "execution_count": 11,
     "metadata": {},
     "output_type": "execute_result"
    }
   ],
   "source": [
    "model.fit_generator(generator=train_gen,\n",
    "                    #class_weight=class_weight,\n",
    "                    validation_data=(Xtest, {'man':Ytest[:,:,0],\n",
    "                                             'ua' :Ytest[:,:,1],\n",
    "                                             'var':Ytest[:,:,2],\n",
    "                                             'dec':Ytest[:,:,3]}),#, Wtest),\n",
    "                    steps_per_epoch=50, \n",
    "                    epochs=10, #FLAG.epoch,\n",
    "                    verbose=1,\n",
    "                    callbacks=[csv_logger,\n",
    "                            #reduce_lr, \n",
    "                            checkpoint,\n",
    "                            #earlystop\n",
    "                              ])\n"
   ]
  },
  {
   "cell_type": "code",
   "execution_count": 12,
   "metadata": {
    "code_folding": [
     0
    ]
   },
   "outputs": [],
   "source": [
    "def plot_keras_csv_logger(csv_logger, save_dir='', accuracy=False):\n",
    "    if type(csv_logger) is str:\n",
    "        loss = pd.read_table(csv_logger, delimiter=',')\n",
    "    else:\n",
    "        loss = pd.read_table(csv_logger.filename, delimiter=',')\n",
    "    print('min val_loss {0} at epoch {1}'.format(min(loss.val_loss), np.argmin(loss.val_loss)))\n",
    "    plt.plot(loss.epoch, loss.loss, label='loss')\n",
    "    plt.plot(loss.epoch, loss.val_loss, label='val_loss')\n",
    "    plt.legend()\n",
    "    plt.xlabel('epoch')\n",
    "    plt.ylabel('loss')\n",
    "    plt.savefig(os.path.join(save_dir, 'loss.png'))\n",
    "    plt.show()\n",
    "    plt.close()\n",
    "\n",
    "    if accuracy:\n",
    "        print('max val_accu {0} at epoch {1}'.format(max(loss.val_dec_acc), np.argmax(loss.val_dec_acc)))\n",
    "        plt.plot(loss.epoch, loss.dec_acc, label='dec_acc')\n",
    "        plt.plot(loss.epoch, loss.val_dec_acc, label='val_dec_accu')\n",
    "        plt.legend()\n",
    "        plt.xlabel('epoch')\n",
    "        plt.ylabel('accuracy')\n",
    "        plt.savefig(os.path.join(save_dir, 'dec_acc.png'))\n",
    "        plt.show()\n",
    "        plt.close()\n",
    "        \n",
    "        print('max val_accu {0} at epoch {1}'.format(max(loss.val_var_acc), np.argmax(loss.val_var_acc)))\n",
    "        plt.plot(loss.epoch, loss.var_acc, label='var_acc')\n",
    "        plt.plot(loss.epoch, loss.val_var_acc, label='val_var_accu')\n",
    "        plt.legend()\n",
    "        plt.xlabel('epoch')\n",
    "        plt.ylabel('accuracy')\n",
    "        plt.savefig(os.path.join(save_dir, 'var_acc.png'))\n",
    "        plt.show()\n",
    "        plt.close()\n",
    "        \n",
    "        print('max val_accu {0} at epoch {1}'.format(max(loss.val_ua_acc), np.argmax(loss.val_ua_acc)))\n",
    "        plt.plot(loss.epoch, loss.ua_acc, label='ua_acc')\n",
    "        plt.plot(loss.epoch, loss.val_ua_acc, label='val_ua_accu')\n",
    "        plt.legend()\n",
    "        plt.xlabel('epoch')\n",
    "        plt.ylabel('accuracy')\n",
    "        plt.savefig(os.path.join(save_dir, 'ua_acc.png'))\n",
    "        plt.show()\n",
    "        plt.close()\n",
    "        \n",
    "        print('max val_accu {0} at epoch {1}'.format(max(loss.val_man_acc), np.argmax(loss.val_man_acc)))\n",
    "        plt.plot(loss.epoch, loss.dec_acc, label='man_acc')\n",
    "        plt.plot(loss.epoch, loss.val_dec_acc, label='val_man_accu')\n",
    "        plt.legend()\n",
    "        plt.xlabel('epoch')\n",
    "        plt.ylabel('accuracy')\n",
    "        plt.savefig(os.path.join(save_dir, 'man_acc.png'))\n",
    "        plt.show()\n",
    "        plt.close()"
   ]
  },
  {
   "cell_type": "code",
   "execution_count": 13,
   "metadata": {
    "scrolled": true
   },
   "outputs": [
    {
     "name": "stdout",
     "output_type": "stream",
     "text": [
      "min val_loss 48.02577178144225 at epoch 9\n"
     ]
    },
    {
     "name": "stderr",
     "output_type": "stream",
     "text": [
      "/usr/local/lib/python3.5/dist-packages/numpy/core/fromnumeric.py:52: FutureWarning: 'argmin' is deprecated, use 'idxmin' instead. The behavior of 'argmin'\n",
      "will be corrected to return the positional minimum in the future.\n",
      "Use 'series.values.argmin' to get the position of the minimum now.\n",
      "  return getattr(obj, method)(*args, **kwds)\n"
     ]
    },
    {
     "data": {
      "image/png": "[encoded data removed]",
      "text/plain": [
       "<matplotlib.figure.Figure at 0x7f554627fb00>"
      ]
     },
     "metadata": {},
     "output_type": "display_data"
    },
    {
     "name": "stdout",
     "output_type": "stream",
     "text": [
      "max val_accu 0.17874396207251986 at epoch 2\n"
     ]
    },
    {
     "name": "stderr",
     "output_type": "stream",
     "text": [
      "/usr/local/lib/python3.5/dist-packages/numpy/core/fromnumeric.py:52: FutureWarning: 'argmax' is deprecated, use 'idxmax' instead. The behavior of 'argmax'\n",
      "will be corrected to return the positional maximum in the future.\n",
      "Use 'series.values.argmax' to get the position of the maximum now.\n",
      "  return getattr(obj, method)(*args, **kwds)\n"
     ]
    },
    {
     "data": {
      "image/png": "[encoded data removed]",
      "text/plain": [
       "<matplotlib.figure.Figure at 0x7f55000a5518>"
      ]
     },
     "metadata": {},
     "output_type": "display_data"
    },
    {
     "name": "stdout",
     "output_type": "stream",
     "text": [
      "max val_accu 0.8840579713024379 at epoch 8\n"
     ]
    },
    {
     "data": {
      "image/png": "[encoded data removed]",
      "text/plain": [
       "<matplotlib.figure.Figure at 0x7f5500068160>"
      ]
     },
     "metadata": {},
     "output_type": "display_data"
    },
    {
     "name": "stdout",
     "output_type": "stream",
     "text": [
      "max val_accu 0.1111111111111111 at epoch 1\n"
     ]
    },
    {
     "data": {
      "image/png": "[encoded data removed]",
      "text/plain": [
       "<matplotlib.figure.Figure at 0x7f54d80f0860>"
      ]
     },
     "metadata": {},
     "output_type": "display_data"
    },
    {
     "name": "stdout",
     "output_type": "stream",
     "text": [
      "max val_accu 0.6570048323576001 at epoch 8\n"
     ]
    },
    {
     "data": {
      "image/png": "[encoded data removed]",
      "text/plain": [
       "<matplotlib.figure.Figure at 0x7f54d80a8a90>"
      ]
     },
     "metadata": {},
     "output_type": "display_data"
    }
   ],
   "source": [
    "plot_keras_csv_logger(csv_logger, save_dir=model_save, accuracy=True)"
   ]
  },
  {
   "cell_type": "code",
   "execution_count": 14,
   "metadata": {},
   "outputs": [
    {
     "name": "stdout",
     "output_type": "stream",
     "text": [
      "/home/katieyth/gynecology/model_save/management/management_181228114837\n"
     ]
    }
   ],
   "source": [
    "path = model_save\n",
    "print(path)\n",
    "# path = '/home/katieyth/gynecology/model_save/management/management_181224174216'"
   ]
  },
  {
   "cell_type": "code",
   "execution_count": 15,
   "metadata": {},
   "outputs": [],
   "source": [
    "# evaluate validation set\n",
    "trained_model = load_model(os.path.join(path,'model.h5'))\n",
    "Pred = trained_model.predict(Xtest)"
   ]
  },
  {
   "cell_type": "code",
   "execution_count": 16,
   "metadata": {},
   "outputs": [],
   "source": [
    "# pred_hd_l = np.argmax(Pred, axis=1)\n",
    "# pred_dataset = valid_d['ID']"
   ]
  },
  {
   "cell_type": "code",
   "execution_count": 17,
   "metadata": {},
   "outputs": [],
   "source": [
    "# features = trained_model.get_layer('global_average_pooling1d_1')\n",
    "# extractor = Model(inputs=trained_model.input, outputs=features.output)\n",
    "# Fout = extractor.predict(x=Xtest)"
   ]
  },
  {
   "cell_type": "code",
   "execution_count": 18,
   "metadata": {},
   "outputs": [],
   "source": [
    "# O_X = valid_d[FLAG.target] == pred_hd_l\n",
    "# print(len(O_X)-sum(O_X))\n",
    "# print(sum(O_X)/len(O_X))\n",
    "# O_X[O_X==1] = 'gray'\n",
    "# O_X[O_X==0] = 'red'"
   ]
  },
  {
   "cell_type": "code",
   "execution_count": 19,
   "metadata": {},
   "outputs": [],
   "source": [
    "# from sklearn.decomposition import PCA\n",
    "# pca = PCA(n_components=2)\n",
    "# pca_emb = pca.fit_transform(Fout)\n",
    "# num = len([l for l in valid_d['ID'] if 'CMU_' in l])\n",
    "# fig = plt.figure(figsize=(15,3))\n",
    "# plt.subplot('13%s' % (1))\n",
    "# plt.scatter(pca_emb[:num,0], pca_emb[:num,1], c = valid_d[FLAG.target][:num], marker='o', cmap='coolwarm', alpha=0.4)\n",
    "# plt.scatter(pca_emb[num:,0], pca_emb[num:,1], c = valid_d[FLAG.target][num:], marker='X', cmap='coolwarm', alpha=0.4)\n",
    "# plt.ylabel('%s\\n PCA (dim=2)' %(FLAG.target), rotation=65)\n",
    "# plt.title('GT')\n",
    "# plt.subplot('13%s' % (2))\n",
    "# plt.scatter(pca_emb[:num,0], pca_emb[:num,1], c = pred_hd_l[:num], marker='o', cmap='coolwarm', alpha=0.4)\n",
    "# plt.scatter(pca_emb[num:,0], pca_emb[num:,1], c = pred_hd_l[num:], marker='X', cmap='coolwarm', alpha=0.4)\n",
    "# plt.title('Pred')\n",
    "# plt.subplot('13%s' % (3))\n",
    "# plt.scatter(pca_emb[:num,0], pca_emb[:num,1], c = O_X[:num], marker='o', alpha=0.4)\n",
    "# plt.scatter(pca_emb[num:,0], pca_emb[num:,1], c = O_X[num:], marker='X', alpha=0.4)\n",
    "# plt.title('Wrong Prediction')\n",
    "# plt.show()\n",
    "\n",
    "# check_dir('./plot/feature_analysis/')\n",
    "# fig.savefig('./plot/feature_analysis/F_analysis_%s.png' % (FLAG.target), dpi=100, format='png',bbox_inches='tight' )"
   ]
  },
  {
   "cell_type": "code",
   "execution_count": 22,
   "metadata": {},
   "outputs": [
    {
     "ename": "ValueError",
     "evalue": "Found input variables with inconsistent numbers of samples: [207, 4]",
     "output_type": "error",
     "traceback": [
      "\u001b[0;31m---------------------------------------------------------------------------\u001b[0m",
      "\u001b[0;31mValueError\u001b[0m                                Traceback (most recent call last)",
      "\u001b[0;32m<ipython-input-22-4f676138ff36>\u001b[0m in \u001b[0;36m<module>\u001b[0;34m()\u001b[0m\n\u001b[1;32m      3\u001b[0m \u001b[0mytest_aug\u001b[0m \u001b[0;34m=\u001b[0m \u001b[0mnp\u001b[0m\u001b[0;34m.\u001b[0m\u001b[0margmax\u001b[0m\u001b[0;34m(\u001b[0m\u001b[0mYtest\u001b[0m\u001b[0;34m,\u001b[0m \u001b[0maxis\u001b[0m\u001b[0;34m=\u001b[0m\u001b[0;36m1\u001b[0m\u001b[0;34m)\u001b[0m\u001b[0;34m\u001b[0m\u001b[0m\n\u001b[1;32m      4\u001b[0m \u001b[0;34m\u001b[0m\u001b[0m\n\u001b[0;32m----> 5\u001b[0;31m \u001b[0mcfm\u001b[0m \u001b[0;34m=\u001b[0m \u001b[0mconfusion_matrix\u001b[0m\u001b[0;34m(\u001b[0m\u001b[0my_pred\u001b[0m\u001b[0;34m=\u001b[0m\u001b[0mypred_aug\u001b[0m\u001b[0;34m,\u001b[0m \u001b[0my_true\u001b[0m\u001b[0;34m=\u001b[0m\u001b[0mytest_aug\u001b[0m\u001b[0;34m)\u001b[0m\u001b[0;34m\u001b[0m\u001b[0m\n\u001b[0m\u001b[1;32m      6\u001b[0m \u001b[0mrecall\u001b[0m \u001b[0;34m=\u001b[0m \u001b[0mnp\u001b[0m\u001b[0;34m.\u001b[0m\u001b[0mdiag\u001b[0m\u001b[0;34m(\u001b[0m\u001b[0mcfm\u001b[0m\u001b[0;34m)\u001b[0m \u001b[0;34m/\u001b[0m \u001b[0mnp\u001b[0m\u001b[0;34m.\u001b[0m\u001b[0msum\u001b[0m\u001b[0;34m(\u001b[0m\u001b[0mcfm\u001b[0m\u001b[0;34m,\u001b[0m \u001b[0maxis\u001b[0m\u001b[0;34m=\u001b[0m\u001b[0;36m1\u001b[0m\u001b[0;34m)\u001b[0m\u001b[0;34m\u001b[0m\u001b[0m\n\u001b[1;32m      7\u001b[0m \u001b[0mprecision\u001b[0m \u001b[0;34m=\u001b[0m \u001b[0mnp\u001b[0m\u001b[0;34m.\u001b[0m\u001b[0mdiag\u001b[0m\u001b[0;34m(\u001b[0m\u001b[0mcfm\u001b[0m\u001b[0;34m)\u001b[0m \u001b[0;34m/\u001b[0m \u001b[0mnp\u001b[0m\u001b[0;34m.\u001b[0m\u001b[0msum\u001b[0m\u001b[0;34m(\u001b[0m\u001b[0mcfm\u001b[0m\u001b[0;34m,\u001b[0m \u001b[0maxis\u001b[0m\u001b[0;34m=\u001b[0m\u001b[0;36m0\u001b[0m\u001b[0;34m)\u001b[0m\u001b[0;34m\u001b[0m\u001b[0m\n",
      "\u001b[0;32m/usr/local/lib/python3.5/dist-packages/sklearn/metrics/classification.py\u001b[0m in \u001b[0;36mconfusion_matrix\u001b[0;34m(y_true, y_pred, labels, sample_weight)\u001b[0m\n\u001b[1;32m    248\u001b[0m \u001b[0;34m\u001b[0m\u001b[0m\n\u001b[1;32m    249\u001b[0m     \"\"\"\n\u001b[0;32m--> 250\u001b[0;31m     \u001b[0my_type\u001b[0m\u001b[0;34m,\u001b[0m \u001b[0my_true\u001b[0m\u001b[0;34m,\u001b[0m \u001b[0my_pred\u001b[0m \u001b[0;34m=\u001b[0m \u001b[0m_check_targets\u001b[0m\u001b[0;34m(\u001b[0m\u001b[0my_true\u001b[0m\u001b[0;34m,\u001b[0m \u001b[0my_pred\u001b[0m\u001b[0;34m)\u001b[0m\u001b[0;34m\u001b[0m\u001b[0m\n\u001b[0m\u001b[1;32m    251\u001b[0m     \u001b[0;32mif\u001b[0m \u001b[0my_type\u001b[0m \u001b[0;32mnot\u001b[0m \u001b[0;32min\u001b[0m \u001b[0;34m(\u001b[0m\u001b[0;34m\"binary\"\u001b[0m\u001b[0;34m,\u001b[0m \u001b[0;34m\"multiclass\"\u001b[0m\u001b[0;34m)\u001b[0m\u001b[0;34m:\u001b[0m\u001b[0;34m\u001b[0m\u001b[0m\n\u001b[1;32m    252\u001b[0m         \u001b[0;32mraise\u001b[0m \u001b[0mValueError\u001b[0m\u001b[0;34m(\u001b[0m\u001b[0;34m\"%s is not supported\"\u001b[0m \u001b[0;34m%\u001b[0m \u001b[0my_type\u001b[0m\u001b[0;34m)\u001b[0m\u001b[0;34m\u001b[0m\u001b[0m\n",
      "\u001b[0;32m/usr/local/lib/python3.5/dist-packages/sklearn/metrics/classification.py\u001b[0m in \u001b[0;36m_check_targets\u001b[0;34m(y_true, y_pred)\u001b[0m\n\u001b[1;32m     69\u001b[0m     \u001b[0my_pred\u001b[0m \u001b[0;34m:\u001b[0m \u001b[0marray\u001b[0m \u001b[0;32mor\u001b[0m \u001b[0mindicator\u001b[0m \u001b[0mmatrix\u001b[0m\u001b[0;34m\u001b[0m\u001b[0m\n\u001b[1;32m     70\u001b[0m     \"\"\"\n\u001b[0;32m---> 71\u001b[0;31m     \u001b[0mcheck_consistent_length\u001b[0m\u001b[0;34m(\u001b[0m\u001b[0my_true\u001b[0m\u001b[0;34m,\u001b[0m \u001b[0my_pred\u001b[0m\u001b[0;34m)\u001b[0m\u001b[0;34m\u001b[0m\u001b[0m\n\u001b[0m\u001b[1;32m     72\u001b[0m     \u001b[0mtype_true\u001b[0m \u001b[0;34m=\u001b[0m \u001b[0mtype_of_target\u001b[0m\u001b[0;34m(\u001b[0m\u001b[0my_true\u001b[0m\u001b[0;34m)\u001b[0m\u001b[0;34m\u001b[0m\u001b[0m\n\u001b[1;32m     73\u001b[0m     \u001b[0mtype_pred\u001b[0m \u001b[0;34m=\u001b[0m \u001b[0mtype_of_target\u001b[0m\u001b[0;34m(\u001b[0m\u001b[0my_pred\u001b[0m\u001b[0;34m)\u001b[0m\u001b[0;34m\u001b[0m\u001b[0m\n",
      "\u001b[0;32m/usr/local/lib/python3.5/dist-packages/sklearn/utils/validation.py\u001b[0m in \u001b[0;36mcheck_consistent_length\u001b[0;34m(*arrays)\u001b[0m\n\u001b[1;32m    202\u001b[0m     \u001b[0;32mif\u001b[0m \u001b[0mlen\u001b[0m\u001b[0;34m(\u001b[0m\u001b[0muniques\u001b[0m\u001b[0;34m)\u001b[0m \u001b[0;34m>\u001b[0m \u001b[0;36m1\u001b[0m\u001b[0;34m:\u001b[0m\u001b[0;34m\u001b[0m\u001b[0m\n\u001b[1;32m    203\u001b[0m         raise ValueError(\"Found input variables with inconsistent numbers of\"\n\u001b[0;32m--> 204\u001b[0;31m                          \" samples: %r\" % [int(l) for l in lengths])\n\u001b[0m\u001b[1;32m    205\u001b[0m \u001b[0;34m\u001b[0m\u001b[0m\n\u001b[1;32m    206\u001b[0m \u001b[0;34m\u001b[0m\u001b[0m\n",
      "\u001b[0;31mValueError\u001b[0m: Found input variables with inconsistent numbers of samples: [207, 4]"
     ]
    }
   ],
   "source": [
    "# evaluate by every segment\n",
    "ypred_aug = np.argmax(Pred , axis=1)\n",
    "ytest_aug = np.argmax(Ytest, axis=1)\n",
    "\n",
    "cfm = confusion_matrix(y_pred=ypred_aug, y_true=ytest_aug)\n",
    "recall = np.diag(cfm) / np.sum(cfm, axis=1)\n",
    "precision = np.diag(cfm) / np.sum(cfm, axis=0)\n",
    "val_accu = accuracy_score(y_pred=ypred_aug, y_true=ytest_aug)\n",
    "\n",
    "print('accuracy : ', val_accu)\n",
    "for i in range(n_classes):\n",
    "    print('recall-{0} : {1}'.format(i, recall[i]))\n",
    "#     print('precision-{0}: {1}'.format(i, precision[i]))\n",
    "for i in range(n_classes):\n",
    "#     print('recall-{0} : {1}'.format(i, recall[i]))\n",
    "    print('precision-{0}: {1}'.format(i, precision[i]))\n",
    "\n",
    "\n",
    "\n",
    "\n",
    "\n",
    "plt.figure()\n",
    "rcl = [round(recall[i],2) for i in range(n_classes)]\n",
    "plot_confusion_matrix(cfm, classes=np.arange(n_classes), title='%s acc: %.2f \\nrecall: %s' %(FLAG.target, val_accu,\n",
    "                                                                                rcl),\n",
    "                     save_dir=model_save)\n",
    "# plt.close()\n",
    "# plt.savefig('./plot/feature_analysis/cfm_%s.png' % (FLAG.target), dpi=100, format='png',bbox_inches='tight' )"
   ]
  },
  {
   "cell_type": "code",
   "execution_count": 20,
   "metadata": {},
   "outputs": [
    {
     "name": "stderr",
     "output_type": "stream",
     "text": [
      "/usr/local/lib/python3.5/dist-packages/numpy/core/fromnumeric.py:52: FutureWarning: 'argmin' is deprecated, use 'idxmin' instead. The behavior of 'argmin'\n",
      "will be corrected to return the positional minimum in the future.\n",
      "Use 'series.values.argmin' to get the position of the minimum now.\n",
      "  return getattr(obj, method)(*args, **kwds)\n"
     ]
    }
   ],
   "source": [
    "# read traing.log\n",
    "loss = pd.read_table(csv_logger.filename, delimiter=',')\n",
    "best_val_loss = np.min(loss.val_loss)\n",
    "best_epoch = np.argmin(loss.val_loss)"
   ]
  },
  {
   "cell_type": "code",
   "execution_count": 21,
   "metadata": {},
   "outputs": [
    {
     "ename": "NameError",
     "evalue": "name 'val_accu' is not defined",
     "output_type": "error",
     "traceback": [
      "\u001b[0;31m---------------------------------------------------------------------------\u001b[0m",
      "\u001b[0;31mNameError\u001b[0m                                 Traceback (most recent call last)",
      "\u001b[0;32m<ipython-input-21-e4cb6ab4b162>\u001b[0m in \u001b[0;36m<module>\u001b[0;34m()\u001b[0m\n\u001b[1;32m      3\u001b[0m \u001b[0msav\u001b[0m\u001b[0;34m[\u001b[0m\u001b[0;34m'epoch'\u001b[0m\u001b[0;34m]\u001b[0m \u001b[0;34m=\u001b[0m \u001b[0mbest_epoch\u001b[0m\u001b[0;34m\u001b[0m\u001b[0m\n\u001b[1;32m      4\u001b[0m \u001b[0msav\u001b[0m\u001b[0;34m[\u001b[0m\u001b[0;34m'val_loss'\u001b[0m\u001b[0;34m]\u001b[0m \u001b[0;34m=\u001b[0m \u001b[0mbest_val_loss\u001b[0m\u001b[0;34m\u001b[0m\u001b[0m\n\u001b[0;32m----> 5\u001b[0;31m \u001b[0msav\u001b[0m\u001b[0;34m[\u001b[0m\u001b[0;34m'val_accu'\u001b[0m\u001b[0;34m]\u001b[0m \u001b[0;34m=\u001b[0m \u001b[0mval_accu\u001b[0m\u001b[0;34m\u001b[0m\u001b[0m\n\u001b[0m\u001b[1;32m      6\u001b[0m \u001b[0msav\u001b[0m\u001b[0;34m[\u001b[0m\u001b[0;34m'model_id'\u001b[0m\u001b[0;34m]\u001b[0m \u001b[0;34m=\u001b[0m \u001b[0mmodel_id\u001b[0m\u001b[0;34m\u001b[0m\u001b[0m\n\u001b[1;32m      7\u001b[0m \u001b[0;34m\u001b[0m\u001b[0m\n",
      "\u001b[0;31mNameError\u001b[0m: name 'val_accu' is not defined"
     ]
    }
   ],
   "source": [
    "# save into dictionary\n",
    "sav = vars(FLAG)\n",
    "sav['epoch'] = best_epoch\n",
    "sav['val_loss'] = best_val_loss\n",
    "sav['val_dec_acc'] = val_dec_acc\n",
    "\n",
    "sav['model_id'] = model_id\n",
    "\n",
    "for i in range(n_classes):\n",
    "    sav['recall-{0}'.format(i)] = recall[i]\n",
    "    sav['precision-{0}'.format(i)] = precision[i]\n",
    "\n",
    "# append into summary files\n",
    "dnew = pd.DataFrame(sav, index=[0])\n",
    "if os.path.exists(summary_save):\n",
    "    dori = pd.read_csv(summary_save)\n",
    "    dori = pd.concat([dori, dnew])\n",
    "    dori.to_csv(summary_save, index=False)\n",
    "else:\n",
    "    dnew.to_csv(summary_save, index=False)\n",
    "\n",
    "print(summary_save)"
   ]
  },
  {
   "cell_type": "code",
   "execution_count": null,
   "metadata": {},
   "outputs": [],
   "source": []
  },
  {
   "cell_type": "code",
   "execution_count": null,
   "metadata": {},
   "outputs": [],
   "source": []
  }
 ],
 "metadata": {
  "kernelspec": {
   "display_name": "Python 3",
   "language": "python",
   "name": "python3"
  },
  "language_info": {
   "codemirror_mode": {
    "name": "ipython",
    "version": 3
   },
   "file_extension": ".py",
   "mimetype": "text/x-python",
   "name": "python",
   "nbconvert_exporter": "python",
   "pygments_lexer": "ipython3",
   "version": "3.5.2"
  }
 },
 "nbformat": 4,
 "nbformat_minor": 2
}
