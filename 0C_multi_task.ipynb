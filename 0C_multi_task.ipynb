{
 "cells": [
  {
   "cell_type": "code",
   "execution_count": 1,
   "metadata": {},
   "outputs": [
    {
     "name": "stderr",
     "output_type": "stream",
     "text": [
      "/usr/local/lib/python3.5/dist-packages/h5py/__init__.py:36: FutureWarning: Conversion of the second argument of issubdtype from `float` to `np.floating` is deprecated. In future, it will be treated as `np.float64 == np.dtype(float).type`.\n",
      "  from ._conv import register_converters as _register_converters\n",
      "Using TensorFlow backend.\n"
     ]
    }
   ],
   "source": [
    "import os\n",
    "import sys\n",
    "from datetime import datetime\n",
    "import keras\n",
    "\n",
    "import argparse\n",
    "import numpy as np\n",
    "import pandas as pd\n",
    "import matplotlib\n",
    "matplotlib.use('Agg')\n",
    "import matplotlib.pyplot as plt\n",
    "get_ipython().run_line_magic('matplotlib', 'inline')\n",
    "\n",
    "from keras.models import Model, load_model\n",
    "from keras.callbacks import ModelCheckpoint, CSVLogger, ReduceLROnPlateau, EarlyStopping, TensorBoard\n",
    "from keras.optimizers import Adam, SGD, Adamax\n",
    "import keras.backend as K\n",
    "\n",
    "from sklearn.metrics import confusion_matrix, classification_report, accuracy_score, f1_score, precision_score, recall_score\n",
    "\n",
    "from sklearn.model_selection import train_test_split\n",
    "from sklearn.utils.class_weight import compute_class_weight\n",
    "\n",
    "from func import * "
   ]
  },
  {
   "cell_type": "code",
   "execution_count": 2,
   "metadata": {
    "code_folding": []
   },
   "outputs": [],
   "source": [
    "#### parser\n",
    "parser = argparse.ArgumentParser()\n",
    "parser.add_argument('-s' ,'--model_save', type=str, default='/home/katieyth/gynecology/model_save/', help='model save path')\n",
    "parser.add_argument('-y' ,'--target', type=str, default='multi', help='prediction target')\n",
    "parser.add_argument('-cv_path' ,'--cv_path', type=str, default='/home/katieyth/gynecology/data/5_fold_CMU_rs_13/', help='cv_path')\n",
    "\n",
    " \n",
    "# input parameter\n",
    "parser.add_argument('-l' ,'--length', type=int, default=600, help='length of input')\n",
    "parser.add_argument('-ks','--k_slice', type=int, default=1, help='a input will be sliced into k_slice segments when testing')\n",
    "parser.add_argument('-c' ,'--n_channel', type=int, default=2, help='number of input channels')\n",
    "parser.add_argument('-rn','--random_noise', type=int, default=0, help='add Gaussian noise (mean=0, std=0.01) into inputs')\n",
    "parser.add_argument('-nm','--normalized', type=int, default=1, help='whether conduct channel-wise normalization')\n",
    "\n",
    "# data augmentation \n",
    "parser.add_argument('-aug_fliplr' ,'--aug_fliplr', type=int, default=0, help='reverse time series')\n",
    "parser.add_argument('-shift' ,'--DA_Shift', type=int, default=1, help='')\n",
    "parser.add_argument('-scale' ,'--DA_Scale', type=int, default=1, help='')\n",
    "parser.add_argument('-randsamp' ,'--DA_RandSampling', type=int, default=1, help='')\n",
    "\n",
    "\n",
    "# model parameters\n",
    "parser.add_argument('-struc' ,'--struc', type=str, default='deeper', help='deeper or shallower')\n",
    "parser.add_argument('-k' ,'--kernel_size', type=int, default=3, help='kernel size')\n",
    "parser.add_argument('-f' ,'--filters', type=int, default=64, help='base number of filters')\n",
    "parser.add_argument('-ly' ,'--layers', type=int, default=5, help='number of residual layers')\n",
    "parser.add_argument('-a' ,'--activation', type=str, default='relu', help='activation function')\n",
    "parser.add_argument('-i' ,'--kernel_initializer', type=str, default='RandomNormal', help='kernel initialization method')\n",
    "parser.add_argument('-l2','--l2', type=float, default=0.01, help='coefficient of l2 regularization')\n",
    "\n",
    "# hyper-parameters\n",
    "parser.add_argument('-lr','--learning_rate', type=float, default=1e-4, help='learning_rate')\n",
    "parser.add_argument('-reduce_lr_patience','--reduce_lr_patience', type=int, default=50, help='reduce_lr_patience')\n",
    "parser.add_argument('-bs','--batch_size', type=int, default=27, help='batch_size')\n",
    "parser.add_argument('-ep','--epoch', type=int, default=15, help='epoch')\n",
    "parser.add_argument('-wb','--weight_balance', type=int, default=1, help='whether weight balancing or not')\n",
    "parser.add_argument('-mntr','--monitor', type=str, default='val_man_acc', help='val_acc or val_loss')\n",
    "\n",
    "parser.add_argument('-g' ,'--gpu_id', type=str, default='4', help='GPU ID')\n",
    "parser.add_argument('-fd' ,'--fold', type=int, default=1, help='CMU_5_fold')\n",
    "parser.add_argument('-fn' ,'--summary_file', type=str, default='', help='summary filename')\n",
    "\n",
    "FLAG = parser.parse_args([])\n",
    "os.environ['CUDA_VISIBLE_DEVICES'] = FLAG.gpu_id"
   ]
  },
  {
   "cell_type": "code",
   "execution_count": 3,
   "metadata": {},
   "outputs": [],
   "source": [
    "def data_preprocess_test(Xvalid, Yvalid, length=600):\n",
    "    Xtest = np.empty((Xvalid.shape[0], length, Xvalid.shape[2]))\n",
    "    for i in range(Xvalid.shape[0]):\n",
    "        Xtest[i,:,:] = data_normalize(Xvalid[i,0:600,:])\n",
    "    Ytest = Yvalid.copy()\n",
    "    return Xtest, Ytest"
   ]
  },
  {
   "cell_type": "code",
   "execution_count": 4,
   "metadata": {
    "scrolled": true
   },
   "outputs": [
    {
     "name": "stdout",
     "output_type": "stream",
     "text": [
      "class weight: {0: 0.5142857142857142, 1: 1.0384615384615385, 2: 10.8}\n",
      "class weight: {0: 5.4, 1: 0.5510204081632653}\n",
      "class weight: {0: 0.5664335664335665, 1: 4.2631578947368425}\n",
      "class weight: {0: 0.4308510638297872, 1: 1.9285714285714286, 2: 0.9, 3: 20.25}\n",
      "train: 162\n",
      "test: 45\n"
     ]
    }
   ],
   "source": [
    "### data preparing\n",
    "train_d = pd.read_csv(os.path.join(FLAG.cv_path, '5_fold_0%s_train.csv' %(FLAG.fold)))\n",
    "valid_d = pd.read_csv(os.path.join(FLAG.cv_path, '5_fold_0%s_test.csv' %(FLAG.fold)))\n",
    "\n",
    "# replace 0 (no readings) with np.nan for later substitution\n",
    "for k in train_d.columns:\n",
    "    if 'b-' in k or 'm-' in k:\n",
    "        print(k, end='\\r')\n",
    "        train_d.loc[train_d[k]==0, k] = np.nan\n",
    "for k in valid_d.columns:\n",
    "    if 'b-' in k or 'm-' in k:\n",
    "        print(k, end='\\r')\n",
    "        valid_d.loc[valid_d[k]==0, k] = np.nan\n",
    "\n",
    "    \n",
    "# interpolate missing values\n",
    "train_db = np.array(train_d[[k for k in train_d.columns if 'b-' in k]].interpolate(limit_direction='both', axis=1), dtype=np.float)\n",
    "train_dm = np.array(train_d[[k for k in train_d.columns if 'm-' in k]].interpolate(limit_direction='both', axis=1), dtype=np.float)\n",
    "valid_db = np.array(valid_d[[k for k in valid_d.columns if 'b-' in k]].interpolate(limit_direction='both', axis=1), dtype=np.float)\n",
    "valid_dm = np.array(valid_d[[k for k in valid_d.columns if 'm-' in k]].interpolate(limit_direction='both', axis=1), dtype=np.float)\n",
    "# combine signals from baby and mom\n",
    "Xtrain = np.stack([train_db, train_dm], axis=2)\n",
    "Xvalid = np.stack([valid_db, valid_dm], axis=2)\n",
    "\n",
    "# convert labels to one-hot encodings\n",
    "target_list = ['management', 'UA', 'variability', 'deceleration']\n",
    "target_dict = {'management':3,\n",
    "               'UA':2,\n",
    "               'variability':2,\n",
    "               'deceleration':4}\n",
    "Ytrain = [(keras.utils.to_categorical(np.array(train_d[c_name]),num_classes=target_dict[c_name])) for c_name in target_list]\n",
    "Yvalid = [(keras.utils.to_categorical(np.array(valid_d[c_name]),num_classes=target_dict[c_name])) for c_name in target_list]\n",
    "\n",
    "#weight balancing or not\n",
    "if FLAG.weight_balance:\n",
    "    weight_list = []\n",
    "    for idx, c_name in enumerate(target_list):\n",
    "        y_integers = np.argmax(Ytrain[idx], axis=1)\n",
    "        d_class_weight = compute_class_weight('balanced', np.unique(y_integers), y_integers)\n",
    "        class_weight = dict(enumerate(d_class_weight))\n",
    "        print('class weight: {0}'.format(class_weight))\n",
    "        weight_list.append(class_weight)\n",
    "else:\n",
    "    weight_list = []\n",
    "    for idx, c_name in enumerate(target_list):\n",
    "        class_weight = dict()\n",
    "        for i in range(target_dict[c_name]):\n",
    "            class_weight[i] = 1\n",
    "        print('class weight: {0}'.format(class_weight))\n",
    "        weight_list.append(class_weight)\n",
    "\n",
    "Xtest, Ytest =data_preprocess_test(Xvalid, Yvalid)\n",
    "\n",
    "\n",
    "if FLAG.aug_fliplr:\n",
    "    Xtrain_copy = Xtrain.copy()\n",
    "    for i in range(len(Xtrain)):\n",
    "        Xtrain_copy[i] = np.fliplr([Xtrain[i]])[0]\n",
    "        print(i,'/',len(Xtrain), end= '\\r')\n",
    "    Xtrain = np.vstack((Xtrain, Xtrain_copy))\n",
    "    Ytrain = np.vstack((Ytrain, Ytrain))\n",
    "\n",
    "print('train:', len(train_d))\n",
    "print('test:', len(valid_d))"
   ]
  },
  {
   "cell_type": "markdown",
   "metadata": {},
   "source": [
    "# model"
   ]
  },
  {
   "cell_type": "code",
   "execution_count": 5,
   "metadata": {},
   "outputs": [],
   "source": [
    "if FLAG.struc =='deeper':\n",
    "    from model_multitask_more import build_model\n",
    "elif FLAG.struc =='shallower':\n",
    "    from model_multitask import build_model\n",
    "elif FLAG.struc =='man_concat':\n",
    "    from model_multitask_more_concat import build_model\n",
    "elif FLAG.struc =='man_concat_shallower':\n",
    "    from model_multitask_more_concat_shallower import build_model\n",
    "elif FLAG.struc =='mimic_previous':\n",
    "    from model_multitask_more_concat_mimic_previous import build_model\n",
    "elif FLAG.struc =='mimic_previous_FHB':\n",
    "    from model_multitask_more_concat_mimic_previous_FHB import build_model"
   ]
  },
  {
   "cell_type": "code",
   "execution_count": 6,
   "metadata": {},
   "outputs": [
    {
     "data": {
      "text/plain": [
       "[<function func.DA_Shift>,\n",
       " <function func.DA_Scale>,\n",
       " <function func.DA_RandSampling>]"
      ]
     },
     "execution_count": 6,
     "metadata": {},
     "output_type": "execute_result"
    }
   ],
   "source": [
    "augtool = (DA_Shift,DA_Scale,DA_RandSampling)\n",
    "choose_augtool = (FLAG.DA_Shift,FLAG.DA_Scale,FLAG.DA_RandSampling)\n",
    "augset = [x for x, y in zip(augtool, choose_augtool) if y == 1]\n",
    "augset"
   ]
  },
  {
   "cell_type": "code",
   "execution_count": 7,
   "metadata": {},
   "outputs": [],
   "source": [
    "def my_generator(Xtrain, Ytrain, tg_list, tg_dict,\n",
    "                 length=300, n_channel=2,  batch_size=16, prob=0.5,\n",
    "                 aug_func=[], random_noise = False, normalized = True):\n",
    "    n_sample = Xtrain.shape[0]\n",
    "    n_length = Xtrain.shape[1]\n",
    "    ind = list(range(n_sample))\n",
    "    x = np.empty((batch_size, length, n_channel), dtype=np.float)\n",
    "    \n",
    "    y_list = [(np.empty((batch_size, tg_dict[c_name]), dtype=int)) for c_name in tg_list]\n",
    "\n",
    "    while True:\n",
    "        np.random.shuffle(ind)\n",
    "        for i in range(n_sample//batch_size):\n",
    "            if length==600:\n",
    "                st = 0\n",
    "            else:\n",
    "                st = random.choice(np.arange(0, Xtrain.shape[1] - length))\n",
    "            i_batch = ind[i*batch_size:(i+1)*batch_size]\n",
    "            for j, k in enumerate(i_batch):\n",
    "                x[j,:] = data_preprocess(Xtrain[k,st:(st+length),:], aug_func=aug_func, prob=prob, random_noise=random_noise, normalized=normalized)\n",
    "                for c_idx in range(len(tg_list)):\n",
    "                    y_list[c_idx][j,:] = Ytrain[c_idx][k,:] \n",
    "                \n",
    "            yield x, y_list"
   ]
  },
  {
   "cell_type": "code",
   "execution_count": 8,
   "metadata": {},
   "outputs": [],
   "source": [
    "train_gen = my_generator(Xtrain, Ytrain, \n",
    "                         tg_list = target_list,\n",
    "                         tg_dict = target_dict,\n",
    "                        length=FLAG.length, \n",
    "                        n_channel=FLAG.n_channel, \n",
    "                        random_noise=FLAG.random_noise,\n",
    "                        normalized=FLAG.normalized,\n",
    "                        batch_size=FLAG.batch_size,\n",
    "                        aug_func=augset,\n",
    "                        prob=0.25)"
   ]
  },
  {
   "cell_type": "code",
   "execution_count": 9,
   "metadata": {},
   "outputs": [],
   "source": [
    "# Get a \"l2 norm of gradients\" tensor\n",
    "def get_gradient_norm(model):\n",
    "    with K.name_scope('gradient_norm'):\n",
    "        grads = K.gradients(model.total_loss, model.trainable_weights)\n",
    "        norm = K.sqrt(sum([K.sum(K.square(g)) for g in grads]))\n",
    "    return norm"
   ]
  },
  {
   "cell_type": "code",
   "execution_count": 10,
   "metadata": {},
   "outputs": [
    {
     "name": "stdout",
     "output_type": "stream",
     "text": [
      "===== create directory =====\n",
      "/home/katieyth/gynecology/model_save/multi/multi_190119171303\n",
      "__________________________________________________________________________________________________\n",
      "Layer (type)                    Output Shape         Param #     Connected to                     \n",
      "==================================================================================================\n",
      "input_1 (InputLayer)            (None, 600, 2)       0                                            \n",
      "__________________________________________________________________________________________________\n",
      "conv1d_1 (Conv1D)               (None, 600, 64)      448         input_1[0][0]                    \n",
      "__________________________________________________________________________________________________\n",
      "batch_normalization_1 (BatchNor (None, 600, 64)      256         conv1d_1[0][0]                   \n",
      "__________________________________________________________________________________________________\n",
      "activation_1 (Activation)       (None, 600, 64)      0           batch_normalization_1[0][0]      \n",
      "__________________________________________________________________________________________________\n",
      "conv1d_2 (Conv1D)               (None, 300, 64)      12352       activation_1[0][0]               \n",
      "__________________________________________________________________________________________________\n",
      "batch_normalization_2 (BatchNor (None, 300, 64)      256         conv1d_2[0][0]                   \n",
      "__________________________________________________________________________________________________\n",
      "activation_2 (Activation)       (None, 300, 64)      0           batch_normalization_2[0][0]      \n",
      "__________________________________________________________________________________________________\n",
      "conv1d_3 (Conv1D)               (None, 300, 64)      12352       activation_2[0][0]               \n",
      "__________________________________________________________________________________________________\n",
      "max_pooling1d_1 (MaxPooling1D)  (None, 300, 64)      0           activation_1[0][0]               \n",
      "__________________________________________________________________________________________________\n",
      "add_1 (Add)                     (None, 300, 64)      0           conv1d_3[0][0]                   \n",
      "                                                                 max_pooling1d_1[0][0]            \n",
      "__________________________________________________________________________________________________\n",
      "batch_normalization_3 (BatchNor (None, 300, 64)      256         add_1[0][0]                      \n",
      "__________________________________________________________________________________________________\n",
      "activation_3 (Activation)       (None, 300, 64)      0           batch_normalization_3[0][0]      \n",
      "__________________________________________________________________________________________________\n",
      "conv1d_4 (Conv1D)               (None, 300, 64)      12352       activation_3[0][0]               \n",
      "__________________________________________________________________________________________________\n",
      "batch_normalization_4 (BatchNor (None, 300, 64)      256         conv1d_4[0][0]                   \n",
      "__________________________________________________________________________________________________\n",
      "activation_4 (Activation)       (None, 300, 64)      0           batch_normalization_4[0][0]      \n",
      "__________________________________________________________________________________________________\n",
      "conv1d_5 (Conv1D)               (None, 300, 64)      12352       activation_4[0][0]               \n",
      "__________________________________________________________________________________________________\n",
      "max_pooling1d_2 (MaxPooling1D)  (None, 300, 64)      0           add_1[0][0]                      \n",
      "__________________________________________________________________________________________________\n",
      "add_2 (Add)                     (None, 300, 64)      0           conv1d_5[0][0]                   \n",
      "                                                                 max_pooling1d_2[0][0]            \n",
      "__________________________________________________________________________________________________\n",
      "batch_normalization_5 (BatchNor (None, 300, 64)      256         add_2[0][0]                      \n",
      "__________________________________________________________________________________________________\n",
      "activation_5 (Activation)       (None, 300, 64)      0           batch_normalization_5[0][0]      \n",
      "__________________________________________________________________________________________________\n",
      "conv1d_6 (Conv1D)               (None, 150, 64)      12352       activation_5[0][0]               \n",
      "__________________________________________________________________________________________________\n",
      "batch_normalization_6 (BatchNor (None, 150, 64)      256         conv1d_6[0][0]                   \n",
      "__________________________________________________________________________________________________\n",
      "activation_6 (Activation)       (None, 150, 64)      0           batch_normalization_6[0][0]      \n",
      "__________________________________________________________________________________________________\n",
      "conv1d_7 (Conv1D)               (None, 150, 64)      12352       activation_6[0][0]               \n",
      "__________________________________________________________________________________________________\n",
      "max_pooling1d_3 (MaxPooling1D)  (None, 150, 64)      0           add_2[0][0]                      \n",
      "__________________________________________________________________________________________________\n",
      "add_3 (Add)                     (None, 150, 64)      0           conv1d_7[0][0]                   \n",
      "                                                                 max_pooling1d_3[0][0]            \n",
      "__________________________________________________________________________________________________\n",
      "batch_normalization_7 (BatchNor (None, 150, 64)      256         add_3[0][0]                      \n",
      "__________________________________________________________________________________________________\n",
      "activation_7 (Activation)       (None, 150, 64)      0           batch_normalization_7[0][0]      \n",
      "__________________________________________________________________________________________________\n",
      "conv1d_8 (Conv1D)               (None, 150, 64)      12352       activation_7[0][0]               \n",
      "__________________________________________________________________________________________________\n",
      "batch_normalization_8 (BatchNor (None, 150, 64)      256         conv1d_8[0][0]                   \n",
      "__________________________________________________________________________________________________\n",
      "activation_8 (Activation)       (None, 150, 64)      0           batch_normalization_8[0][0]      \n",
      "__________________________________________________________________________________________________\n",
      "conv1d_9 (Conv1D)               (None, 150, 64)      12352       activation_8[0][0]               \n",
      "__________________________________________________________________________________________________\n",
      "max_pooling1d_4 (MaxPooling1D)  (None, 150, 64)      0           add_3[0][0]                      \n",
      "__________________________________________________________________________________________________\n",
      "add_4 (Add)                     (None, 150, 64)      0           conv1d_9[0][0]                   \n",
      "                                                                 max_pooling1d_4[0][0]            \n",
      "__________________________________________________________________________________________________\n",
      "conv1d_10 (Conv1D)              (None, 150, 128)     24704       add_4[0][0]                      \n",
      "__________________________________________________________________________________________________\n",
      "batch_normalization_9 (BatchNor (None, 150, 128)     512         conv1d_10[0][0]                  \n",
      "__________________________________________________________________________________________________\n",
      "activation_9 (Activation)       (None, 150, 128)     0           batch_normalization_9[0][0]      \n",
      "__________________________________________________________________________________________________\n",
      "conv1d_11 (Conv1D)              (None, 75, 128)      49280       activation_9[0][0]               \n",
      "__________________________________________________________________________________________________\n",
      "batch_normalization_10 (BatchNo (None, 75, 128)      512         conv1d_11[0][0]                  \n",
      "__________________________________________________________________________________________________\n",
      "activation_10 (Activation)      (None, 75, 128)      0           batch_normalization_10[0][0]     \n",
      "__________________________________________________________________________________________________\n",
      "conv1d_12 (Conv1D)              (None, 75, 128)      49280       activation_10[0][0]              \n",
      "__________________________________________________________________________________________________\n",
      "max_pooling1d_5 (MaxPooling1D)  (None, 75, 128)      0           conv1d_10[0][0]                  \n",
      "__________________________________________________________________________________________________\n",
      "add_5 (Add)                     (None, 75, 128)      0           conv1d_12[0][0]                  \n",
      "                                                                 max_pooling1d_5[0][0]            \n",
      "__________________________________________________________________________________________________\n",
      "batch_normalization_11 (BatchNo (None, 75, 128)      512         add_5[0][0]                      \n",
      "__________________________________________________________________________________________________\n",
      "activation_11 (Activation)      (None, 75, 128)      0           batch_normalization_11[0][0]     \n",
      "__________________________________________________________________________________________________\n",
      "conv1d_13 (Conv1D)              (None, 75, 128)      49280       activation_11[0][0]              \n",
      "__________________________________________________________________________________________________\n",
      "batch_normalization_12 (BatchNo (None, 75, 128)      512         conv1d_13[0][0]                  \n",
      "__________________________________________________________________________________________________\n",
      "activation_12 (Activation)      (None, 75, 128)      0           batch_normalization_12[0][0]     \n",
      "__________________________________________________________________________________________________\n",
      "conv1d_14 (Conv1D)              (None, 75, 128)      49280       activation_12[0][0]              \n",
      "__________________________________________________________________________________________________\n",
      "max_pooling1d_6 (MaxPooling1D)  (None, 75, 128)      0           add_5[0][0]                      \n",
      "__________________________________________________________________________________________________\n",
      "add_6 (Add)                     (None, 75, 128)      0           conv1d_14[0][0]                  \n",
      "                                                                 max_pooling1d_6[0][0]            \n",
      "__________________________________________________________________________________________________\n",
      "global_average_pooling1d_1 (Glo (None, 128)          0           add_6[0][0]                      \n",
      "__________________________________________________________________________________________________\n",
      "global_average_pooling1d_2 (Glo (None, 128)          0           add_6[0][0]                      \n",
      "__________________________________________________________________________________________________\n",
      "global_average_pooling1d_3 (Glo (None, 128)          0           add_6[0][0]                      \n",
      "__________________________________________________________________________________________________\n",
      "global_average_pooling1d_4 (Glo (None, 128)          0           add_6[0][0]                      \n",
      "__________________________________________________________________________________________________\n",
      "batch_normalization_13 (BatchNo (None, 128)          512         global_average_pooling1d_1[0][0] \n",
      "__________________________________________________________________________________________________\n",
      "batch_normalization_15 (BatchNo (None, 128)          512         global_average_pooling1d_2[0][0] \n",
      "__________________________________________________________________________________________________\n",
      "batch_normalization_17 (BatchNo (None, 128)          512         global_average_pooling1d_3[0][0] \n",
      "__________________________________________________________________________________________________\n",
      "batch_normalization_19 (BatchNo (None, 128)          512         global_average_pooling1d_4[0][0] \n",
      "__________________________________________________________________________________________________\n",
      "dense_1 (Dense)                 (None, 128)          16512       batch_normalization_13[0][0]     \n",
      "__________________________________________________________________________________________________\n",
      "dense_2 (Dense)                 (None, 128)          16512       batch_normalization_15[0][0]     \n",
      "__________________________________________________________________________________________________\n",
      "dense_3 (Dense)                 (None, 128)          16512       batch_normalization_17[0][0]     \n",
      "__________________________________________________________________________________________________\n",
      "dense_4 (Dense)                 (None, 128)          16512       batch_normalization_19[0][0]     \n",
      "__________________________________________________________________________________________________\n",
      "batch_normalization_14 (BatchNo (None, 128)          512         dense_1[0][0]                    \n",
      "__________________________________________________________________________________________________\n",
      "batch_normalization_16 (BatchNo (None, 128)          512         dense_2[0][0]                    \n",
      "__________________________________________________________________________________________________\n",
      "batch_normalization_18 (BatchNo (None, 128)          512         dense_3[0][0]                    \n",
      "__________________________________________________________________________________________________\n",
      "batch_normalization_20 (BatchNo (None, 128)          512         dense_4[0][0]                    \n",
      "__________________________________________________________________________________________________\n",
      "activation_13 (Activation)      (None, 128)          0           batch_normalization_14[0][0]     \n",
      "__________________________________________________________________________________________________\n",
      "activation_14 (Activation)      (None, 128)          0           batch_normalization_16[0][0]     \n",
      "__________________________________________________________________________________________________\n",
      "activation_15 (Activation)      (None, 128)          0           batch_normalization_18[0][0]     \n",
      "__________________________________________________________________________________________________\n",
      "activation_16 (Activation)      (None, 128)          0           batch_normalization_20[0][0]     \n",
      "__________________________________________________________________________________________________\n",
      "man (Dense)                     (None, 3)            387         activation_13[0][0]              \n",
      "__________________________________________________________________________________________________\n",
      "ua (Dense)                      (None, 2)            258         activation_14[0][0]              \n",
      "__________________________________________________________________________________________________\n",
      "var (Dense)                     (None, 2)            258         activation_15[0][0]              \n",
      "__________________________________________________________________________________________________\n",
      "dec (Dense)                     (None, 4)            516         activation_16[0][0]              \n",
      "==================================================================================================\n",
      "Total params: 396,747\n",
      "Trainable params: 392,651\n",
      "Non-trainable params: 4,096\n",
      "__________________________________________________________________________________________________\n"
     ]
    }
   ],
   "source": [
    "print(\"===== create directory =====\")\n",
    "model_id = FLAG.target + \"_\" + datetime.now().strftime(\"%y%m%d%H%M%S\")\n",
    "model_save = os.path.join(FLAG.model_save, FLAG.target, model_id)\n",
    "summary_save = os.path.join(FLAG.model_save, FLAG.target, 'summary_'+FLAG.target+'_'+FLAG.summary_file+'.csv')\n",
    "\n",
    "if not os.path.exists(model_save):\n",
    "    os.makedirs(model_save)\n",
    "    print(model_save)\n",
    "\n",
    "# declare model and compile it \n",
    "model = build_model(length=FLAG.length, n_channel=FLAG.n_channel,  filters=FLAG.filters,\n",
    "                    kernel_size=FLAG.kernel_size, layers=FLAG.layers,\n",
    "                activation=FLAG.activation, kernel_initializer=FLAG.kernel_initializer, l_2=FLAG.l2)\n",
    "model.summary()\n",
    "lr_rate = FLAG.learning_rate\n",
    "adam = Adamax(lr_rate, beta_1=0.5, beta_2=0.999, epsilon=1e-08, decay = 0.0)\n",
    "model.compile(loss='categorical_crossentropy',\n",
    "              optimizer=adam,\n",
    "              metrics=['accuracy'])\n",
    "\n",
    "# 還沒有 compile 前拿不到 total loss 這個 tensor, 也拿不到 metrics 這個東西\n",
    "# Append the \"l2 norm of gradients\" tensor as a metric\n",
    "model.metrics_names.append(\"gradient_norm\")\n",
    "model.metrics_tensors.append(get_gradient_norm(model))\n",
    "\n",
    "\n",
    "csv_logger = CSVLogger(os.path.join(model_save, 'training.log'), append = True)\n",
    "checkpoint = ModelCheckpoint(os.path.join(model_save, 'model.h5'), \n",
    "                                            monitor=FLAG.monitor, \n",
    "                                            verbose=1, \n",
    "                                            save_best_only=True,\n",
    "                                            save_weights_only=False,\n",
    "                                            mode='auto',\n",
    "                                            period=1)\n",
    "earlystop = EarlyStopping(monitor = FLAG.monitor, patience=200, verbose=1)\n",
    "reduce_lr = ReduceLROnPlateau(monitor=FLAG.monitor, factor = 0.5, patience = FLAG.reduce_lr_patience, min_lr = 0, cooldown = 5, verbose = True)"
   ]
  },
  {
   "cell_type": "code",
   "execution_count": 11,
   "metadata": {
    "scrolled": true
   },
   "outputs": [
    {
     "name": "stdout",
     "output_type": "stream",
     "text": [
      "Epoch 1/15\n",
      "49/50 [============================>.] - ETA: 0s - loss: 24.9682 - man_loss: 1.0975 - ua_loss: 0.8087 - var_loss: 0.7077 - dec_loss: 1.3201 - man_acc: 0.3553 - ua_acc: 0.3039 - var_acc: 0.5299 - dec_acc: 0.5193 - gradient_norm: 29.6148\n",
      "Epoch 00001: val_man_acc improved from -inf to 0.53333, saving model to /home/katieyth/gynecology/model_save/multi/multi_190119171303/model.h5\n",
      "50/50 [==============================] - 17s 348ms/step - loss: 24.9514 - man_loss: 1.0938 - ua_loss: 0.8071 - var_loss: 0.7081 - dec_loss: 1.3091 - man_acc: 0.3578 - ua_acc: 0.3037 - var_acc: 0.5311 - dec_acc: 0.5193 - gradient_norm: 29.3834 - val_loss: 24.5434 - val_man_loss: 1.0391 - val_ua_loss: 1.0338 - val_var_loss: 0.5425 - val_dec_loss: 0.9414 - val_man_acc: 0.5333 - val_ua_acc: 0.4444 - val_var_acc: 0.6667 - val_dec_acc: 0.7333 - val_gradient_norm: 46.3002\n",
      "Epoch 2/15\n",
      "49/50 [============================>.] - ETA: 0s - loss: 24.2117 - man_loss: 0.9456 - ua_loss: 0.6605 - var_loss: 0.5908 - dec_loss: 1.0698 - man_acc: 0.4354 - ua_acc: 0.3575 - var_acc: 0.5646 - dec_acc: 0.6145 - gradient_norm: 21.2401\n",
      "Epoch 00002: val_man_acc improved from 0.53333 to 0.62222, saving model to /home/katieyth/gynecology/model_save/multi/multi_190119171303/model.h5\n",
      "50/50 [==============================] - 3s 66ms/step - loss: 24.2020 - man_loss: 0.9416 - ua_loss: 0.6586 - var_loss: 0.5872 - dec_loss: 1.0705 - man_acc: 0.4370 - ua_acc: 0.3600 - var_acc: 0.5667 - dec_acc: 0.6126 - gradient_norm: 21.0841 - val_loss: 24.2263 - val_man_loss: 1.0260 - val_ua_loss: 0.9143 - val_var_loss: 0.5188 - val_dec_loss: 0.8666 - val_man_acc: 0.6222 - val_ua_acc: 0.4444 - val_var_acc: 0.6444 - val_dec_acc: 0.8222 - val_gradient_norm: 44.5784\n",
      "Epoch 3/15\n",
      "48/50 [===========================>..] - ETA: 0s - loss: 23.9502 - man_loss: 0.8984 - ua_loss: 0.5996 - var_loss: 0.6014 - dec_loss: 0.9894 - man_acc: 0.4738 - ua_acc: 0.4136 - var_acc: 0.5532 - dec_acc: 0.6397 - gradient_norm: 20.2288\n",
      "Epoch 00003: val_man_acc did not improve\n",
      "50/50 [==============================] - 3s 52ms/step - loss: 23.9349 - man_loss: 0.8978 - ua_loss: 0.5986 - var_loss: 0.6014 - dec_loss: 0.9773 - man_acc: 0.4763 - ua_acc: 0.4141 - var_acc: 0.5556 - dec_acc: 0.6407 - gradient_norm: 20.0221 - val_loss: 23.9481 - val_man_loss: 0.9781 - val_ua_loss: 0.8400 - val_var_loss: 0.4883 - val_dec_loss: 0.8239 - val_man_acc: 0.5778 - val_ua_acc: 0.4889 - val_var_acc: 0.7333 - val_dec_acc: 0.8000 - val_gradient_norm: 41.6275\n",
      "Epoch 4/15\n",
      "49/50 [============================>.] - ETA: 0s - loss: 23.6400 - man_loss: 0.8479 - ua_loss: 0.5489 - var_loss: 0.5529 - dec_loss: 0.9121 - man_acc: 0.5420 - ua_acc: 0.4883 - var_acc: 0.5933 - dec_acc: 0.6523 - gradient_norm: 19.3226\n",
      "Epoch 00004: val_man_acc did not improve\n",
      "50/50 [==============================] - 3s 61ms/step - loss: 23.6306 - man_loss: 0.8458 - ua_loss: 0.5483 - var_loss: 0.5513 - dec_loss: 0.9078 - man_acc: 0.5430 - ua_acc: 0.4881 - var_acc: 0.5948 - dec_acc: 0.6526 - gradient_norm: 19.2049 - val_loss: 23.7484 - val_man_loss: 0.9056 - val_ua_loss: 0.8201 - val_var_loss: 0.5075 - val_dec_loss: 0.7794 - val_man_acc: 0.6000 - val_ua_acc: 0.5111 - val_var_acc: 0.7333 - val_dec_acc: 0.8222 - val_gradient_norm: 40.6780\n",
      "Epoch 5/15\n",
      "49/50 [============================>.] - ETA: 0s - loss: 23.3564 - man_loss: 0.7789 - ua_loss: 0.5033 - var_loss: 0.5292 - dec_loss: 0.8479 - man_acc: 0.5797 - ua_acc: 0.5291 - var_acc: 0.6160 - dec_acc: 0.6644 - gradient_norm: 17.8241\n",
      "Epoch 00005: val_man_acc improved from 0.62222 to 0.64444, saving model to /home/katieyth/gynecology/model_save/multi/multi_190119171303/model.h5\n",
      "50/50 [==============================] - 4s 72ms/step - loss: 23.3507 - man_loss: 0.7771 - ua_loss: 0.5037 - var_loss: 0.5289 - dec_loss: 0.8448 - man_acc: 0.5822 - ua_acc: 0.5281 - var_acc: 0.6185 - dec_acc: 0.6644 - gradient_norm: 17.7317 - val_loss: 23.5950 - val_man_loss: 0.8936 - val_ua_loss: 0.7633 - val_var_loss: 0.4845 - val_dec_loss: 0.7987 - val_man_acc: 0.6444 - val_ua_acc: 0.5556 - val_var_acc: 0.7333 - val_dec_acc: 0.7778 - val_gradient_norm: 38.2729\n",
      "Epoch 6/15\n",
      "49/50 [============================>.] - ETA: 0s - loss: 23.2571 - man_loss: 0.7478 - ua_loss: 0.4771 - var_loss: 0.5297 - dec_loss: 0.8863 - man_acc: 0.5918 - ua_acc: 0.5964 - var_acc: 0.6206 - dec_acc: 0.6757 - gradient_norm: 19.5142\n",
      "Epoch 00006: val_man_acc improved from 0.64444 to 0.68889, saving model to /home/katieyth/gynecology/model_save/multi/multi_190119171303/model.h5\n",
      "50/50 [==============================] - 3s 67ms/step - loss: 23.2483 - man_loss: 0.7484 - ua_loss: 0.4766 - var_loss: 0.5276 - dec_loss: 0.8803 - man_acc: 0.5956 - ua_acc: 0.5970 - var_acc: 0.6207 - dec_acc: 0.6770 - gradient_norm: 19.3968 - val_loss: 23.4380 - val_man_loss: 0.8458 - val_ua_loss: 0.7783 - val_var_loss: 0.4662 - val_dec_loss: 0.7728 - val_man_acc: 0.6889 - val_ua_acc: 0.5111 - val_var_acc: 0.8000 - val_dec_acc: 0.7333 - val_gradient_norm: 38.7053\n",
      "Epoch 7/15\n",
      "49/50 [============================>.] - ETA: 0s - loss: 23.0536 - man_loss: 0.7354 - ua_loss: 0.4413 - var_loss: 0.5176 - dec_loss: 0.8226 - man_acc: 0.5971 - ua_acc: 0.6183 - var_acc: 0.6319 - dec_acc: 0.6455 - gradient_norm: 18.6249- ETA: 2s - loss: 23.0784 - man_loss: 0.7373 - ua_loss: 0.4583 - var_loss: 0.4864 - dec_loss: 0.8328 - man_acc: 0.6198 - ua_acc: 0.6099 - var_acc: 0.6272 - dec_ac\n",
      "Epoch 00007: val_man_acc improved from 0.68889 to 0.68889, saving model to /home/katieyth/gynecology/model_save/multi/multi_190119171303/model.h5\n",
      "50/50 [==============================] - 4s 70ms/step - loss: 23.0422 - man_loss: 0.7335 - ua_loss: 0.4409 - var_loss: 0.5158 - dec_loss: 0.8162 - man_acc: 0.5993 - ua_acc: 0.6185 - var_acc: 0.6289 - dec_acc: 0.6474 - gradient_norm: 18.4448 - val_loss: 23.3276 - val_man_loss: 0.8976 - val_ua_loss: 0.6868 - val_var_loss: 0.4580 - val_dec_loss: 0.7900 - val_man_acc: 0.6889 - val_ua_acc: 0.5556 - val_var_acc: 0.8222 - val_dec_acc: 0.7556 - val_gradient_norm: 37.1976\n",
      "Epoch 8/15\n",
      "49/50 [============================>.] - ETA: 0s - loss: 22.8527 - man_loss: 0.6979 - ua_loss: 0.4341 - var_loss: 0.4775 - dec_loss: 0.7864 - man_acc: 0.6327 - ua_acc: 0.6553 - var_acc: 0.6606 - dec_acc: 0.6636 - gradient_norm: 19.0380\n",
      "Epoch 00008: val_man_acc improved from 0.68889 to 0.73333, saving model to /home/katieyth/gynecology/model_save/multi/multi_190119171303/model.h5\n",
      "50/50 [==============================] - 3s 55ms/step - loss: 22.8603 - man_loss: 0.7015 - ua_loss: 0.4331 - var_loss: 0.4809 - dec_loss: 0.7887 - man_acc: 0.6311 - ua_acc: 0.6526 - var_acc: 0.6622 - dec_acc: 0.6652 - gradient_norm: 19.0723 - val_loss: 23.0898 - val_man_loss: 0.8144 - val_ua_loss: 0.6452 - val_var_loss: 0.4166 - val_dec_loss: 0.7982 - val_man_acc: 0.7333 - val_ua_acc: 0.5778 - val_var_acc: 0.8222 - val_dec_acc: 0.7778 - val_gradient_norm: 36.5305\n",
      "Epoch 9/15\n",
      "49/50 [============================>.] - ETA: 0s - loss: 22.6718 - man_loss: 0.6727 - ua_loss: 0.4007 - var_loss: 0.4956 - dec_loss: 0.7260 - man_acc: 0.6440 - ua_acc: 0.6886 - var_acc: 0.6591 - dec_acc: 0.6924 - gradient_norm: 17.8446- ETA: 1s - loss: 22.6502 - man_loss: 0.6377 - ua_loss: 0.3958 - var_loss: 0.4999 - dec_loss: 0.7119 - man_acc: 0.6799 - ua_acc: 0.6693 - var_acc: 0.6402 - dec_acc: \n",
      "Epoch 00009: val_man_acc did not improve\n",
      "50/50 [==============================] - 3s 56ms/step - loss: 22.6710 - man_loss: 0.6718 - ua_loss: 0.4057 - var_loss: 0.4939 - dec_loss: 0.7236 - man_acc: 0.6422 - ua_acc: 0.6881 - var_acc: 0.6593 - dec_acc: 0.6911 - gradient_norm: 17.8506 - val_loss: 22.8996 - val_man_loss: 0.7963 - val_ua_loss: 0.5741 - val_var_loss: 0.3983 - val_dec_loss: 0.7959 - val_man_acc: 0.7333 - val_ua_acc: 0.7333 - val_var_acc: 0.8444 - val_dec_acc: 0.7333 - val_gradient_norm: 34.4997\n",
      "Epoch 10/15\n",
      "49/50 [============================>.] - ETA: 0s - loss: 22.5912 - man_loss: 0.6779 - ua_loss: 0.4012 - var_loss: 0.4882 - dec_loss: 0.7279 - man_acc: 0.6500 - ua_acc: 0.7014 - var_acc: 0.6750 - dec_acc: 0.6878 - gradient_norm: 18.9274\n",
      "Epoch 00010: val_man_acc did not improve\n",
      "50/50 [==============================] - 3s 59ms/step - loss: 22.5859 - man_loss: 0.6774 - ua_loss: 0.4001 - var_loss: 0.4872 - dec_loss: 0.7260 - man_acc: 0.6519 - ua_acc: 0.7007 - var_acc: 0.6756 - dec_acc: 0.6881 - gradient_norm: 18.8540 - val_loss: 22.7392 - val_man_loss: 0.7335 - val_ua_loss: 0.6059 - val_var_loss: 0.3706 - val_dec_loss: 0.7755 - val_man_acc: 0.7333 - val_ua_acc: 0.6889 - val_var_acc: 0.8444 - val_dec_acc: 0.7111 - val_gradient_norm: 32.6763\n"
     ]
    },
    {
     "name": "stdout",
     "output_type": "stream",
     "text": [
      "Epoch 11/15\n",
      "49/50 [============================>.] - ETA: 0s - loss: 22.4158 - man_loss: 0.6421 - ua_loss: 0.3818 - var_loss: 0.4629 - dec_loss: 0.7147 - man_acc: 0.6485 - ua_acc: 0.7249 - var_acc: 0.6863 - dec_acc: 0.6886 - gradient_norm: 18.1276\n",
      "Epoch 00011: val_man_acc improved from 0.73333 to 0.75556, saving model to /home/katieyth/gynecology/model_save/multi/multi_190119171303/model.h5\n",
      "50/50 [==============================] - 3s 62ms/step - loss: 22.4154 - man_loss: 0.6423 - ua_loss: 0.3813 - var_loss: 0.4629 - dec_loss: 0.7153 - man_acc: 0.6467 - ua_acc: 0.7267 - var_acc: 0.6867 - dec_acc: 0.6889 - gradient_norm: 18.0275 - val_loss: 22.6404 - val_man_loss: 0.7810 - val_ua_loss: 0.5427 - val_var_loss: 0.3691 - val_dec_loss: 0.7758 - val_man_acc: 0.7556 - val_ua_acc: 0.7333 - val_var_acc: 0.8222 - val_dec_acc: 0.7556 - val_gradient_norm: 33.7141\n",
      "Epoch 12/15\n",
      "49/50 [============================>.] - ETA: 0s - loss: 22.2719 - man_loss: 0.6367 - ua_loss: 0.3601 - var_loss: 0.4462 - dec_loss: 0.6968 - man_acc: 0.6659 - ua_acc: 0.7430 - var_acc: 0.7037 - dec_acc: 0.6984 - gradient_norm: 17.9773- ETA: 1s - loss: 22.2980 - man_loss: 0.6376 - ua_loss: 0.3567 - var_loss: 0.4543 - dec_loss: 0.7017 - man_acc: 0.6580 - ua_acc: 0.7543 - var_acc: 0.6926 - dec_acc: 0.7037 - gradien\n",
      "Epoch 00012: val_man_acc did not improve\n",
      "50/50 [==============================] - 3s 58ms/step - loss: 22.2697 - man_loss: 0.6369 - ua_loss: 0.3586 - var_loss: 0.4450 - dec_loss: 0.6980 - man_acc: 0.6674 - ua_acc: 0.7422 - var_acc: 0.7044 - dec_acc: 0.6993 - gradient_norm: 17.9600 - val_loss: 22.5240 - val_man_loss: 0.7559 - val_ua_loss: 0.5758 - val_var_loss: 0.3341 - val_dec_loss: 0.7695 - val_man_acc: 0.7556 - val_ua_acc: 0.6889 - val_var_acc: 0.8667 - val_dec_acc: 0.7556 - val_gradient_norm: 34.4340\n",
      "Epoch 13/15\n",
      "49/50 [============================>.] - ETA: 0s - loss: 22.1625 - man_loss: 0.6172 - ua_loss: 0.3587 - var_loss: 0.4656 - dec_loss: 0.6727 - man_acc: 0.6576 - ua_acc: 0.7680 - var_acc: 0.6931 - dec_acc: 0.7166 - gradient_norm: 19.1835\n",
      "Epoch 00013: val_man_acc improved from 0.75556 to 0.77778, saving model to /home/katieyth/gynecology/model_save/multi/multi_190119171303/model.h5\n",
      "50/50 [==============================] - 3s 60ms/step - loss: 22.1589 - man_loss: 0.6161 - ua_loss: 0.3581 - var_loss: 0.4667 - dec_loss: 0.6706 - man_acc: 0.6600 - ua_acc: 0.7681 - var_acc: 0.6956 - dec_acc: 0.7185 - gradient_norm: 19.0735 - val_loss: 22.4080 - val_man_loss: 0.7872 - val_ua_loss: 0.5591 - val_var_loss: 0.3037 - val_dec_loss: 0.7533 - val_man_acc: 0.7778 - val_ua_acc: 0.7333 - val_var_acc: 0.8667 - val_dec_acc: 0.7111 - val_gradient_norm: 33.1323\n",
      "Epoch 14/15\n",
      "49/50 [============================>.] - ETA: 0s - loss: 22.0100 - man_loss: 0.6086 - ua_loss: 0.3396 - var_loss: 0.4535 - dec_loss: 0.6438 - man_acc: 0.6682 - ua_acc: 0.7710 - var_acc: 0.7135 - dec_acc: 0.7218 - gradient_norm: 17.5031\n",
      "Epoch 00014: val_man_acc did not improve\n",
      "50/50 [==============================] - 3s 57ms/step - loss: 22.0129 - man_loss: 0.6096 - ua_loss: 0.3413 - var_loss: 0.4551 - dec_loss: 0.6434 - man_acc: 0.6681 - ua_acc: 0.7704 - var_acc: 0.7141 - dec_acc: 0.7230 - gradient_norm: 17.6848 - val_loss: 22.2490 - val_man_loss: 0.7297 - val_ua_loss: 0.5417 - val_var_loss: 0.3286 - val_dec_loss: 0.7284 - val_man_acc: 0.7556 - val_ua_acc: 0.7556 - val_var_acc: 0.8222 - val_dec_acc: 0.7556 - val_gradient_norm: 33.1276\n",
      "Epoch 15/15\n",
      "49/50 [============================>.] - ETA: 0s - loss: 21.8898 - man_loss: 0.5901 - ua_loss: 0.3367 - var_loss: 0.4439 - dec_loss: 0.6387 - man_acc: 0.7052 - ua_acc: 0.7793 - var_acc: 0.7150 - dec_acc: 0.7218 - gradient_norm: 19.6599\n",
      "Epoch 00015: val_man_acc improved from 0.77778 to 0.77778, saving model to /home/katieyth/gynecology/model_save/multi/multi_190119171303/model.h5\n",
      "50/50 [==============================] - 3s 67ms/step - loss: 21.8812 - man_loss: 0.5856 - ua_loss: 0.3383 - var_loss: 0.4423 - dec_loss: 0.6354 - man_acc: 0.7067 - ua_acc: 0.7800 - var_acc: 0.7126 - dec_acc: 0.7230 - gradient_norm: 19.5100 - val_loss: 22.0710 - val_man_loss: 0.6821 - val_ua_loss: 0.5089 - val_var_loss: 0.2992 - val_dec_loss: 0.7438 - val_man_acc: 0.7778 - val_ua_acc: 0.7556 - val_var_acc: 0.8889 - val_dec_acc: 0.7333 - val_gradient_norm: 30.9175\n"
     ]
    },
    {
     "data": {
      "text/plain": [
       "<keras.callbacks.History at 0x7f68e31d6470>"
      ]
     },
     "execution_count": 11,
     "metadata": {},
     "output_type": "execute_result"
    }
   ],
   "source": [
    "model.fit_generator(generator=train_gen,\n",
    "                    class_weight={'man': weight_list[0],\n",
    "                                  'ua' : weight_list[1],\n",
    "                                  'var': weight_list[2],\n",
    "                                  'dec': weight_list[3]},\n",
    "                    validation_data=(Xtest, {'man':Ytest[0],\n",
    "                                             'ua' :Ytest[1],\n",
    "                                             'var':Ytest[2],\n",
    "                                             'dec':Ytest[3]}),\n",
    "                    steps_per_epoch=50, \n",
    "                    epochs=FLAG.epoch,\n",
    "                    verbose=1,\n",
    "                    callbacks=[csv_logger,\n",
    "                            reduce_lr, \n",
    "                            checkpoint,\n",
    "                            earlystop\n",
    "                              ])\n"
   ]
  },
  {
   "cell_type": "code",
   "execution_count": 12,
   "metadata": {
    "code_folding": [
     0
    ]
   },
   "outputs": [],
   "source": [
    "def plot_keras_csv_logger(csv_logger, save_dir='', accuracy=False, gradient=False):\n",
    "    if type(csv_logger) is str:\n",
    "        loss = pd.read_table(csv_logger, delimiter=',')\n",
    "    else:\n",
    "        loss = pd.read_table(csv_logger.filename, delimiter=',')\n",
    "    print('min val_loss {0} at epoch {1}'.format(min(loss.val_loss), np.argmin(loss.val_loss)))\n",
    "    plt.plot(loss.epoch, loss.loss, label='loss')\n",
    "    plt.plot(loss.epoch, loss.val_loss, label='val_loss')\n",
    "    plt.legend()\n",
    "    plt.xlabel('epoch')\n",
    "    plt.ylabel('loss')\n",
    "    plt.savefig(os.path.join(save_dir, 'loss.png'))\n",
    "    plt.show()\n",
    "    plt.close()\n",
    "\n",
    "    if accuracy:\n",
    "        print('max val_accu {0} at epoch {1}'.format(max(loss.val_dec_acc), np.argmax(loss.val_dec_acc)))\n",
    "        plt.plot(loss.epoch, loss.dec_acc, label='dec_acc')\n",
    "        plt.plot(loss.epoch, loss.val_dec_acc, label='val_dec_acc')\n",
    "        plt.legend()\n",
    "        plt.xlabel('epoch')\n",
    "        plt.ylabel('accuracy')\n",
    "        plt.savefig(os.path.join(save_dir, 'dec_acc.png'))\n",
    "        plt.show()\n",
    "        plt.close()\n",
    "        \n",
    "        print('max val_accu {0} at epoch {1}'.format(max(loss.val_var_acc), np.argmax(loss.val_var_acc)))\n",
    "        plt.plot(loss.epoch, loss.var_acc, label='var_acc')\n",
    "        plt.plot(loss.epoch, loss.val_var_acc, label='val_var_acc')\n",
    "        plt.legend()\n",
    "        plt.xlabel('epoch')\n",
    "        plt.ylabel('accuracy')\n",
    "        plt.savefig(os.path.join(save_dir, 'var_acc.png'))\n",
    "        plt.show()\n",
    "        plt.close()\n",
    "        \n",
    "        print('max val_accu {0} at epoch {1}'.format(max(loss.val_ua_acc), np.argmax(loss.val_ua_acc)))\n",
    "        plt.plot(loss.epoch, loss.ua_acc, label='ua_acc')\n",
    "        plt.plot(loss.epoch, loss.val_ua_acc, label='val_ua_acc')\n",
    "        plt.legend()\n",
    "        plt.xlabel('epoch')\n",
    "        plt.ylabel('accuracy')\n",
    "        plt.savefig(os.path.join(save_dir, 'ua_acc.png'))\n",
    "        plt.show()\n",
    "        plt.close()\n",
    "        \n",
    "        print('max val_accu {0} at epoch {1}'.format(max(loss.val_man_acc), np.argmax(loss.val_man_acc)))\n",
    "        plt.plot(loss.epoch, loss.man_acc, label='man_acc')\n",
    "        plt.plot(loss.epoch, loss.val_man_acc, label='val_man_acc')\n",
    "        plt.legend()\n",
    "        plt.xlabel('epoch')\n",
    "        plt.ylabel('accuracy')\n",
    "        plt.savefig(os.path.join(save_dir, 'man_acc.png'))\n",
    "        plt.show()\n",
    "        plt.close()\n",
    "        \n",
    "        \n",
    "    if gradient:\n",
    "        plt.plot(loss.epoch, loss.gradient_norm, label='gradient_norm')\n",
    "        plt.legend()\n",
    "        plt.xlabel('epoch')\n",
    "        plt.ylabel('gradient_norm')\n",
    "        plt.savefig(os.path.join(save_dir, 'gradient.png'))\n",
    "        plt.show()\n",
    "        plt.close()"
   ]
  },
  {
   "cell_type": "code",
   "execution_count": 13,
   "metadata": {
    "scrolled": true
   },
   "outputs": [
    {
     "name": "stdout",
     "output_type": "stream",
     "text": [
      "min val_loss 22.0709529876709 at epoch 14\n"
     ]
    },
    {
     "name": "stderr",
     "output_type": "stream",
     "text": [
      "/usr/local/lib/python3.5/dist-packages/numpy/core/fromnumeric.py:52: FutureWarning: 'argmin' is deprecated, use 'idxmin' instead. The behavior of 'argmin'\n",
      "will be corrected to return the positional minimum in the future.\n",
      "Use 'series.values.argmin' to get the position of the minimum now.\n",
      "  return getattr(obj, method)(*args, **kwds)\n"
     ]
    },
    {
     "data": {
      "image/png": "[encoded data removed]",
      "text/plain": [
       "<matplotlib.figure.Figure at 0x7f68c812dfd0>"
      ]
     },
     "metadata": {},
     "output_type": "display_data"
    },
    {
     "name": "stderr",
     "output_type": "stream",
     "text": [
      "/usr/local/lib/python3.5/dist-packages/numpy/core/fromnumeric.py:52: FutureWarning: 'argmax' is deprecated, use 'idxmax' instead. The behavior of 'argmax'\n",
      "will be corrected to return the positional maximum in the future.\n",
      "Use 'series.values.argmax' to get the position of the maximum now.\n",
      "  return getattr(obj, method)(*args, **kwds)\n"
     ]
    },
    {
     "name": "stdout",
     "output_type": "stream",
     "text": [
      "max val_accu 0.8222222447395324 at epoch 3\n"
     ]
    },
    {
     "data": {
      "image/png": "[encoded data removed]",
      "text/plain": [
       "<matplotlib.figure.Figure at 0x7f68c8062208>"
      ]
     },
     "metadata": {},
     "output_type": "display_data"
    },
    {
     "name": "stdout",
     "output_type": "stream",
     "text": [
      "max val_accu 0.8888888955116272 at epoch 14\n"
     ]
    },
    {
     "data": {
      "image/png": "[encoded data removed]",
      "text/plain": [
       "<matplotlib.figure.Figure at 0x7f689c088c18>"
      ]
     },
     "metadata": {},
     "output_type": "display_data"
    },
    {
     "name": "stdout",
     "output_type": "stream",
     "text": [
      "max val_accu 0.7555555462837219 at epoch 13\n"
     ]
    },
    {
     "data": {
      "image/png": "[encoded data removed]",
      "text/plain": [
       "<matplotlib.figure.Figure at 0x7f689c04ba20>"
      ]
     },
     "metadata": {},
     "output_type": "display_data"
    },
    {
     "name": "stdout",
     "output_type": "stream",
     "text": [
      "max val_accu 0.7777778029441833 at epoch 14\n"
     ]
    },
    {
     "data": {
      "image/png": "[encoded data removed]",
      "text/plain": [
       "<matplotlib.figure.Figure at 0x7f68840e48d0>"
      ]
     },
     "metadata": {},
     "output_type": "display_data"
    },
    {
     "data": {
      "image/png": "[encoded data removed]",
      "text/plain": [
       "<matplotlib.figure.Figure at 0x7f688409b668>"
      ]
     },
     "metadata": {},
     "output_type": "display_data"
    }
   ],
   "source": [
    "plot_keras_csv_logger(csv_logger, save_dir=model_save, accuracy=True, gradient = True)"
   ]
  },
  {
   "cell_type": "code",
   "execution_count": 14,
   "metadata": {},
   "outputs": [
    {
     "name": "stdout",
     "output_type": "stream",
     "text": [
      "/home/katieyth/gynecology/model_save/multi/multi_190119171303\n"
     ]
    },
    {
     "name": "stderr",
     "output_type": "stream",
     "text": [
      "/usr/local/lib/python3.5/dist-packages/numpy/core/fromnumeric.py:52: FutureWarning: 'argmin' is deprecated, use 'idxmin' instead. The behavior of 'argmin'\n",
      "will be corrected to return the positional minimum in the future.\n",
      "Use 'series.values.argmin' to get the position of the minimum now.\n",
      "  return getattr(obj, method)(*args, **kwds)\n"
     ]
    }
   ],
   "source": [
    "path = model_save\n",
    "print(path)\n",
    "loss = pd.read_table(csv_logger.filename, delimiter=',')\n",
    "best_val_loss = np.min(loss.val_loss)\n",
    "best_epoch = np.argmin(loss.val_loss)\n",
    "\n",
    "\n",
    "# model_id =  'multi_190114123245'\n",
    "# path = os.path.join(FLAG.model_save,FLAG.target, model_id)\n",
    "# loss = pd.read_table(os.path.join(path, 'training.log'), delimiter=',')\n",
    "# best_val_loss = np.min(loss.val_loss)\n",
    "# best_epoch = np.argmin(loss.val_loss)\n",
    "# model_save = '.'\n"
   ]
  },
  {
   "cell_type": "code",
   "execution_count": 15,
   "metadata": {},
   "outputs": [],
   "source": [
    "# evaluate validation set\n",
    "trained_model = load_model(os.path.join(path,'model.h5'))\n",
    "Pred = trained_model.predict(Xtest)\n"
   ]
  },
  {
   "cell_type": "code",
   "execution_count": 16,
   "metadata": {},
   "outputs": [],
   "source": [
    "def plot_confusion_matrix(cm, classes,\n",
    "                          normalize=False,\n",
    "                          title='Confusion matrix',\n",
    "                          cmap=plt.cm.Blues,\n",
    "                          save_dir=''):\n",
    "    \"\"\"\n",
    "    This function prints and plots the confusion matrix.\n",
    "    Normalization can be applied by setting `normalize=True`.\n",
    "    \"\"\"\n",
    "    if normalize:\n",
    "        cm = cm.astype('float') / cm.sum(axis=1)[:, np.newaxis]\n",
    "        print(\"Normalized confusion matrix\")\n",
    "    else:\n",
    "        print('Confusion matrix, without normalization')\n",
    "\n",
    "    print(cm)\n",
    "\n",
    "    plt.imshow(cm, interpolation='nearest', cmap=cmap)\n",
    "    plt.title(title)\n",
    "    plt.colorbar()\n",
    "    tick_marks = np.arange(len(classes))\n",
    "    plt.xticks(tick_marks, classes, rotation=45)\n",
    "    plt.yticks(tick_marks, classes)\n",
    "\n",
    "    fmt = '.2f' if normalize else 'd'\n",
    "    thresh = cm.max() / 2.\n",
    "    for i, j in itertools.product(range(cm.shape[0]), range(cm.shape[1])):\n",
    "        plt.text(j, i, format(cm[i, j], fmt),\n",
    "                 horizontalalignment=\"center\",\n",
    "                 color=\"white\" if cm[i, j] > thresh else \"black\")\n",
    "\n",
    "    plt.tight_layout()\n",
    "    plt.ylabel('True label')\n",
    "    plt.xlabel('Predicted label')\n",
    "    if not save_dir =='':\n",
    "        plt.savefig(os.path.join(save_dir))"
   ]
  },
  {
   "cell_type": "code",
   "execution_count": 17,
   "metadata": {
    "code_folding": [
     0
    ]
   },
   "outputs": [
    {
     "name": "stdout",
     "output_type": "stream",
     "text": [
      "management accuracy :  0.7777777777777778\n",
      "management_recall-0 : 0.9643\n",
      "management_recall-1 : 0.4667\n",
      "management_recall-2 : 0.5000\n",
      "management_recall-average : 0.6437\n",
      "management_precision-0: 0.8182\n",
      "management_precision-1: 0.7778\n",
      "management_precision-2: 0.3333\n",
      "management_precision-average : 0.6431\n",
      "management_F1-0: 0.8852\n",
      "management_F1-1: 0.5833\n",
      "management_F1-2: 0.4000\n",
      "management_F1-average : 0.6229\n",
      "Confusion matrix, without normalization\n",
      "[[27  1  0]\n",
      " [ 6  7  2]\n",
      " [ 0  1  1]]\n",
      "UA accuracy :  0.7555555555555555\n",
      "UA_recall-0 : 0.8000\n",
      "UA_recall-1 : 0.7500\n",
      "UA_recall-average : 0.7750\n",
      "UA_precision-0: 0.2857\n",
      "UA_precision-1: 0.9677\n",
      "UA_precision-average : 0.6267\n",
      "UA_F1-0: 0.4211\n",
      "UA_F1-1: 0.8451\n",
      "UA_F1-average : 0.6331\n",
      "Confusion matrix, without normalization\n",
      "[[ 4  1]\n",
      " [10 30]]\n",
      "variability accuracy :  0.8888888888888888\n",
      "variability_recall-0 : 0.9000\n",
      "variability_recall-1 : 0.8000\n",
      "variability_recall-average : 0.8500\n",
      "variability_precision-0: 0.9730\n",
      "variability_precision-1: 0.5000\n",
      "variability_precision-average : 0.7365\n",
      "variability_F1-0: 0.9351\n",
      "variability_F1-1: 0.6154\n",
      "variability_F1-average : 0.7752\n",
      "Confusion matrix, without normalization\n",
      "[[36  4]\n",
      " [ 1  4]]\n",
      "deceleration accuracy :  0.7333333333333333\n",
      "deceleration_recall-0 : 0.8000\n",
      "deceleration_recall-1 : 0.3333\n",
      "deceleration_recall-2 : 0.7857\n",
      "deceleration_recall-3 : nan\n",
      "deceleration_recall-average : nan\n",
      "deceleration_precision-0: 0.8333\n",
      "deceleration_precision-1: 0.3333\n",
      "deceleration_precision-2: 0.9167\n",
      "deceleration_precision-3: 0.0000\n",
      "deceleration_precision-average : 0.5208\n",
      "deceleration_F1-0: 0.8163\n",
      "deceleration_F1-1: 0.3333\n",
      "deceleration_F1-2: 0.8462\n",
      "deceleration_F1-3: 0.0000\n",
      "deceleration_F1-average : 0.4990\n"
     ]
    },
    {
     "name": "stderr",
     "output_type": "stream",
     "text": [
      "/usr/local/lib/python3.5/dist-packages/ipykernel_launcher.py:13: RuntimeWarning: invalid value encountered in true_divide\n",
      "  del sys.path[0]\n",
      "/usr/local/lib/python3.5/dist-packages/sklearn/metrics/classification.py:1137: UndefinedMetricWarning: F-score is ill-defined and being set to 0.0 in labels with no true samples.\n",
      "  'recall', 'true', average, warn_for)\n"
     ]
    },
    {
     "name": "stdout",
     "output_type": "stream",
     "text": [
      "Confusion matrix, without normalization\n",
      "[[20  3  0  2]\n",
      " [ 2  2  1  1]\n",
      " [ 2  1 11  0]\n",
      " [ 0  0  0  0]]\n",
      "management_2_recall-0 : 0.9643\n",
      "management_2_recall-1 : 0.6471\n",
      "management_2_recall-average : 0.8057\n",
      "management_2_precision-0: 0.8182\n",
      "management_2_precision-1: 0.9167\n",
      "management_2_precision-average : 0.8674\n",
      "management_2_F1-0: 0.8852\n",
      "management_2_F1-1: 0.7586\n",
      "management_2_F1-average : 0.8219\n",
      "Confusion matrix, without normalization\n",
      "[[27  1]\n",
      " [ 6 11]]\n"
     ]
    },
    {
     "data": {
      "image/png": "[encoded data removed]",
      "text/plain": [
       "<matplotlib.figure.Figure at 0x7f674baa05c0>"
      ]
     },
     "metadata": {},
     "output_type": "display_data"
    },
    {
     "data": {
      "image/png": "[encoded data removed]",
      "text/plain": [
       "<matplotlib.figure.Figure at 0x7f674540e208>"
      ]
     },
     "metadata": {},
     "output_type": "display_data"
    },
    {
     "data": {
      "image/png": "[encoded data removed]",
      "text/plain": [
       "<matplotlib.figure.Figure at 0x7f67453ca128>"
      ]
     },
     "metadata": {},
     "output_type": "display_data"
    },
    {
     "data": {
      "image/png": "[encoded data removed]",
      "text/plain": [
       "<matplotlib.figure.Figure at 0x7f67453a87b8>"
      ]
     },
     "metadata": {},
     "output_type": "display_data"
    },
    {
     "data": {
      "image/png": "[encoded data removed]",
      "text/plain": [
       "<matplotlib.figure.Figure at 0x7f6745942d30>"
      ]
     },
     "metadata": {},
     "output_type": "display_data"
    }
   ],
   "source": [
    "# save into dictionary\n",
    "sav = vars(FLAG)\n",
    "sav['epoch'] = best_epoch\n",
    "sav['val_loss'] = best_val_loss\n",
    "sav['model_id'] = model_id\n",
    "\n",
    "c_list = ['management', 'UA', 'variability', 'deceleration']\n",
    "for c in range(len(c_list)):\n",
    "    ypred_aug = np.argmax(Pred[c] , axis=1)\n",
    "    ytest_aug = np.argmax(Ytest[c], axis=1)\n",
    "\n",
    "    cfm = confusion_matrix(y_pred=ypred_aug, y_true=ytest_aug)\n",
    "    recall = np.diag(cfm) / np.sum(cfm, axis=1)\n",
    "    precision = np.diag(cfm) / np.sum(cfm, axis=0)\n",
    "    val_accu = accuracy_score(y_pred=ypred_aug, y_true=ytest_aug)\n",
    "    f1 = f1_score(y_pred=ypred_aug, y_true=ytest_aug, average=None)\n",
    "#         _val_recall = recall_score(val_targ, val_predict, average=None)\n",
    "#         _val_precision = precision_score(val_targ, val_predict, average=None)\n",
    "    \n",
    "    \n",
    "\n",
    "    print('%s accuracy : ' % (c_list[c]), val_accu)\n",
    "    tmp_list = []\n",
    "    for i in range(len(recall)):\n",
    "        print('%s_recall-%d : %.4f' %(c_list[c],i, recall[i]))\n",
    "        sav['%s_recall-%d' %(c_list[c], i)] = recall[i]\n",
    "        tmp_list.append(recall[i])\n",
    "    print('%s_recall-average : %.4f' %(c_list[c], sum(tmp_list)/len(tmp_list)))\n",
    "    sav['%s_recall-average' %(c_list[c])] = sum(tmp_list)/len(tmp_list)\n",
    "    \n",
    "    tmp_list = []\n",
    "    for i in range(len(precision)):\n",
    "        print('%s_precision-%d: %.4f' % (c_list[c],i, precision[i]))\n",
    "        sav['%s_precision-%d' %(c_list[c], i)] = precision[i]\n",
    "        tmp_list.append(precision[i])\n",
    "    print('%s_precision-average : %.4f' %(c_list[c], sum(tmp_list)/len(tmp_list)))\n",
    "    sav['%s_precision-average' %(c_list[c])] = sum(tmp_list)/len(tmp_list)\n",
    "    \n",
    "    tmp_list = []\n",
    "    for i in range(len(f1)):\n",
    "        print('%s_F1-%d: %.4f' % (c_list[c],i, f1[i]))\n",
    "        sav['%s_F1-%d' %(c_list[c], i)] = f1[i]\n",
    "        tmp_list.append(f1[i])\n",
    "    print('%s_F1-average : %.4f' %(c_list[c], sum(tmp_list)/len(tmp_list)))\n",
    "    sav['%s_F1-average' %(c_list[c])] = sum(tmp_list)/len(tmp_list)\n",
    "    \n",
    "    sav['val_%s_acc' %(c_list[c])] = val_accu\n",
    "\n",
    "    plt.figure()\n",
    "    rcl = [round(recall[i],2) for i in range(len(recall))]\n",
    "    plot_confusion_matrix(cfm, classes=np.arange(len(recall)),\n",
    "                          title='%s acc: %.2f \\nrecall: %s' %(c_list[c], val_accu,rcl),\n",
    "                          save_dir=model_save+'/%s_cm.png' % (c_list[c]) )\n",
    "# force management to 2 label \n",
    "c_list = ['management_2']\n",
    "for idx, c in enumerate([0]):\n",
    "    # evaluate by every segment\n",
    "    ypred_aug = np.argmax(Pred[c] , axis=1)\n",
    "    ytest_aug = np.argmax(Ytest[c], axis=1)\n",
    "    ypred_aug[ypred_aug>1]=1\n",
    "    ytest_aug[ytest_aug>1]=1\n",
    "\n",
    "    cfm = confusion_matrix(y_pred=ypred_aug, y_true=ytest_aug)\n",
    "    recall = np.diag(cfm) / np.sum(cfm, axis=1)\n",
    "    precision = np.diag(cfm) / np.sum(cfm, axis=0)\n",
    "    val_accu = accuracy_score(y_pred=ypred_aug, y_true=ytest_aug)\n",
    "    f1 = f1_score(y_pred=ypred_aug, y_true=ytest_aug, average=None)\n",
    "    \n",
    "    tmp_list = []\n",
    "    for i in range(len(recall)):\n",
    "        print('%s_recall-%d : %.4f' %(c_list[idx],i, recall[i]))\n",
    "        sav['%s_recall-%d' %(c_list[idx], i)] = recall[i]\n",
    "        tmp_list.append(recall[i])\n",
    "    print('%s_recall-average : %.4f' %(c_list[idx], sum(tmp_list)/len(tmp_list)))\n",
    "    sav['%s_recall-average' %(c_list[idx])] = sum(tmp_list)/len(tmp_list)\n",
    "    \n",
    "    tmp_list = []\n",
    "    for i in range(len(precision)):\n",
    "        print('%s_precision-%d: %.4f' % (c_list[idx],i, precision[i]))\n",
    "        sav['%s_precision-%d' %(c_list[idx], i)] = precision[i]\n",
    "        tmp_list.append(precision[i])\n",
    "    print('%s_precision-average : %.4f' %(c_list[idx], sum(tmp_list)/len(tmp_list)))\n",
    "    sav['%s_precision-average' %(c_list[idx])] = sum(tmp_list)/len(tmp_list)\n",
    "    \n",
    "    tmp_list = []\n",
    "    for i in range(len(f1)):\n",
    "        print('%s_F1-%d: %.4f' % (c_list[idx],i, f1[i]))\n",
    "        sav['%s_F1-%d' %(c_list[idx], i)] = f1[i]\n",
    "        tmp_list.append(f1[i])\n",
    "    print('%s_F1-average : %.4f' %(c_list[idx], sum(tmp_list)/len(tmp_list)))\n",
    "    sav['%s_F1-average' %(c_list[idx])] = sum(tmp_list)/len(tmp_list)\n",
    "    \n",
    "    sav['val_%s_acc' %(c_list[idx])] = val_accu\n",
    "\n",
    "    plt.figure()\n",
    "    rcl = [round(recall[i],2) for i in range(len(recall))]\n",
    "    plot_confusion_matrix(cfm, classes=np.arange(len(recall)), \n",
    "                          title='%s acc: %.2f \\nrecall: %s' %(c_list[idx], val_accu,rcl),\n",
    "                          save_dir=model_save+'/%s_cm.png' % (c_list[idx]) )\n"
   ]
  },
  {
   "cell_type": "code",
   "execution_count": 18,
   "metadata": {},
   "outputs": [
    {
     "name": "stdout",
     "output_type": "stream",
     "text": [
      "/home/katieyth/gynecology/model_save/multi/summary_multi_.csv\n"
     ]
    },
    {
     "name": "stderr",
     "output_type": "stream",
     "text": [
      "/usr/local/lib/python3.5/dist-packages/ipykernel_launcher.py:5: FutureWarning: Sorting because non-concatenation axis is not aligned. A future version\n",
      "of pandas will change to not sort by default.\n",
      "\n",
      "To accept the future behavior, pass 'sort=False'.\n",
      "\n",
      "To retain the current behavior and silence the warning, pass 'sort=True'.\n",
      "\n",
      "  \"\"\"\n"
     ]
    }
   ],
   "source": [
    "# append into summary files\n",
    "dnew = pd.DataFrame(sav, index=[0])\n",
    "if os.path.exists(summary_save):\n",
    "    dori = pd.read_csv(summary_save)\n",
    "    dori = pd.concat([dori, dnew])\n",
    "    dori.to_csv(summary_save, index=False)\n",
    "else:\n",
    "    dnew.to_csv(summary_save, index=False)\n",
    "\n",
    "print(summary_save)\n",
    "\n"
   ]
  }
 ],
 "metadata": {
  "kernelspec": {
   "display_name": "Python 3",
   "language": "python",
   "name": "python3"
  },
  "language_info": {
   "codemirror_mode": {
    "name": "ipython",
    "version": 3
   },
   "file_extension": ".py",
   "mimetype": "text/x-python",
   "name": "python",
   "nbconvert_exporter": "python",
   "pygments_lexer": "ipython3",
   "version": "3.5.2"
  }
 },
 "nbformat": 4,
 "nbformat_minor": 2
}
