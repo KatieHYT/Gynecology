{
 "cells": [
  {
   "cell_type": "code",
   "execution_count": 1,
   "metadata": {},
   "outputs": [
    {
     "name": "stderr",
     "output_type": "stream",
     "text": [
      "/usr/local/lib/python3.5/dist-packages/h5py/__init__.py:36: FutureWarning: Conversion of the second argument of issubdtype from `float` to `np.floating` is deprecated. In future, it will be treated as `np.float64 == np.dtype(float).type`.\n",
      "  from ._conv import register_converters as _register_converters\n",
      "Using TensorFlow backend.\n"
     ]
    }
   ],
   "source": [
    "import os\n",
    "import sys\n",
    "from datetime import datetime\n",
    "import keras\n",
    "\n",
    "import argparse\n",
    "import numpy as np\n",
    "import pandas as pd\n",
    "import matplotlib\n",
    "matplotlib.use('Agg')\n",
    "import matplotlib.pyplot as plt\n",
    "get_ipython().run_line_magic('matplotlib', 'inline')\n",
    "\n",
    "from keras.models import Model, load_model\n",
    "from keras.callbacks import ModelCheckpoint, CSVLogger, ReduceLROnPlateau, EarlyStopping, TensorBoard\n",
    "from keras.optimizers import Adam, SGD, Adamax\n",
    "import keras.backend as K\n",
    "\n",
    "from sklearn.metrics import confusion_matrix, classification_report, accuracy_score, f1_score, precision_score, recall_score\n",
    "\n",
    "from sklearn.model_selection import train_test_split\n",
    "from sklearn.utils.class_weight import compute_class_weight\n",
    "\n",
    "from func import * "
   ]
  },
  {
   "cell_type": "code",
   "execution_count": 2,
   "metadata": {
    "code_folding": []
   },
   "outputs": [],
   "source": [
    "#### parser\n",
    "parser = argparse.ArgumentParser()\n",
    "parser.add_argument('-s' ,'--model_save', type=str, default='/home/katieyth/gynecology/model_save/', help='model save path')\n",
    "parser.add_argument('-y' ,'--target', type=str, default='management', help='prediction target')\n",
    "parser.add_argument('-cv_path' ,'--cv_path', type=str, default='/home/katieyth/gynecology/data/5_fold_CMU_rs_13/', help='cv_path')\n",
    "\n",
    " \n",
    "# input parameter\n",
    "parser.add_argument('-l' ,'--length', type=int, default=600, help='length of input')\n",
    "parser.add_argument('-ks','--k_slice', type=int, default=1, help='a input will be sliced into k_slice segments when testing')\n",
    "parser.add_argument('-c' ,'--n_channel', type=int, default=2, help='number of input channels')\n",
    "parser.add_argument('-rn','--random_noise', type=int, default=0, help='add Gaussian noise (mean=0, std=0.01) into inputs')\n",
    "parser.add_argument('-nm','--normalized', type=int, default=1, help='whether conduct channel-wise normalization')\n",
    "\n",
    "# data augmentation \n",
    "parser.add_argument('-aug_fliplr' ,'--aug_fliplr', type=int, default=0, help='reverse time series')\n",
    "parser.add_argument('-shift' ,'--DA_Shift', type=int, default=1, help='')\n",
    "parser.add_argument('-scale' ,'--DA_Scale', type=int, default=1, help='')\n",
    "parser.add_argument('-randsamp' ,'--DA_RandSampling', type=int, default=1, help='')\n",
    "\n",
    "\n",
    "# model parameters\n",
    "parser.add_argument('-struc' ,'--struc', type=str, default='single', help='deeper or shallower')\n",
    "parser.add_argument('-k' ,'--kernel_size', type=int, default=3, help='kernel size')\n",
    "parser.add_argument('-f' ,'--filters', type=int, default=64, help='base number of filters')\n",
    "parser.add_argument('-ly' ,'--layers', type=int, default=5, help='number of residual layers')\n",
    "parser.add_argument('-a' ,'--activation', type=str, default='relu', help='activation function')\n",
    "parser.add_argument('-i' ,'--kernel_initializer', type=str, default='RandomNormal', help='kernel initialization method')\n",
    "parser.add_argument('-l2','--l2', type=float, default=0.01, help='coefficient of l2 regularization')\n",
    "\n",
    "# hyper-parameters\n",
    "parser.add_argument('-lr','--learning_rate', type=float, default=1e-4, help='learning_rate')\n",
    "parser.add_argument('-reduce_lr_patience','--reduce_lr_patience', type=int, default=50, help='reduce_lr_patience')\n",
    "parser.add_argument('-bs','--batch_size', type=int, default=27, help='batch_size')\n",
    "parser.add_argument('-ep','--epoch', type=int, default=15, help='epoch')\n",
    "parser.add_argument('-wb','--weight_balance', type=int, default=1, help='whether weight balancing or not')\n",
    "parser.add_argument('-mntr','--monitor', type=str, default='val_acc', help='val_acc or val_loss')\n",
    "\n",
    "parser.add_argument('-g' ,'--gpu_id', type=str, default='7', help='GPU ID')\n",
    "parser.add_argument('-fd' ,'--fold', type=int, default=1, help='CMU_5_fold')\n",
    "parser.add_argument('-fn' ,'--summary_file', type=str, default='', help='summary filename')\n",
    "\n",
    "FLAG = parser.parse_args([])\n",
    "os.environ['CUDA_VISIBLE_DEVICES'] = FLAG.gpu_id"
   ]
  },
  {
   "cell_type": "code",
   "execution_count": 3,
   "metadata": {},
   "outputs": [],
   "source": [
    "def data_preprocess_test(Xvalid, Yvalid, length=600):\n",
    "    Xtest = np.empty((Xvalid.shape[0], length, Xvalid.shape[2]))\n",
    "    for i in range(Xvalid.shape[0]):\n",
    "        Xtest[i,:,:] = data_normalize(Xvalid[i,0:600,:])\n",
    "    Ytest = Yvalid.copy()\n",
    "    return Xtest, Ytest"
   ]
  },
  {
   "cell_type": "code",
   "execution_count": 4,
   "metadata": {
    "scrolled": true
   },
   "outputs": [
    {
     "name": "stdout",
     "output_type": "stream",
     "text": [
      "class weight: {0: 0.5142857142857142, 1: 1.0384615384615385, 2: 10.8}\n",
      "train: 162\n",
      "test: 45\n"
     ]
    }
   ],
   "source": [
    "### data preparing\n",
    "train_d = pd.read_csv(os.path.join(FLAG.cv_path, '5_fold_0%s_train.csv' %(FLAG.fold)))\n",
    "valid_d = pd.read_csv(os.path.join(FLAG.cv_path, '5_fold_0%s_test.csv' %(FLAG.fold)))\n",
    "\n",
    "# replace 0 (no readings) with np.nan for later substitution\n",
    "for k in train_d.columns:\n",
    "    if 'b-' in k or 'm-' in k:\n",
    "        print(k, end='\\r')\n",
    "        train_d.loc[train_d[k]==0, k] = np.nan\n",
    "for k in valid_d.columns:\n",
    "    if 'b-' in k or 'm-' in k:\n",
    "        print(k, end='\\r')\n",
    "        valid_d.loc[valid_d[k]==0, k] = np.nan\n",
    "\n",
    "    \n",
    "# interpolate missing values\n",
    "train_db = np.array(train_d[[k for k in train_d.columns if 'b-' in k]].interpolate(limit_direction='both', axis=1), dtype=np.float)\n",
    "train_dm = np.array(train_d[[k for k in train_d.columns if 'm-' in k]].interpolate(limit_direction='both', axis=1), dtype=np.float)\n",
    "valid_db = np.array(valid_d[[k for k in valid_d.columns if 'b-' in k]].interpolate(limit_direction='both', axis=1), dtype=np.float)\n",
    "valid_dm = np.array(valid_d[[k for k in valid_d.columns if 'm-' in k]].interpolate(limit_direction='both', axis=1), dtype=np.float)\n",
    "# combine signals from baby and mom\n",
    "Xtrain = np.stack([train_db, train_dm], axis=2)\n",
    "Xvalid = np.stack([valid_db, valid_dm], axis=2)\n",
    "\n",
    "# convert labels to one-hot encodings\n",
    "target_list = ['management', ]\n",
    "target_dict = {'management':3}\n",
    "Ytrain = [(keras.utils.to_categorical(np.array(train_d[c_name]),num_classes=target_dict[c_name])) for c_name in target_list]\n",
    "Yvalid = [(keras.utils.to_categorical(np.array(valid_d[c_name]),num_classes=target_dict[c_name])) for c_name in target_list]\n",
    "\n",
    "#weight balancing or not\n",
    "if FLAG.weight_balance:\n",
    "    weight_list = []\n",
    "    for idx, c_name in enumerate(target_list):\n",
    "        y_integers = np.argmax(Ytrain[idx], axis=1)\n",
    "        d_class_weight = compute_class_weight('balanced', np.unique(y_integers), y_integers)\n",
    "        class_weight = dict(enumerate(d_class_weight))\n",
    "        print('class weight: {0}'.format(class_weight))\n",
    "        weight_list.append(class_weight)\n",
    "else:\n",
    "    weight_list = []\n",
    "    for idx, c_name in enumerate(target_list):\n",
    "        class_weight = dict()\n",
    "        for i in range(target_dict[c_name]):\n",
    "            class_weight[i] = 1\n",
    "        print('class weight: {0}'.format(class_weight))\n",
    "        weight_list.append(class_weight)\n",
    "\n",
    "Xtest, Ytest =data_preprocess_test(Xvalid, Yvalid)\n",
    "\n",
    "\n",
    "if FLAG.aug_fliplr:\n",
    "    Xtrain_copy = Xtrain.copy()\n",
    "    for i in range(len(Xtrain)):\n",
    "        Xtrain_copy[i] = np.fliplr([Xtrain[i]])[0]\n",
    "        print(i,'/',len(Xtrain), end= '\\r')\n",
    "    Xtrain = np.vstack((Xtrain, Xtrain_copy))\n",
    "    Ytrain = np.vstack((Ytrain, Ytrain))\n",
    "\n",
    "print('train:', len(train_d))\n",
    "print('test:', len(valid_d))"
   ]
  },
  {
   "cell_type": "markdown",
   "metadata": {},
   "source": [
    "# model"
   ]
  },
  {
   "cell_type": "code",
   "execution_count": 5,
   "metadata": {},
   "outputs": [],
   "source": [
    "if FLAG.struc =='deeper':\n",
    "    from model_multitask_more import build_model\n",
    "elif FLAG.struc =='shallower':\n",
    "    from model_multitask import build_model\n",
    "elif FLAG.struc =='man_concat':\n",
    "    from model_multitask_more_concat import build_model\n",
    "elif FLAG.struc =='man_concat_shallower':\n",
    "    from model_multitask_more_concat_shallower import build_model\n",
    "elif FLAG.struc =='mimic_previous':\n",
    "    from model_multitask_more_concat_mimic_previous import build_model\n",
    "elif FLAG.struc =='mimic_previous_FHB':\n",
    "    from model_multitask_more_concat_mimic_previous_FHB import build_model\n",
    "elif FLAG.struc =='single':\n",
    "    from model import build_model"
   ]
  },
  {
   "cell_type": "code",
   "execution_count": 6,
   "metadata": {},
   "outputs": [
    {
     "data": {
      "text/plain": [
       "[<function func.DA_Shift>,\n",
       " <function func.DA_Scale>,\n",
       " <function func.DA_RandSampling>]"
      ]
     },
     "execution_count": 6,
     "metadata": {},
     "output_type": "execute_result"
    }
   ],
   "source": [
    "augtool = (DA_Shift,DA_Scale,DA_RandSampling)\n",
    "choose_augtool = (FLAG.DA_Shift,FLAG.DA_Scale,FLAG.DA_RandSampling)\n",
    "augset = [x for x, y in zip(augtool, choose_augtool) if y == 1]\n",
    "augset"
   ]
  },
  {
   "cell_type": "code",
   "execution_count": 7,
   "metadata": {},
   "outputs": [],
   "source": [
    "def my_generator(Xtrain, Ytrain, tg_list, tg_dict,\n",
    "                 length=300, n_channel=2,  batch_size=16, prob=0.5,\n",
    "                 aug_func=[], random_noise = False, normalized = True):\n",
    "    n_sample = Xtrain.shape[0]\n",
    "    n_length = Xtrain.shape[1]\n",
    "    ind = list(range(n_sample))\n",
    "    x = np.empty((batch_size, length, n_channel), dtype=np.float)\n",
    "    \n",
    "    y_list = [(np.empty((batch_size, tg_dict[c_name]), dtype=int)) for c_name in tg_list]\n",
    "\n",
    "    while True:\n",
    "        np.random.shuffle(ind)\n",
    "        for i in range(n_sample//batch_size):\n",
    "            if length==600:\n",
    "                st = 0\n",
    "            else:\n",
    "                st = random.choice(np.arange(0, Xtrain.shape[1] - length))\n",
    "            i_batch = ind[i*batch_size:(i+1)*batch_size]\n",
    "            for j, k in enumerate(i_batch):\n",
    "                x[j,:] = data_preprocess(Xtrain[k,st:(st+length),:], aug_func=aug_func, prob=prob, random_noise=random_noise, normalized=normalized)\n",
    "                for c_idx in range(len(tg_list)):\n",
    "                    y_list[c_idx][j,:] = Ytrain[c_idx][k,:] \n",
    "                \n",
    "            yield x, y_list"
   ]
  },
  {
   "cell_type": "code",
   "execution_count": 8,
   "metadata": {},
   "outputs": [],
   "source": [
    "train_gen = my_generator(Xtrain, Ytrain, \n",
    "                         tg_list = target_list,\n",
    "                         tg_dict = target_dict,\n",
    "                        length=FLAG.length, \n",
    "                        n_channel=FLAG.n_channel, \n",
    "                        random_noise=FLAG.random_noise,\n",
    "                        normalized=FLAG.normalized,\n",
    "                        batch_size=FLAG.batch_size,\n",
    "                        aug_func=augset,\n",
    "                        prob=0.25)"
   ]
  },
  {
   "cell_type": "code",
   "execution_count": 9,
   "metadata": {},
   "outputs": [],
   "source": [
    "# Get a \"l2 norm of gradients\" tensor\n",
    "def get_gradient_norm(model):\n",
    "    with K.name_scope('gradient_norm'):\n",
    "        grads = K.gradients(model.total_loss, model.trainable_weights)\n",
    "        norm = K.sqrt(sum([K.sum(K.square(g)) for g in grads]))\n",
    "    return norm"
   ]
  },
  {
   "cell_type": "code",
   "execution_count": 10,
   "metadata": {},
   "outputs": [
    {
     "name": "stdout",
     "output_type": "stream",
     "text": [
      "===== create directory =====\n",
      "/home/katieyth/gynecology/model_save/management/management_190119171504\n",
      "__________________________________________________________________________________________________\n",
      "Layer (type)                    Output Shape         Param #     Connected to                     \n",
      "==================================================================================================\n",
      "input_1 (InputLayer)            (None, 600, 2)       0                                            \n",
      "__________________________________________________________________________________________________\n",
      "conv1d_1 (Conv1D)               (None, 600, 64)      448         input_1[0][0]                    \n",
      "__________________________________________________________________________________________________\n",
      "batch_normalization_1 (BatchNor (None, 600, 64)      256         conv1d_1[0][0]                   \n",
      "__________________________________________________________________________________________________\n",
      "activation_1 (Activation)       (None, 600, 64)      0           batch_normalization_1[0][0]      \n",
      "__________________________________________________________________________________________________\n",
      "conv1d_2 (Conv1D)               (None, 300, 64)      12352       activation_1[0][0]               \n",
      "__________________________________________________________________________________________________\n",
      "batch_normalization_2 (BatchNor (None, 300, 64)      256         conv1d_2[0][0]                   \n",
      "__________________________________________________________________________________________________\n",
      "activation_2 (Activation)       (None, 300, 64)      0           batch_normalization_2[0][0]      \n",
      "__________________________________________________________________________________________________\n",
      "conv1d_3 (Conv1D)               (None, 300, 64)      12352       activation_2[0][0]               \n",
      "__________________________________________________________________________________________________\n",
      "max_pooling1d_1 (MaxPooling1D)  (None, 300, 64)      0           activation_1[0][0]               \n",
      "__________________________________________________________________________________________________\n",
      "add_1 (Add)                     (None, 300, 64)      0           conv1d_3[0][0]                   \n",
      "                                                                 max_pooling1d_1[0][0]            \n",
      "__________________________________________________________________________________________________\n",
      "batch_normalization_3 (BatchNor (None, 300, 64)      256         add_1[0][0]                      \n",
      "__________________________________________________________________________________________________\n",
      "activation_3 (Activation)       (None, 300, 64)      0           batch_normalization_3[0][0]      \n",
      "__________________________________________________________________________________________________\n",
      "conv1d_4 (Conv1D)               (None, 300, 64)      12352       activation_3[0][0]               \n",
      "__________________________________________________________________________________________________\n",
      "batch_normalization_4 (BatchNor (None, 300, 64)      256         conv1d_4[0][0]                   \n",
      "__________________________________________________________________________________________________\n",
      "activation_4 (Activation)       (None, 300, 64)      0           batch_normalization_4[0][0]      \n",
      "__________________________________________________________________________________________________\n",
      "conv1d_5 (Conv1D)               (None, 300, 64)      12352       activation_4[0][0]               \n",
      "__________________________________________________________________________________________________\n",
      "max_pooling1d_2 (MaxPooling1D)  (None, 300, 64)      0           add_1[0][0]                      \n",
      "__________________________________________________________________________________________________\n",
      "add_2 (Add)                     (None, 300, 64)      0           conv1d_5[0][0]                   \n",
      "                                                                 max_pooling1d_2[0][0]            \n",
      "__________________________________________________________________________________________________\n",
      "batch_normalization_5 (BatchNor (None, 300, 64)      256         add_2[0][0]                      \n",
      "__________________________________________________________________________________________________\n",
      "activation_5 (Activation)       (None, 300, 64)      0           batch_normalization_5[0][0]      \n",
      "__________________________________________________________________________________________________\n",
      "conv1d_6 (Conv1D)               (None, 150, 64)      12352       activation_5[0][0]               \n",
      "__________________________________________________________________________________________________\n",
      "batch_normalization_6 (BatchNor (None, 150, 64)      256         conv1d_6[0][0]                   \n",
      "__________________________________________________________________________________________________\n",
      "activation_6 (Activation)       (None, 150, 64)      0           batch_normalization_6[0][0]      \n",
      "__________________________________________________________________________________________________\n",
      "conv1d_7 (Conv1D)               (None, 150, 64)      12352       activation_6[0][0]               \n",
      "__________________________________________________________________________________________________\n",
      "max_pooling1d_3 (MaxPooling1D)  (None, 150, 64)      0           add_2[0][0]                      \n",
      "__________________________________________________________________________________________________\n",
      "add_3 (Add)                     (None, 150, 64)      0           conv1d_7[0][0]                   \n",
      "                                                                 max_pooling1d_3[0][0]            \n",
      "__________________________________________________________________________________________________\n",
      "batch_normalization_7 (BatchNor (None, 150, 64)      256         add_3[0][0]                      \n",
      "__________________________________________________________________________________________________\n",
      "activation_7 (Activation)       (None, 150, 64)      0           batch_normalization_7[0][0]      \n",
      "__________________________________________________________________________________________________\n",
      "conv1d_8 (Conv1D)               (None, 150, 64)      12352       activation_7[0][0]               \n",
      "__________________________________________________________________________________________________\n",
      "batch_normalization_8 (BatchNor (None, 150, 64)      256         conv1d_8[0][0]                   \n",
      "__________________________________________________________________________________________________\n",
      "activation_8 (Activation)       (None, 150, 64)      0           batch_normalization_8[0][0]      \n",
      "__________________________________________________________________________________________________\n",
      "conv1d_9 (Conv1D)               (None, 150, 64)      12352       activation_8[0][0]               \n",
      "__________________________________________________________________________________________________\n",
      "max_pooling1d_4 (MaxPooling1D)  (None, 150, 64)      0           add_3[0][0]                      \n",
      "__________________________________________________________________________________________________\n",
      "add_4 (Add)                     (None, 150, 64)      0           conv1d_9[0][0]                   \n",
      "                                                                 max_pooling1d_4[0][0]            \n",
      "__________________________________________________________________________________________________\n",
      "conv1d_10 (Conv1D)              (None, 150, 128)     24704       add_4[0][0]                      \n",
      "__________________________________________________________________________________________________\n",
      "batch_normalization_9 (BatchNor (None, 150, 128)     512         conv1d_10[0][0]                  \n",
      "__________________________________________________________________________________________________\n",
      "activation_9 (Activation)       (None, 150, 128)     0           batch_normalization_9[0][0]      \n",
      "__________________________________________________________________________________________________\n",
      "conv1d_11 (Conv1D)              (None, 75, 128)      49280       activation_9[0][0]               \n",
      "__________________________________________________________________________________________________\n",
      "batch_normalization_10 (BatchNo (None, 75, 128)      512         conv1d_11[0][0]                  \n",
      "__________________________________________________________________________________________________\n",
      "activation_10 (Activation)      (None, 75, 128)      0           batch_normalization_10[0][0]     \n",
      "__________________________________________________________________________________________________\n",
      "conv1d_12 (Conv1D)              (None, 75, 128)      49280       activation_10[0][0]              \n",
      "__________________________________________________________________________________________________\n",
      "max_pooling1d_5 (MaxPooling1D)  (None, 75, 128)      0           conv1d_10[0][0]                  \n",
      "__________________________________________________________________________________________________\n",
      "add_5 (Add)                     (None, 75, 128)      0           conv1d_12[0][0]                  \n",
      "                                                                 max_pooling1d_5[0][0]            \n",
      "__________________________________________________________________________________________________\n",
      "batch_normalization_11 (BatchNo (None, 75, 128)      512         add_5[0][0]                      \n",
      "__________________________________________________________________________________________________\n",
      "activation_11 (Activation)      (None, 75, 128)      0           batch_normalization_11[0][0]     \n",
      "__________________________________________________________________________________________________\n",
      "conv1d_13 (Conv1D)              (None, 75, 128)      49280       activation_11[0][0]              \n",
      "__________________________________________________________________________________________________\n",
      "batch_normalization_12 (BatchNo (None, 75, 128)      512         conv1d_13[0][0]                  \n",
      "__________________________________________________________________________________________________\n",
      "activation_12 (Activation)      (None, 75, 128)      0           batch_normalization_12[0][0]     \n",
      "__________________________________________________________________________________________________\n",
      "conv1d_14 (Conv1D)              (None, 75, 128)      49280       activation_12[0][0]              \n",
      "__________________________________________________________________________________________________\n",
      "max_pooling1d_6 (MaxPooling1D)  (None, 75, 128)      0           add_5[0][0]                      \n",
      "__________________________________________________________________________________________________\n",
      "add_6 (Add)                     (None, 75, 128)      0           conv1d_14[0][0]                  \n",
      "                                                                 max_pooling1d_6[0][0]            \n",
      "__________________________________________________________________________________________________\n",
      "global_average_pooling1d_1 (Glo (None, 128)          0           add_6[0][0]                      \n",
      "__________________________________________________________________________________________________\n",
      "batch_normalization_13 (BatchNo (None, 128)          512         global_average_pooling1d_1[0][0] \n",
      "__________________________________________________________________________________________________\n",
      "dense_1 (Dense)                 (None, 128)          16512       batch_normalization_13[0][0]     \n",
      "__________________________________________________________________________________________________\n",
      "batch_normalization_14 (BatchNo (None, 128)          512         dense_1[0][0]                    \n",
      "__________________________________________________________________________________________________\n",
      "activation_13 (Activation)      (None, 128)          0           batch_normalization_14[0][0]     \n",
      "__________________________________________________________________________________________________\n",
      "dense_2 (Dense)                 (None, 3)            387         activation_13[0][0]              \n",
      "==================================================================================================\n",
      "Total params: 343,107\n",
      "Trainable params: 340,547\n",
      "Non-trainable params: 2,560\n",
      "__________________________________________________________________________________________________\n"
     ]
    }
   ],
   "source": [
    "print(\"===== create directory =====\")\n",
    "model_id = FLAG.target + \"_\" + datetime.now().strftime(\"%y%m%d%H%M%S\")\n",
    "model_save = os.path.join(FLAG.model_save, FLAG.target, model_id)\n",
    "summary_save = os.path.join(FLAG.model_save, FLAG.target, 'summary_'+FLAG.target+'_'+FLAG.summary_file+'.csv')\n",
    "\n",
    "if not os.path.exists(model_save):\n",
    "    os.makedirs(model_save)\n",
    "    print(model_save)\n",
    "\n",
    "# declare model and compile it \n",
    "model = build_model(length=FLAG.length, n_channel=FLAG.n_channel,  filters=FLAG.filters,\n",
    "                    kernel_size=FLAG.kernel_size, layers=FLAG.layers,\n",
    "                activation=FLAG.activation, kernel_initializer=FLAG.kernel_initializer, l_2=FLAG.l2, \n",
    "                    n_classes  = (Ytest[0].shape)[1])\n",
    "model.summary()\n",
    "lr_rate = FLAG.learning_rate\n",
    "adam = Adamax(lr_rate, beta_1=0.5, beta_2=0.999, epsilon=1e-08, decay = 0.0)\n",
    "model.compile(loss='categorical_crossentropy',\n",
    "              optimizer=adam,\n",
    "              metrics=['accuracy'])\n",
    "\n",
    "# 還沒有 compile 前拿不到 total loss 這個 tensor, 也拿不到 metrics 這個東西\n",
    "# Append the \"l2 norm of gradients\" tensor as a metric\n",
    "model.metrics_names.append(\"gradient_norm\")\n",
    "model.metrics_tensors.append(get_gradient_norm(model))\n",
    "\n",
    "\n",
    "csv_logger = CSVLogger(os.path.join(model_save, 'training.log'), append = True)\n",
    "checkpoint = ModelCheckpoint(os.path.join(model_save, 'model.h5'), \n",
    "                                            monitor=FLAG.monitor, \n",
    "                                            verbose=1, \n",
    "                                            save_best_only=True,\n",
    "                                            save_weights_only=False,\n",
    "                                            mode='auto',\n",
    "                                            period=1)\n",
    "earlystop = EarlyStopping(monitor = FLAG.monitor, patience=200, verbose=1)\n",
    "reduce_lr = ReduceLROnPlateau(monitor=FLAG.monitor, factor = 0.5, patience = FLAG.reduce_lr_patience, min_lr = 0, cooldown = 5, verbose = True)"
   ]
  },
  {
   "cell_type": "code",
   "execution_count": 11,
   "metadata": {
    "scrolled": true
   },
   "outputs": [
    {
     "name": "stdout",
     "output_type": "stream",
     "text": [
      "Epoch 1/15\n",
      "48/50 [===========================>..] - ETA: 0s - loss: 17.9434 - acc: 0.4151 - gradient_norm: 15.1639\n",
      "Epoch 00001: val_acc improved from -inf to 0.42222, saving model to /home/katieyth/gynecology/model_save/management/management_190119171504/model.h5\n",
      "50/50 [==============================] - 12s 238ms/step - loss: 17.9359 - acc: 0.4156 - gradient_norm: 15.1364 - val_loss: 17.9590 - val_acc: 0.4222 - val_gradient_norm: 21.7081\n",
      "Epoch 2/15\n",
      "49/50 [============================>.] - ETA: 0s - loss: 17.7052 - acc: 0.4429 - gradient_norm: 10.4696\n",
      "Epoch 00002: val_acc improved from 0.42222 to 0.46667, saving model to /home/katieyth/gynecology/model_save/management/management_190119171504/model.h5\n",
      "50/50 [==============================] - 2s 45ms/step - loss: 17.7062 - acc: 0.4444 - gradient_norm: 10.5079 - val_loss: 17.8386 - val_acc: 0.4667 - val_gradient_norm: 20.8445\n",
      "Epoch 3/15\n",
      "49/50 [============================>.] - ETA: 0s - loss: 17.5492 - acc: 0.4754 - gradient_norm: 9.6639\n",
      "Epoch 00003: val_acc improved from 0.46667 to 0.46667, saving model to /home/katieyth/gynecology/model_save/management/management_190119171504/model.h5\n",
      "50/50 [==============================] - 2s 43ms/step - loss: 17.5474 - acc: 0.4748 - gradient_norm: 9.5721 - val_loss: 17.7109 - val_acc: 0.4667 - val_gradient_norm: 21.4209\n",
      "Epoch 4/15\n",
      "49/50 [============================>.] - ETA: 0s - loss: 17.4253 - acc: 0.5125 - gradient_norm: 9.1480\n",
      "Epoch 00004: val_acc improved from 0.46667 to 0.53333, saving model to /home/katieyth/gynecology/model_save/management/management_190119171504/model.h5\n",
      "50/50 [==============================] - 2s 43ms/step - loss: 17.4263 - acc: 0.5148 - gradient_norm: 9.1407 - val_loss: 17.5694 - val_acc: 0.5333 - val_gradient_norm: 21.4569\n",
      "Epoch 5/15\n",
      "49/50 [============================>.] - ETA: 0s - loss: 17.3024 - acc: 0.5790 - gradient_norm: 8.2858\n",
      "Epoch 00005: val_acc did not improve\n",
      "50/50 [==============================] - 2s 41ms/step - loss: 17.3001 - acc: 0.5800 - gradient_norm: 8.2755 - val_loss: 17.5009 - val_acc: 0.5333 - val_gradient_norm: 22.9297\n",
      "Epoch 6/15\n",
      "49/50 [============================>.] - ETA: 0s - loss: 17.2066 - acc: 0.6085 - gradient_norm: 9.4369\n",
      "Epoch 00006: val_acc improved from 0.53333 to 0.55556, saving model to /home/katieyth/gynecology/model_save/management/management_190119171504/model.h5\n",
      "50/50 [==============================] - 2s 49ms/step - loss: 17.2049 - acc: 0.6096 - gradient_norm: 9.4042 - val_loss: 17.3650 - val_acc: 0.5556 - val_gradient_norm: 20.1655\n",
      "Epoch 7/15\n",
      "49/50 [============================>.] - ETA: 0s - loss: 17.1119 - acc: 0.5956 - gradient_norm: 8.6834\n",
      "Epoch 00007: val_acc improved from 0.55556 to 0.60000, saving model to /home/katieyth/gynecology/model_save/management/management_190119171504/model.h5\n",
      "50/50 [==============================] - 3s 51ms/step - loss: 17.1092 - acc: 0.5978 - gradient_norm: 8.6699 - val_loss: 17.2188 - val_acc: 0.6000 - val_gradient_norm: 19.1572\n",
      "Epoch 8/15\n",
      "48/50 [===========================>..] - ETA: 0s - loss: 16.9985 - acc: 0.6366 - gradient_norm: 8.7405\n",
      "Epoch 00008: val_acc improved from 0.60000 to 0.64444, saving model to /home/katieyth/gynecology/model_save/management/management_190119171504/model.h5\n",
      "50/50 [==============================] - 3s 52ms/step - loss: 16.9961 - acc: 0.6341 - gradient_norm: 8.6948 - val_loss: 17.1546 - val_acc: 0.6444 - val_gradient_norm: 22.3208\n",
      "Epoch 9/15\n",
      "49/50 [============================>.] - ETA: 0s - loss: 16.8971 - acc: 0.6281 - gradient_norm: 8.5624\n",
      "Epoch 00009: val_acc did not improve\n",
      "50/50 [==============================] - 2s 45ms/step - loss: 16.8941 - acc: 0.6289 - gradient_norm: 8.5803 - val_loss: 17.0548 - val_acc: 0.5556 - val_gradient_norm: 20.2399\n",
      "Epoch 10/15\n",
      "48/50 [===========================>..] - ETA: 0s - loss: 16.7875 - acc: 0.6628 - gradient_norm: 8.3301\n",
      "Epoch 00010: val_acc did not improve\n",
      "50/50 [==============================] - 2s 48ms/step - loss: 16.7868 - acc: 0.6615 - gradient_norm: 8.3095 - val_loss: 16.9433 - val_acc: 0.6222 - val_gradient_norm: 19.6162\n",
      "Epoch 11/15\n",
      "49/50 [============================>.] - ETA: 0s - loss: 16.6861 - acc: 0.6757 - gradient_norm: 9.3510\n",
      "Epoch 00011: val_acc did not improve\n",
      "50/50 [==============================] - 2s 48ms/step - loss: 16.6837 - acc: 0.6778 - gradient_norm: 9.2972 - val_loss: 16.8331 - val_acc: 0.6444 - val_gradient_norm: 20.9491\n",
      "Epoch 12/15\n",
      "49/50 [============================>.] - ETA: 0s - loss: 16.5829 - acc: 0.6788 - gradient_norm: 8.1853\n",
      "Epoch 00012: val_acc improved from 0.64444 to 0.66667, saving model to /home/katieyth/gynecology/model_save/management/management_190119171504/model.h5\n",
      "50/50 [==============================] - 2s 44ms/step - loss: 16.5799 - acc: 0.6778 - gradient_norm: 8.1505 - val_loss: 16.7208 - val_acc: 0.6667 - val_gradient_norm: 19.8833\n",
      "Epoch 13/15\n",
      "48/50 [===========================>..] - ETA: 0s - loss: 16.4820 - acc: 0.6906 - gradient_norm: 9.0829\n",
      "Epoch 00013: val_acc did not improve\n",
      "50/50 [==============================] - 2s 39ms/step - loss: 16.4797 - acc: 0.6896 - gradient_norm: 8.9707 - val_loss: 16.6951 - val_acc: 0.5778 - val_gradient_norm: 24.8848\n",
      "Epoch 14/15\n",
      "49/50 [============================>.] - ETA: 0s - loss: 16.3711 - acc: 0.6946 - gradient_norm: 7.6101\n",
      "Epoch 00014: val_acc improved from 0.66667 to 0.68889, saving model to /home/katieyth/gynecology/model_save/management/management_190119171504/model.h5\n",
      "50/50 [==============================] - 3s 54ms/step - loss: 16.3700 - acc: 0.6956 - gradient_norm: 7.6407 - val_loss: 16.5296 - val_acc: 0.6889 - val_gradient_norm: 21.8367\n",
      "Epoch 15/15\n",
      "48/50 [===========================>..] - ETA: 0s - loss: 16.2638 - acc: 0.6983 - gradient_norm: 7.7749\n",
      "Epoch 00015: val_acc did not improve\n",
      "50/50 [==============================] - 2s 48ms/step - loss: 16.2622 - acc: 0.7000 - gradient_norm: 7.7753 - val_loss: 16.4471 - val_acc: 0.6889 - val_gradient_norm: 23.0892\n"
     ]
    },
    {
     "data": {
      "text/plain": [
       "<keras.callbacks.History at 0x7fe67a2b07b8>"
      ]
     },
     "execution_count": 11,
     "metadata": {},
     "output_type": "execute_result"
    }
   ],
   "source": [
    "model.fit_generator(generator=train_gen,\n",
    "                    class_weight=weight_list[0],\n",
    "                    validation_data=(Xtest, Ytest[0]),\n",
    "                    steps_per_epoch=50, \n",
    "                    epochs=FLAG.epoch,\n",
    "                    verbose=1,\n",
    "                    callbacks=[csv_logger,\n",
    "                            reduce_lr, \n",
    "                            checkpoint,\n",
    "                            earlystop\n",
    "                              ])\n"
   ]
  },
  {
   "cell_type": "code",
   "execution_count": 12,
   "metadata": {
    "code_folding": []
   },
   "outputs": [],
   "source": [
    "def plot_keras_csv_logger(csv_logger, save_dir='', accuracy=False, gradient=False):\n",
    "    if type(csv_logger) is str:\n",
    "        loss = pd.read_table(csv_logger, delimiter=',')\n",
    "    else:\n",
    "        loss = pd.read_table(csv_logger.filename, delimiter=',')\n",
    "    print('min val_loss {0} at epoch {1}'.format(min(loss.val_loss), np.argmin(loss.val_loss)))\n",
    "    plt.plot(loss.epoch, loss.loss, label='loss')\n",
    "    plt.plot(loss.epoch, loss.val_loss, label='val_loss')\n",
    "    plt.legend()\n",
    "    plt.xlabel('epoch')\n",
    "    plt.ylabel('loss')\n",
    "    plt.savefig(os.path.join(save_dir, 'loss.png'))\n",
    "    plt.show()\n",
    "    plt.close()\n",
    "\n",
    "    if accuracy:        \n",
    "        print('max val_accu {0} at epoch {1}'.format(max(loss.val_acc), np.argmax(loss.val_acc)))\n",
    "        plt.plot(loss.epoch, loss.acc, label='acc')\n",
    "        plt.plot(loss.epoch, loss.val_acc, label='val_acc')\n",
    "        plt.legend()\n",
    "        plt.xlabel('epoch')\n",
    "        plt.ylabel('accuracy')\n",
    "        plt.savefig(os.path.join(save_dir, 'man_acc.png'))\n",
    "        plt.show()\n",
    "        plt.close()\n",
    "        \n",
    "        \n",
    "    if gradient:\n",
    "        plt.plot(loss.epoch, loss.gradient_norm, label='gradient_norm')\n",
    "        plt.legend()\n",
    "        plt.xlabel('epoch')\n",
    "        plt.ylabel('gradient_norm')\n",
    "        plt.savefig(os.path.join(save_dir, 'gradient.png'))\n",
    "        plt.show()\n",
    "        plt.close()"
   ]
  },
  {
   "cell_type": "code",
   "execution_count": 13,
   "metadata": {
    "scrolled": true
   },
   "outputs": [
    {
     "name": "stdout",
     "output_type": "stream",
     "text": [
      "min val_loss 16.447109603881835 at epoch 14\n"
     ]
    },
    {
     "name": "stderr",
     "output_type": "stream",
     "text": [
      "/usr/local/lib/python3.5/dist-packages/numpy/core/fromnumeric.py:52: FutureWarning: 'argmin' is deprecated, use 'idxmin' instead. The behavior of 'argmin'\n",
      "will be corrected to return the positional minimum in the future.\n",
      "Use 'series.values.argmin' to get the position of the minimum now.\n",
      "  return getattr(obj, method)(*args, **kwds)\n"
     ]
    },
    {
     "data": {
      "image/png": "[encoded data removed]",
      "text/plain": [
       "<matplotlib.figure.Figure at 0x7fe67411c400>"
      ]
     },
     "metadata": {},
     "output_type": "display_data"
    },
    {
     "name": "stderr",
     "output_type": "stream",
     "text": [
      "/usr/local/lib/python3.5/dist-packages/numpy/core/fromnumeric.py:52: FutureWarning: 'argmax' is deprecated, use 'idxmax' instead. The behavior of 'argmax'\n",
      "will be corrected to return the positional maximum in the future.\n",
      "Use 'series.values.argmax' to get the position of the maximum now.\n",
      "  return getattr(obj, method)(*args, **kwds)\n"
     ]
    },
    {
     "name": "stdout",
     "output_type": "stream",
     "text": [
      "max val_accu 0.6888889074325562 at epoch 13\n"
     ]
    },
    {
     "data": {
      "image/png": "[encoded data removed]",
      "text/plain": [
       "<matplotlib.figure.Figure at 0x7fe674102eb8>"
      ]
     },
     "metadata": {},
     "output_type": "display_data"
    },
    {
     "data": {
      "image/png": "[encoded data removed]",
      "text/plain": [
       "<matplotlib.figure.Figure at 0x7fe65c063fd0>"
      ]
     },
     "metadata": {},
     "output_type": "display_data"
    }
   ],
   "source": [
    "plot_keras_csv_logger(csv_logger, save_dir=model_save, accuracy=True, gradient = True)"
   ]
  },
  {
   "cell_type": "code",
   "execution_count": 14,
   "metadata": {},
   "outputs": [
    {
     "name": "stdout",
     "output_type": "stream",
     "text": [
      "/home/katieyth/gynecology/model_save/management/management_190119171504\n"
     ]
    },
    {
     "name": "stderr",
     "output_type": "stream",
     "text": [
      "/usr/local/lib/python3.5/dist-packages/numpy/core/fromnumeric.py:52: FutureWarning: 'argmin' is deprecated, use 'idxmin' instead. The behavior of 'argmin'\n",
      "will be corrected to return the positional minimum in the future.\n",
      "Use 'series.values.argmin' to get the position of the minimum now.\n",
      "  return getattr(obj, method)(*args, **kwds)\n"
     ]
    }
   ],
   "source": [
    "path = model_save\n",
    "print(path)\n",
    "loss = pd.read_table(csv_logger.filename, delimiter=',')\n",
    "best_val_loss = np.min(loss.val_loss)\n",
    "best_epoch = np.argmin(loss.val_loss)\n",
    "\n",
    "\n",
    "# model_id =  'multi_190114123245'\n",
    "# path = os.path.join(FLAG.model_save,FLAG.target, model_id)\n",
    "# loss = pd.read_table(os.path.join(path, 'training.log'), delimiter=',')\n",
    "# best_val_loss = np.min(loss.val_loss)\n",
    "# best_epoch = np.argmin(loss.val_loss)\n",
    "# model_save = '.'\n"
   ]
  },
  {
   "cell_type": "code",
   "execution_count": 15,
   "metadata": {},
   "outputs": [],
   "source": [
    "# evaluate validation set\n",
    "trained_model = load_model(os.path.join(path,'model.h5'))\n",
    "Pred = trained_model.predict(Xtest)\n"
   ]
  },
  {
   "cell_type": "code",
   "execution_count": 16,
   "metadata": {},
   "outputs": [],
   "source": [
    "def plot_confusion_matrix(cm, classes,\n",
    "                          normalize=False,\n",
    "                          title='Confusion matrix',\n",
    "                          cmap=plt.cm.Blues,\n",
    "                          save_dir=''):\n",
    "    \"\"\"\n",
    "    This function prints and plots the confusion matrix.\n",
    "    Normalization can be applied by setting `normalize=True`.\n",
    "    \"\"\"\n",
    "    if normalize:\n",
    "        cm = cm.astype('float') / cm.sum(axis=1)[:, np.newaxis]\n",
    "        print(\"Normalized confusion matrix\")\n",
    "    else:\n",
    "        print('Confusion matrix, without normalization')\n",
    "\n",
    "    print(cm)\n",
    "\n",
    "    plt.imshow(cm, interpolation='nearest', cmap=cmap)\n",
    "    plt.title(title)\n",
    "    plt.colorbar()\n",
    "    tick_marks = np.arange(len(classes))\n",
    "    plt.xticks(tick_marks, classes, rotation=45)\n",
    "    plt.yticks(tick_marks, classes)\n",
    "\n",
    "    fmt = '.2f' if normalize else 'd'\n",
    "    thresh = cm.max() / 2.\n",
    "    for i, j in itertools.product(range(cm.shape[0]), range(cm.shape[1])):\n",
    "        plt.text(j, i, format(cm[i, j], fmt),\n",
    "                 horizontalalignment=\"center\",\n",
    "                 color=\"white\" if cm[i, j] > thresh else \"black\")\n",
    "\n",
    "    plt.tight_layout()\n",
    "    plt.ylabel('True label')\n",
    "    plt.xlabel('Predicted label')\n",
    "    if not save_dir =='':\n",
    "        plt.savefig(os.path.join(save_dir))"
   ]
  },
  {
   "cell_type": "code",
   "execution_count": 17,
   "metadata": {
    "code_folding": []
   },
   "outputs": [
    {
     "name": "stdout",
     "output_type": "stream",
     "text": [
      "management accuracy :  0.6888888888888889\n",
      "management_recall-0 : 0.8571\n",
      "management_recall-1 : 0.4000\n",
      "management_recall-2 : 0.5000\n",
      "management_recall-average : 0.5857\n",
      "management_precision-0: 0.8000\n",
      "management_precision-1: 0.6000\n",
      "management_precision-2: 0.2000\n",
      "management_precision-average : 0.5333\n",
      "management_F1-0: 0.8276\n",
      "management_F1-1: 0.4800\n",
      "management_F1-2: 0.2857\n",
      "management_F1-average : 0.5311\n",
      "Confusion matrix, without normalization\n",
      "[[24  3  1]\n",
      " [ 6  6  3]\n",
      " [ 0  1  1]]\n",
      "management_2_recall-0 : 0.8571\n",
      "management_2_recall-1 : 0.6471\n",
      "management_2_recall-average : 0.7521\n",
      "management_2_precision-0: 0.8000\n",
      "management_2_precision-1: 0.7333\n",
      "management_2_precision-average : 0.7667\n",
      "management_2_F1-0: 0.8276\n",
      "management_2_F1-1: 0.6875\n",
      "management_2_F1-average : 0.7575\n",
      "Confusion matrix, without normalization\n",
      "[[24  4]\n",
      " [ 6 11]]\n"
     ]
    },
    {
     "data": {
      "image/png": "[encoded data removed]",
      "text/plain": [
       "<matplotlib.figure.Figure at 0x7fe4eb5ebdd8>"
      ]
     },
     "metadata": {},
     "output_type": "display_data"
    },
    {
     "data": {
      "image/png": "[encoded data removed]",
      "text/plain": [
       "<matplotlib.figure.Figure at 0x7fe4eb5ebe10>"
      ]
     },
     "metadata": {},
     "output_type": "display_data"
    }
   ],
   "source": [
    "# save into dictionary\n",
    "sav = vars(FLAG)\n",
    "sav['epoch'] = best_epoch\n",
    "sav['val_loss'] = best_val_loss\n",
    "sav['model_id'] = model_id\n",
    "\n",
    "c_list=['management']\n",
    "c = 0\n",
    "ypred_aug = np.argmax(Pred , axis=1)\n",
    "ytest_aug = np.argmax(Ytest[0], axis=1)\n",
    "\n",
    "cfm = confusion_matrix(y_pred=ypred_aug, y_true=ytest_aug)\n",
    "recall = np.diag(cfm) / np.sum(cfm, axis=1)\n",
    "precision = np.diag(cfm) / np.sum(cfm, axis=0)\n",
    "val_accu = accuracy_score(y_pred=ypred_aug, y_true=ytest_aug)\n",
    "f1 = f1_score(y_pred=ypred_aug, y_true=ytest_aug, average=None)\n",
    "#         _val_recall = recall_score(val_targ, val_predict, average=None)\n",
    "#         _val_precision = precision_score(val_targ, val_predict, average=None)\n",
    "    \n",
    "    \n",
    "\n",
    "print('%s accuracy : ' % (c_list[c]), val_accu)\n",
    "tmp_list = []\n",
    "for i in range(len(recall)):\n",
    "    print('%s_recall-%d : %.4f' %(c_list[c],i, recall[i]))\n",
    "    sav['%s_recall-%d' %(c_list[c], i)] = recall[i]\n",
    "    tmp_list.append(recall[i])\n",
    "print('%s_recall-average : %.4f' %(c_list[c], sum(tmp_list)/len(tmp_list)))\n",
    "sav['%s_recall-average' %(c_list[c])] = sum(tmp_list)/len(tmp_list)\n",
    "\n",
    "tmp_list = []\n",
    "for i in range(len(precision)):\n",
    "    print('%s_precision-%d: %.4f' % (c_list[c],i, precision[i]))\n",
    "    sav['%s_precision-%d' %(c_list[c], i)] = precision[i]\n",
    "    tmp_list.append(precision[i])\n",
    "print('%s_precision-average : %.4f' %(c_list[c], sum(tmp_list)/len(tmp_list)))\n",
    "sav['%s_precision-average' %(c_list[c])] = sum(tmp_list)/len(tmp_list)\n",
    "\n",
    "tmp_list = []\n",
    "for i in range(len(f1)):\n",
    "    print('%s_F1-%d: %.4f' % (c_list[c],i, f1[i]))\n",
    "    sav['%s_F1-%d' %(c_list[c], i)] = f1[i]\n",
    "    tmp_list.append(f1[i])\n",
    "print('%s_F1-average : %.4f' %(c_list[c], sum(tmp_list)/len(tmp_list)))\n",
    "sav['%s_F1-average' %(c_list[c])] = sum(tmp_list)/len(tmp_list)\n",
    "\n",
    "sav['val_%s_acc' %(c_list[c])] = val_accu\n",
    "\n",
    "plt.figure()\n",
    "rcl = [round(recall[i],2) for i in range(len(recall))]\n",
    "plot_confusion_matrix(cfm, classes=np.arange(len(recall)),\n",
    "                      title='%s acc: %.2f \\nrecall: %s' %(c_list[c], val_accu,rcl),\n",
    "                      save_dir=model_save+'/%s_cm.png' % (c_list[c]) )\n",
    "# force management to 2 label \n",
    "\n",
    "c_list=['management_2']\n",
    "c= 0\n",
    "# evaluate by every segment\n",
    "ypred_aug = np.argmax(Pred , axis=1)\n",
    "ytest_aug = np.argmax(Ytest[0], axis=1)\n",
    "ypred_aug[ypred_aug>1]=1\n",
    "ytest_aug[ytest_aug>1]=1\n",
    "\n",
    "cfm = confusion_matrix(y_pred=ypred_aug, y_true=ytest_aug)\n",
    "recall = np.diag(cfm) / np.sum(cfm, axis=1)\n",
    "precision = np.diag(cfm) / np.sum(cfm, axis=0)\n",
    "val_accu = accuracy_score(y_pred=ypred_aug, y_true=ytest_aug)\n",
    "f1 = f1_score(y_pred=ypred_aug, y_true=ytest_aug, average=None)\n",
    "\n",
    "tmp_list = []\n",
    "for i in range(len(recall)):\n",
    "    print('%s_recall-%d : %.4f' %(c_list[idx],i, recall[i]))\n",
    "    sav['%s_recall-%d' %(c_list[idx], i)] = recall[i]\n",
    "    tmp_list.append(recall[i])\n",
    "print('%s_recall-average : %.4f' %(c_list[idx], sum(tmp_list)/len(tmp_list)))\n",
    "sav['%s_recall-average' %(c_list[idx])] = sum(tmp_list)/len(tmp_list)\n",
    "\n",
    "tmp_list = []\n",
    "for i in range(len(precision)):\n",
    "    print('%s_precision-%d: %.4f' % (c_list[idx],i, precision[i]))\n",
    "    sav['%s_precision-%d' %(c_list[idx], i)] = precision[i]\n",
    "    tmp_list.append(precision[i])\n",
    "print('%s_precision-average : %.4f' %(c_list[idx], sum(tmp_list)/len(tmp_list)))\n",
    "sav['%s_precision-average' %(c_list[idx])] = sum(tmp_list)/len(tmp_list)\n",
    "\n",
    "tmp_list = []\n",
    "for i in range(len(f1)):\n",
    "    print('%s_F1-%d: %.4f' % (c_list[idx],i, f1[i]))\n",
    "    sav['%s_F1-%d' %(c_list[idx], i)] = f1[i]\n",
    "    tmp_list.append(f1[i])\n",
    "print('%s_F1-average : %.4f' %(c_list[idx], sum(tmp_list)/len(tmp_list)))\n",
    "sav['%s_F1-average' %(c_list[idx])] = sum(tmp_list)/len(tmp_list)\n",
    "\n",
    "sav['val_%s_acc' %(c_list[idx])] = val_accu\n",
    "\n",
    "plt.figure()\n",
    "rcl = [round(recall[i],2) for i in range(len(recall))]\n",
    "plot_confusion_matrix(cfm, classes=np.arange(len(recall)), \n",
    "                      title='%s acc: %.2f \\nrecall: %s' %(c_list[idx], val_accu,rcl),\n",
    "                      save_dir=model_save+'/%s_cm.png' % (c_list[idx]) )\n"
   ]
  },
  {
   "cell_type": "code",
   "execution_count": 18,
   "metadata": {},
   "outputs": [
    {
     "name": "stdout",
     "output_type": "stream",
     "text": [
      "/home/katieyth/gynecology/model_save/management/summary_management_.csv\n"
     ]
    },
    {
     "name": "stderr",
     "output_type": "stream",
     "text": [
      "/usr/local/lib/python3.5/dist-packages/ipykernel_launcher.py:5: FutureWarning: Sorting because non-concatenation axis is not aligned. A future version\n",
      "of pandas will change to not sort by default.\n",
      "\n",
      "To accept the future behavior, pass 'sort=False'.\n",
      "\n",
      "To retain the current behavior and silence the warning, pass 'sort=True'.\n",
      "\n",
      "  \"\"\"\n"
     ]
    }
   ],
   "source": [
    "# append into summary files\n",
    "dnew = pd.DataFrame(sav, index=[0])\n",
    "if os.path.exists(summary_save):\n",
    "    dori = pd.read_csv(summary_save)\n",
    "    dori = pd.concat([dori, dnew])\n",
    "    dori.to_csv(summary_save, index=False)\n",
    "else:\n",
    "    dnew.to_csv(summary_save, index=False)\n",
    "\n",
    "print(summary_save)\n",
    "\n"
   ]
  },
  {
   "cell_type": "code",
   "execution_count": null,
   "metadata": {},
   "outputs": [],
   "source": []
  }
 ],
 "metadata": {
  "kernelspec": {
   "display_name": "Python 3",
   "language": "python",
   "name": "python3"
  },
  "language_info": {
   "codemirror_mode": {
    "name": "ipython",
    "version": 3
   },
   "file_extension": ".py",
   "mimetype": "text/x-python",
   "name": "python",
   "nbconvert_exporter": "python",
   "pygments_lexer": "ipython3",
   "version": "3.5.2"
  }
 },
 "nbformat": 4,
 "nbformat_minor": 2
}
